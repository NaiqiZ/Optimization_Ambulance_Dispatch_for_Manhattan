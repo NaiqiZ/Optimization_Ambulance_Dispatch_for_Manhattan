{
 "cells": [
  {
   "cell_type": "code",
   "execution_count": 2,
   "id": "51007a87-026c-4683-9c81-f7422f88b766",
   "metadata": {},
   "outputs": [
    {
     "name": "stderr",
     "output_type": "stream",
     "text": [
      "WARNING: redefinition of constant Main.GRB_ENV. This may fail, cause incorrect answers, or produce other errors.\n"
     ]
    },
    {
     "data": {
      "text/plain": [
       "solve_robust_minmax (generic function with 1 method)"
      ]
     },
     "execution_count": 2,
     "metadata": {},
     "output_type": "execute_result"
    }
   ],
   "source": [
    "using DataFrames, CSV\n",
    "using JuMP, Gurobi\n",
    "using LinearAlgebra, Random, Printf, StatsBase, CategoricalArrays\n",
    "using Plots\n",
    "const GRB_ENV = Gurobi.Env(output_flag=0)\n",
    "\n",
    "# Data preprocessing\n",
    "dispatch_data = CSV.read(\"zipcode_incident_data.csv\", DataFrame)\n",
    "wait_time = CSV.read(\"wait_time_matrix.csv\", DataFrame, header=false) |> Matrix\n",
    "ambulance_capacity = CSV.read(\"capacity_changed.csv\", DataFrame)\n",
    "zipcode_to_index = CSV.read(\"zipcode_to_index.csv\", DataFrame)\n",
    "merged_data = leftjoin(zipcode_to_index, dispatch_data, on=:Zipcode => :ZIPCODE)\n",
    "sorted_dispatch_data = sort(merged_data, :Index)\n",
    "\n",
    "# Convert missing values to 0\n",
    "sorted_dispatch_data.INCIDENT_COUNT .= coalesce.(sorted_dispatch_data.INCIDENT_COUNT, 0)\n",
    "capacity_vector = ambulance_capacity[!,\"CAPACITY\"]\n",
    "demand_vector = sorted_dispatch_data[!,\"INCIDENT_COUNT\"]\n",
    "\n",
    "# Model parameters\n",
    "num_areas = 9\n",
    "num_zipcodes = 90\n",
    "Γ_C = 2  # Budget for capacity uncertainty\n",
    "Γ_D = 3  # Budget for demand uncertainty\n",
    "Δ_C = 0.1 .* capacity_vector  # 10% deviation in capacity\n",
    "Δ_D = 0.15 .* demand_vector  # 15% deviation in demand\n",
    "\n",
    "# Function to build and solve robust min-sum model\n",
    "function solve_robust_minsum()\n",
    "    model = Model(Gurobi.Optimizer)\n",
    "    \n",
    "    @variable(model, S[1:num_areas, 1:num_zipcodes] >= 0, Int)\n",
    "    \n",
    "    @objective(model, Min, sum(S[i,j] * wait_time[i,j] \n",
    "               for i in 1:num_areas, j in 1:num_zipcodes))\n",
    "    \n",
    "    @constraint(model, [i in 1:num_areas], \n",
    "        sum(S[i,j] for j in 1:num_zipcodes) <= capacity_vector[i] - Γ_C * Δ_C[i])\n",
    "    \n",
    "    @constraint(model, [j in 1:num_zipcodes], \n",
    "        sum(S[i,j] for i in 1:num_areas) >= demand_vector[j] + Γ_D * Δ_D[j])\n",
    "    \n",
    "    optimize!(model)\n",
    "    return model\n",
    "end\n",
    "\n",
    "# Function to build and solve robust min-max model\n",
    "function solve_robust_minmax()\n",
    "    model = Model(Gurobi.Optimizer)\n",
    "    \n",
    "    @variable(model, S[1:num_areas, 1:num_zipcodes] >= 0, Int)\n",
    "    @variable(model, z[1:num_areas, 1:num_zipcodes], Bin)\n",
    "    @variable(model, T >= 0)\n",
    "    \n",
    "    @objective(model, Min, T)\n",
    "    \n",
    "    @constraint(model, [i in 1:num_areas, j in 1:num_zipcodes], \n",
    "        S[i,j] <= z[i,j] * 1e6)\n",
    "    @constraint(model, [i in 1:num_areas, j in 1:num_zipcodes], \n",
    "        S[i,j] >= z[i,j])\n",
    "    \n",
    "    @constraint(model, [i in 1:num_areas, j in 1:num_zipcodes], \n",
    "        T >= wait_time[i,j] * z[i,j])\n",
    "    \n",
    "    @constraint(model, [i in 1:num_areas], \n",
    "        sum(S[i,j] for j in 1:num_zipcodes) <= capacity_vector[i] - Γ_C * Δ_C[i])\n",
    "    \n",
    "    @constraint(model, [j in 1:num_zipcodes], \n",
    "        sum(S[i,j] for i in 1:num_areas) >= demand_vector[j] + Γ_D * Δ_D[j])\n",
    "    \n",
    "    optimize!(model)\n",
    "    return model\n",
    "end"
   ]
  },
  {
   "cell_type": "code",
   "execution_count": 3,
   "id": "dedc9975-9783-450f-8a8b-9b2868e1b02f",
   "metadata": {},
   "outputs": [
    {
     "data": {
      "text/plain": [
       "calculate_metrics (generic function with 1 method)"
      ]
     },
     "execution_count": 3,
     "metadata": {},
     "output_type": "execute_result"
    }
   ],
   "source": [
    "# Function to calculate performance metrics\n",
    "function calculate_metrics(S, wait_time)\n",
    "    response_times = [S[i,j] * wait_time[i,j] \n",
    "                     for i=1:num_areas, j=1:num_zipcodes if S[i,j] > 0]\n",
    "    \n",
    "    return Dict(\n",
    "        \"avg_response_time\" => mean(response_times),\n",
    "        \"max_response_time\" => maximum(response_times),\n",
    "        \"std_response_time\" => std(response_times),\n",
    "        \"station_utilization\" => [sum(S[i,:]) / capacity_vector[i] \n",
    "                                for i=1:num_areas]\n",
    "    )\n",
    "end\n"
   ]
  },
  {
   "cell_type": "code",
   "execution_count": 4,
   "id": "c3a4564b-8ae9-437b-b13c-5eeb2a49b355",
   "metadata": {},
   "outputs": [
    {
     "name": "stdout",
     "output_type": "stream",
     "text": [
      "Set parameter Username\n",
      "Academic license - for non-commercial use only - expires 2025-08-19\n",
      "Gurobi Optimizer version 11.0.3 build v11.0.3rc0 (win64 - Windows 11.0 (22631.2))\n",
      "\n",
      "CPU model: 12th Gen Intel(R) Core(TM) i7-1255U, instruction set [SSE2|AVX|AVX2]\n",
      "Thread count: 10 physical cores, 12 logical processors, using up to 12 threads\n",
      "\n",
      "Optimize a model with 99 rows, 810 columns and 1620 nonzeros\n",
      "Model fingerprint: 0x11bcd536\n",
      "Variable types: 0 continuous, 810 integer (0 binary)\n",
      "Coefficient statistics:\n",
      "  Matrix range     [1e+00, 1e+00]\n",
      "  Objective range  [1e+02, 1e+06]\n",
      "  Bounds range     [0e+00, 0e+00]\n",
      "  RHS range        [1e+00, 2e+01]\n",
      "Found heuristic solution: objective 2598415.0000\n",
      "Presolve removed 66 rows and 594 columns\n",
      "Presolve time: 0.00s\n",
      "Presolved: 33 rows, 216 columns, 432 nonzeros\n",
      "Variable types: 0 continuous, 216 integer (0 binary)\n",
      "Found heuristic solution: objective 1486485.0000\n",
      "\n",
      "Root relaxation: objective 1.558880e+05, 39 iterations, 0.00 seconds (0.00 work units)\n",
      "\n",
      "    Nodes    |    Current Node    |     Objective Bounds      |     Work\n",
      " Expl Unexpl |  Obj  Depth IntInf | Incumbent    BestBd   Gap | It/Node Time\n",
      "\n",
      "*    0     0               0    155888.00000 155888.000  0.00%     -    0s\n",
      "\n",
      "Explored 1 nodes (39 simplex iterations) in 0.00 seconds (0.00 work units)\n",
      "Thread count was 12 (of 12 available processors)\n",
      "\n",
      "Solution count 3: 155888 1.48649e+06 2.59842e+06 \n",
      "\n",
      "Optimal solution found (tolerance 1.00e-04)\n",
      "Best objective 1.558880000000e+05, best bound 1.558880000000e+05, gap 0.0000%\n",
      "\n",
      "User-callback calls 222, time in user-callback 0.00 sec\n",
      "Set parameter Username\n",
      "Academic license - for non-commercial use only - expires 2025-08-19\n",
      "Gurobi Optimizer version 11.0.3 build v11.0.3rc0 (win64 - Windows 11.0 (22631.2))\n",
      "\n",
      "CPU model: 12th Gen Intel(R) Core(TM) i7-1255U, instruction set [SSE2|AVX|AVX2]\n",
      "Thread count: 10 physical cores, 12 logical processors, using up to 12 threads\n",
      "\n",
      "Optimize a model with 2529 rows, 1621 columns and 6480 nonzeros\n",
      "Model fingerprint: 0xde3f6265\n",
      "Variable types: 1 continuous, 1620 integer (810 binary)\n",
      "Coefficient statistics:\n",
      "  Matrix range     [1e+00, 1e+06]\n",
      "  Objective range  [1e+00, 1e+00]\n",
      "  Bounds range     [0e+00, 0e+00]\n",
      "  RHS range        [1e+00, 2e+01]\n",
      "Found heuristic solution: objective 1000000.0000\n",
      "Presolve removed 1848 rows and 1188 columns\n",
      "Presolve time: 0.00s\n",
      "Presolved: 681 rows, 433 columns, 1728 nonzeros\n",
      "Variable types: 0 continuous, 433 integer (216 binary)\n",
      "\n",
      "Root relaxation: objective 1.810677e+03, 527 iterations, 0.02 seconds (0.00 work units)\n",
      "\n",
      "    Nodes    |    Current Node    |     Objective Bounds      |     Work\n",
      " Expl Unexpl |  Obj  Depth IntInf | Incumbent    BestBd   Gap | It/Node Time\n",
      "\n",
      "     0     0 1810.67664    0  102 1000000.00 1810.67664   100%     -    0s\n",
      "H    0     0                    28237.000000 1810.67664  93.6%     -    0s\n",
      "H    0     0                    12327.000000 1810.67664  85.3%     -    0s\n",
      "H    0     0                    8771.0000000 1810.67664  79.4%     -    0s\n",
      "H    0     0                    7968.0000000 1810.67664  77.3%     -    0s\n",
      "\n",
      "Cutting planes:\n",
      "  MIR: 3\n",
      "  Flow cover: 7\n",
      "  Zero half: 1\n",
      "  Relax-and-lift: 1\n",
      "\n",
      "Explored 1 nodes (1151 simplex iterations) in 0.04 seconds (0.02 work units)\n",
      "Thread count was 12 (of 12 available processors)\n",
      "\n",
      "Solution count 5: 7968 8771 12327 ... 1e+06\n",
      "\n",
      "Optimal solution found (tolerance 1.00e-04)\n",
      "Best objective 7.968000000000e+03, best bound 7.968000000000e+03, gap 0.0000%\n",
      "\n",
      "User-callback calls 254, time in user-callback 0.00 sec\n"
     ]
    },
    {
     "data": {
      "text/plain": [
       "Dict{String, Any} with 4 entries:\n",
       "  \"std_response_time\"   => 8012.76\n",
       "  \"station_utilization\" => [0.8, 0.346154, 0.285714, 0.777778, 0.625, 0.75, 0.7…\n",
       "  \"max_response_time\"   => 34875.0\n",
       "  \"avg_response_time\"   => 7519.57"
      ]
     },
     "execution_count": 4,
     "metadata": {},
     "output_type": "execute_result"
    }
   ],
   "source": [
    "# Solve both models\n",
    "minsum_model = solve_robust_minsum()\n",
    "minmax_model = solve_robust_minmax()\n",
    "\n",
    "# Get solution values\n",
    "minsum_S = value.(minsum_model[:S])\n",
    "minmax_S = value.(minmax_model[:S])\n",
    "\n",
    "# Calculate metrics\n",
    "minsum_metrics = calculate_metrics(minsum_S, wait_time)\n",
    "minmax_metrics = calculate_metrics(minmax_S, wait_time)"
   ]
  },
  {
   "cell_type": "code",
   "execution_count": 5,
   "id": "4fdebf30-d836-4ab7-bf56-506240655bc5",
   "metadata": {},
   "outputs": [
    {
     "data": {
      "text/plain": [
       "plot_response_times (generic function with 1 method)"
      ]
     },
     "execution_count": 5,
     "metadata": {},
     "output_type": "execute_result"
    }
   ],
   "source": [
    "# Visualization functions\n",
    "function plot_response_times()\n",
    "    minsum_times = [minsum_S[i,j] * wait_time[i,j] \n",
    "                   for i=1:num_areas, j=1:num_zipcodes if minsum_S[i,j] > 0]\n",
    "    minmax_times = [minmax_S[i,j] * wait_time[i,j] \n",
    "                   for i=1:num_areas, j=1:num_zipcodes if minmax_S[i,j] > 0]\n",
    "    \n",
    "    p = histogram(minsum_times, alpha=0.5, label=\"Min-Sum\", normalize=true)\n",
    "    histogram!(minmax_times, alpha=0.5, label=\"Min-Max\", normalize=true)\n",
    "    title!(\"Response Time Distribution\")\n",
    "    xlabel!(\"Response Time\")\n",
    "    ylabel!(\"Frequency\")\n",
    "    return p\n",
    "end"
   ]
  },
  {
   "cell_type": "code",
   "execution_count": 6,
   "id": "46d00274-e1ad-47f8-ae61-d291f8e2450a",
   "metadata": {},
   "outputs": [
    {
     "data": {
      "text/plain": [
       "plot_station_utilization (generic function with 1 method)"
      ]
     },
     "execution_count": 6,
     "metadata": {},
     "output_type": "execute_result"
    }
   ],
   "source": [
    "function plot_station_utilization()\n",
    "    p = bar(1:num_areas, minsum_metrics[\"station_utilization\"], \n",
    "           alpha=0.5, label=\"Min-Sum\")\n",
    "    bar!(1:num_areas, minmax_metrics[\"station_utilization\"], \n",
    "         alpha=0.5, label=\"Min-Max\")\n",
    "    title!(\"Station Utilization Comparison\")\n",
    "    xlabel!(\"Station ID\")\n",
    "    ylabel!(\"Utilization Rate\")\n",
    "    return p\n",
    "end"
   ]
  },
  {
   "cell_type": "code",
   "execution_count": 7,
   "id": "8996bb3e-8d64-4985-b1ec-ad3a19bf20e9",
   "metadata": {},
   "outputs": [
    {
     "data": {
      "text/html": [
       "<div><div style = \"float: left;\"><span>3×3 DataFrame</span></div><div style = \"clear: both;\"></div></div><div class = \"data-frame\" style = \"overflow-x: scroll;\"><table class = \"data-frame\" style = \"margin-bottom: 6px;\"><thead><tr class = \"header\"><th class = \"rowNumber\" style = \"font-weight: bold; text-align: right;\">Row</th><th style = \"text-align: left;\">Metric</th><th style = \"text-align: left;\">MinSum</th><th style = \"text-align: left;\">MinMax</th></tr><tr class = \"subheader headerLastRow\"><th class = \"rowNumber\" style = \"font-weight: bold; text-align: right;\"></th><th title = \"String\" style = \"text-align: left;\">String</th><th title = \"Float64\" style = \"text-align: left;\">Float64</th><th title = \"Float64\" style = \"text-align: left;\">Float64</th></tr></thead><tbody><tr><td class = \"rowNumber\" style = \"font-weight: bold; text-align: right;\">1</td><td style = \"text-align: left;\">Average Response Time</td><td style = \"text-align: right;\">5196.27</td><td style = \"text-align: right;\">7519.57</td></tr><tr><td class = \"rowNumber\" style = \"font-weight: bold; text-align: right;\">2</td><td style = \"text-align: left;\">Maximum Response Time</td><td style = \"text-align: right;\">15936.0</td><td style = \"text-align: right;\">34875.0</td></tr><tr><td class = \"rowNumber\" style = \"font-weight: bold; text-align: right;\">3</td><td style = \"text-align: left;\">Standard Deviation</td><td style = \"text-align: right;\">4112.96</td><td style = \"text-align: right;\">8012.76</td></tr></tbody></table></div>"
      ],
      "text/latex": [
       "\\begin{tabular}{r|ccc}\n",
       "\t& Metric & MinSum & MinMax\\\\\n",
       "\t\\hline\n",
       "\t& String & Float64 & Float64\\\\\n",
       "\t\\hline\n",
       "\t1 & Average Response Time & 5196.27 & 7519.57 \\\\\n",
       "\t2 & Maximum Response Time & 15936.0 & 34875.0 \\\\\n",
       "\t3 & Standard Deviation & 4112.96 & 8012.76 \\\\\n",
       "\\end{tabular}\n"
      ],
      "text/plain": [
       "\u001b[1m3×3 DataFrame\u001b[0m\n",
       "\u001b[1m Row \u001b[0m│\u001b[1m Metric                \u001b[0m\u001b[1m MinSum   \u001b[0m\u001b[1m MinMax   \u001b[0m\n",
       "     │\u001b[90m String                \u001b[0m\u001b[90m Float64  \u001b[0m\u001b[90m Float64  \u001b[0m\n",
       "─────┼───────────────────────────────────────────\n",
       "   1 │ Average Response Time   5196.27   7519.57\n",
       "   2 │ Maximum Response Time  15936.0   34875.0\n",
       "   3 │ Standard Deviation      4112.96   8012.76"
      ]
     },
     "execution_count": 7,
     "metadata": {},
     "output_type": "execute_result"
    }
   ],
   "source": [
    "# Create comparison table\n",
    "comparison_df = DataFrame(\n",
    "    Metric = [\"Average Response Time\", \"Maximum Response Time\", \n",
    "              \"Standard Deviation\"],\n",
    "    MinSum = [minsum_metrics[\"avg_response_time\"],\n",
    "              minsum_metrics[\"max_response_time\"],\n",
    "              minsum_metrics[\"std_response_time\"]],\n",
    "    MinMax = [minmax_metrics[\"avg_response_time\"],\n",
    "              minmax_metrics[\"max_response_time\"],\n",
    "              minmax_metrics[\"std_response_time\"]]\n",
    ")"
   ]
  },
  {
   "cell_type": "code",
   "execution_count": 8,
   "id": "7c4259d8-89ac-4f08-ac1f-4baf44d1aced",
   "metadata": {},
   "outputs": [
    {
     "name": "stdout",
     "output_type": "stream",
     "text": [
      "\n",
      "Comparison of Models:\n"
     ]
    },
    {
     "data": {
      "text/html": [
       "<div><div style = \"float: left;\"><span>3×3 DataFrame</span></div><div style = \"clear: both;\"></div></div><div class = \"data-frame\" style = \"overflow-x: scroll;\"><table class = \"data-frame\" style = \"margin-bottom: 6px;\"><thead><tr class = \"header\"><th class = \"rowNumber\" style = \"font-weight: bold; text-align: right;\">Row</th><th style = \"text-align: left;\">Metric</th><th style = \"text-align: left;\">MinSum</th><th style = \"text-align: left;\">MinMax</th></tr><tr class = \"subheader headerLastRow\"><th class = \"rowNumber\" style = \"font-weight: bold; text-align: right;\"></th><th title = \"String\" style = \"text-align: left;\">String</th><th title = \"Float64\" style = \"text-align: left;\">Float64</th><th title = \"Float64\" style = \"text-align: left;\">Float64</th></tr></thead><tbody><tr><td class = \"rowNumber\" style = \"font-weight: bold; text-align: right;\">1</td><td style = \"text-align: left;\">Average Response Time</td><td style = \"text-align: right;\">5196.27</td><td style = \"text-align: right;\">7519.57</td></tr><tr><td class = \"rowNumber\" style = \"font-weight: bold; text-align: right;\">2</td><td style = \"text-align: left;\">Maximum Response Time</td><td style = \"text-align: right;\">15936.0</td><td style = \"text-align: right;\">34875.0</td></tr><tr><td class = \"rowNumber\" style = \"font-weight: bold; text-align: right;\">3</td><td style = \"text-align: left;\">Standard Deviation</td><td style = \"text-align: right;\">4112.96</td><td style = \"text-align: right;\">8012.76</td></tr></tbody></table></div>"
      ],
      "text/latex": [
       "\\begin{tabular}{r|ccc}\n",
       "\t& Metric & MinSum & MinMax\\\\\n",
       "\t\\hline\n",
       "\t& String & Float64 & Float64\\\\\n",
       "\t\\hline\n",
       "\t1 & Average Response Time & 5196.27 & 7519.57 \\\\\n",
       "\t2 & Maximum Response Time & 15936.0 & 34875.0 \\\\\n",
       "\t3 & Standard Deviation & 4112.96 & 8012.76 \\\\\n",
       "\\end{tabular}\n"
      ],
      "text/plain": [
       "\u001b[1m3×3 DataFrame\u001b[0m\n",
       "\u001b[1m Row \u001b[0m│\u001b[1m Metric                \u001b[0m\u001b[1m MinSum   \u001b[0m\u001b[1m MinMax   \u001b[0m\n",
       "     │\u001b[90m String                \u001b[0m\u001b[90m Float64  \u001b[0m\u001b[90m Float64  \u001b[0m\n",
       "─────┼───────────────────────────────────────────\n",
       "   1 │ Average Response Time   5196.27   7519.57\n",
       "   2 │ Maximum Response Time  15936.0   34875.0\n",
       "   3 │ Standard Deviation      4112.96   8012.76"
      ]
     },
     "metadata": {},
     "output_type": "display_data"
    },
    {
     "name": "stdout",
     "output_type": "stream",
     "text": [
      "\n",
      "Objective Values:\n",
      "Min-Sum Objective: 155888.0\n",
      "Min-Max Objective: 7968.0\n"
     ]
    }
   ],
   "source": [
    "# Display results\n",
    "println(\"\\nComparison of Models:\")\n",
    "display(comparison_df)\n",
    "println(\"\\nObjective Values:\")\n",
    "println(\"Min-Sum Objective: \", objective_value(minsum_model))\n",
    "println(\"Min-Max Objective: \", objective_value(minmax_model))\n"
   ]
  },
  {
   "cell_type": "code",
   "execution_count": 9,
   "id": "df3513e7-3bc0-446f-98a6-ce852bfe6ca1",
   "metadata": {},
   "outputs": [
    {
     "data": {
      "image/png": "",
      "image/svg+xml": [],
      "text/html": []
     },
     "execution_count": 9,
     "metadata": {},
     "output_type": "execute_result"
    },
    {
     "name": "stderr",
     "output_type": "stream",
     "text": [
      "base64 binary data: b3BlbjogTm8gc3VjaCBmaWxlIG9yIGRpcmVjdG9yeQpvcGVuOiBObyBzdWNoIGZpbGUgb3IgZGlyZWN0b3J5Cm9wZW46IE5vIHN1Y2ggZmlsZSBvciBkaXJlY3RvcnkKb3BlbjogTm8gc3VjaCBmaWxlIG9yIGRpcmVjdG9yeQpHS1M6IGZpbGUgb3BlbiBlcnJvciAoQzpcVXNlcnNc0e7LvNOxXEFwcERhdGFcTG9jYWxcVGVtcFxqbF94TXI2eHlOSUZBLnN2ZykKR0tTOiBjYW4ndCBvcGVuIFNWRyBmaWxlCkdLUzogZmlsZSBvcGVuIGVycm9yIChDOlxVc2Vyc1zR7su807FcQXBwRGF0YVxMb2NhbFxUZW1wXGpsXzcyNWtEd0xXTFMuc3ZnKQpHS1M6IGNhbid0IG9wZW4gU1ZHIGZpbGUK\n"
     ]
    }
   ],
   "source": [
    "# Plot visualizations\n",
    "p1 = plot_response_times()\n",
    "p2 = plot_station_utilization()\n",
    "plot(p1, p2, layout=(2,1), size=(800,1000))"
   ]
  },
  {
   "cell_type": "code",
   "execution_count": null,
   "id": "cbb9216c-aa7a-40dd-bdba-90be0cb92a11",
   "metadata": {},
   "outputs": [],
   "source": []
  }
 ],
 "metadata": {
  "kernelspec": {
   "display_name": "Julia 1.10.4",
   "language": "julia",
   "name": "julia-1.10"
  },
  "language_info": {
   "file_extension": ".jl",
   "mimetype": "application/julia",
   "name": "julia",
   "version": "1.10.4"
  }
 },
 "nbformat": 4,
 "nbformat_minor": 5
}
