{
 "cells": [
  {
   "cell_type": "code",
   "execution_count": 1,
   "metadata": {},
   "outputs": [],
   "source": [
    "using DataFrames, CSV\n",
    "using JuMP, Gurobi\n",
    "using LinearAlgebra, Random, Printf, StatsBase, CategoricalArrays"
   ]
  },
  {
   "cell_type": "code",
   "execution_count": 2,
   "metadata": {},
   "outputs": [],
   "source": [
    "const GRB_ENV = Gurobi.Env(output_flag=0);\n"
   ]
  },
  {
   "cell_type": "markdown",
   "metadata": {},
   "source": [
    "# data import"
   ]
  },
  {
   "cell_type": "code",
   "execution_count": 3,
   "metadata": {},
   "outputs": [
    {
     "data": {
      "text/html": [
       "<div><div style = \"float: left;\"><span>24×2 DataFrame</span></div><div style = \"clear: both;\"></div></div><div class = \"data-frame\" style = \"overflow-x: scroll;\"><table class = \"data-frame\" style = \"margin-bottom: 6px;\"><thead><tr class = \"header\"><th class = \"rowNumber\" style = \"font-weight: bold; text-align: right;\">Row</th><th style = \"text-align: left;\">ZIPCODE</th><th style = \"text-align: left;\">INCIDENT_COUNT</th></tr><tr class = \"subheader headerLastRow\"><th class = \"rowNumber\" style = \"font-weight: bold; text-align: right;\"></th><th title = \"Int64\" style = \"text-align: left;\">Int64</th><th title = \"Int64\" style = \"text-align: left;\">Int64</th></tr></thead><tbody><tr><td class = \"rowNumber\" style = \"font-weight: bold; text-align: right;\">1</td><td style = \"text-align: right;\">10003</td><td style = \"text-align: right;\">4</td></tr><tr><td class = \"rowNumber\" style = \"font-weight: bold; text-align: right;\">2</td><td style = \"text-align: right;\">10027</td><td style = \"text-align: right;\">4</td></tr><tr><td class = \"rowNumber\" style = \"font-weight: bold; text-align: right;\">3</td><td style = \"text-align: right;\">10019</td><td style = \"text-align: right;\">3</td></tr><tr><td class = \"rowNumber\" style = \"font-weight: bold; text-align: right;\">4</td><td style = \"text-align: right;\">10039</td><td style = \"text-align: right;\">3</td></tr><tr><td class = \"rowNumber\" style = \"font-weight: bold; text-align: right;\">5</td><td style = \"text-align: right;\">10035</td><td style = \"text-align: right;\">3</td></tr><tr><td class = \"rowNumber\" style = \"font-weight: bold; text-align: right;\">6</td><td style = \"text-align: right;\">10014</td><td style = \"text-align: right;\">3</td></tr><tr><td class = \"rowNumber\" style = \"font-weight: bold; text-align: right;\">7</td><td style = \"text-align: right;\">10001</td><td style = \"text-align: right;\">3</td></tr><tr><td class = \"rowNumber\" style = \"font-weight: bold; text-align: right;\">8</td><td style = \"text-align: right;\">10025</td><td style = \"text-align: right;\">2</td></tr><tr><td class = \"rowNumber\" style = \"font-weight: bold; text-align: right;\">9</td><td style = \"text-align: right;\">10029</td><td style = \"text-align: right;\">2</td></tr><tr><td class = \"rowNumber\" style = \"font-weight: bold; text-align: right;\">10</td><td style = \"text-align: right;\">10002</td><td style = \"text-align: right;\">2</td></tr><tr><td class = \"rowNumber\" style = \"font-weight: bold; text-align: right;\">11</td><td style = \"text-align: right;\">10018</td><td style = \"text-align: right;\">2</td></tr><tr><td class = \"rowNumber\" style = \"font-weight: bold; text-align: right;\">12</td><td style = \"text-align: right;\">10011</td><td style = \"text-align: right;\">2</td></tr><tr><td class = \"rowNumber\" style = \"font-weight: bold; text-align: right;\">13</td><td style = \"text-align: right;\">10036</td><td style = \"text-align: right;\">1</td></tr><tr><td class = \"rowNumber\" style = \"font-weight: bold; text-align: right;\">14</td><td style = \"text-align: right;\">10017</td><td style = \"text-align: right;\">1</td></tr><tr><td class = \"rowNumber\" style = \"font-weight: bold; text-align: right;\">15</td><td style = \"text-align: right;\">10038</td><td style = \"text-align: right;\">1</td></tr><tr><td class = \"rowNumber\" style = \"font-weight: bold; text-align: right;\">16</td><td style = \"text-align: right;\">10065</td><td style = \"text-align: right;\">1</td></tr><tr><td class = \"rowNumber\" style = \"font-weight: bold; text-align: right;\">17</td><td style = \"text-align: right;\">10128</td><td style = \"text-align: right;\">1</td></tr><tr><td class = \"rowNumber\" style = \"font-weight: bold; text-align: right;\">18</td><td style = \"text-align: right;\">10031</td><td style = \"text-align: right;\">1</td></tr><tr><td class = \"rowNumber\" style = \"font-weight: bold; text-align: right;\">19</td><td style = \"text-align: right;\">10009</td><td style = \"text-align: right;\">1</td></tr><tr><td class = \"rowNumber\" style = \"font-weight: bold; text-align: right;\">20</td><td style = \"text-align: right;\">10026</td><td style = \"text-align: right;\">1</td></tr><tr><td class = \"rowNumber\" style = \"font-weight: bold; text-align: right;\">21</td><td style = \"text-align: right;\">10016</td><td style = \"text-align: right;\">1</td></tr><tr><td class = \"rowNumber\" style = \"font-weight: bold; text-align: right;\">22</td><td style = \"text-align: right;\">10013</td><td style = \"text-align: right;\">1</td></tr><tr><td class = \"rowNumber\" style = \"font-weight: bold; text-align: right;\">23</td><td style = \"text-align: right;\">10032</td><td style = \"text-align: right;\">1</td></tr><tr><td class = \"rowNumber\" style = \"font-weight: bold; text-align: right;\">24</td><td style = \"text-align: right;\">10034</td><td style = \"text-align: right;\">1</td></tr></tbody></table></div>"
      ],
      "text/latex": [
       "\\begin{tabular}{r|cc}\n",
       "\t& ZIPCODE & INCIDENT\\_COUNT\\\\\n",
       "\t\\hline\n",
       "\t& Int64 & Int64\\\\\n",
       "\t\\hline\n",
       "\t1 & 10003 & 4 \\\\\n",
       "\t2 & 10027 & 4 \\\\\n",
       "\t3 & 10019 & 3 \\\\\n",
       "\t4 & 10039 & 3 \\\\\n",
       "\t5 & 10035 & 3 \\\\\n",
       "\t6 & 10014 & 3 \\\\\n",
       "\t7 & 10001 & 3 \\\\\n",
       "\t8 & 10025 & 2 \\\\\n",
       "\t9 & 10029 & 2 \\\\\n",
       "\t10 & 10002 & 2 \\\\\n",
       "\t11 & 10018 & 2 \\\\\n",
       "\t12 & 10011 & 2 \\\\\n",
       "\t13 & 10036 & 1 \\\\\n",
       "\t14 & 10017 & 1 \\\\\n",
       "\t15 & 10038 & 1 \\\\\n",
       "\t16 & 10065 & 1 \\\\\n",
       "\t17 & 10128 & 1 \\\\\n",
       "\t18 & 10031 & 1 \\\\\n",
       "\t19 & 10009 & 1 \\\\\n",
       "\t20 & 10026 & 1 \\\\\n",
       "\t21 & 10016 & 1 \\\\\n",
       "\t22 & 10013 & 1 \\\\\n",
       "\t23 & 10032 & 1 \\\\\n",
       "\t24 & 10034 & 1 \\\\\n",
       "\\end{tabular}\n"
      ],
      "text/plain": [
       "\u001b[1m24×2 DataFrame\u001b[0m\n",
       "\u001b[1m Row \u001b[0m│\u001b[1m ZIPCODE \u001b[0m\u001b[1m INCIDENT_COUNT \u001b[0m\n",
       "     │\u001b[90m Int64   \u001b[0m\u001b[90m Int64          \u001b[0m\n",
       "─────┼─────────────────────────\n",
       "   1 │   10003               4\n",
       "   2 │   10027               4\n",
       "   3 │   10019               3\n",
       "   4 │   10039               3\n",
       "   5 │   10035               3\n",
       "   6 │   10014               3\n",
       "   7 │   10001               3\n",
       "   8 │   10025               2\n",
       "   9 │   10029               2\n",
       "  10 │   10002               2\n",
       "  11 │   10018               2\n",
       "  ⋮  │    ⋮           ⋮\n",
       "  15 │   10038               1\n",
       "  16 │   10065               1\n",
       "  17 │   10128               1\n",
       "  18 │   10031               1\n",
       "  19 │   10009               1\n",
       "  20 │   10026               1\n",
       "  21 │   10016               1\n",
       "  22 │   10013               1\n",
       "  23 │   10032               1\n",
       "  24 │   10034               1\n",
       "\u001b[36m                 3 rows omitted\u001b[0m"
      ]
     },
     "execution_count": 3,
     "metadata": {},
     "output_type": "execute_result"
    }
   ],
   "source": [
    "dispatch_data = CSV.read(\"zipcode_incident_data.csv\", DataFrame)\n",
    "dispatch_data"
   ]
  },
  {
   "cell_type": "code",
   "execution_count": 4,
   "metadata": {},
   "outputs": [
    {
     "data": {
      "text/plain": [
       "9×90 Matrix{Float64}:\n",
       "  2845.0  32387.0  16390.0  32283.0    …     1.0e6     1.0e6      1.0e6\n",
       " 27984.0  17284.0  28316.0   8441.0          1.0e6     1.0e6      1.0e6\n",
       " 31549.0   4532.0  28819.0   3305.0       5982.0    9564.0        1.0e6\n",
       "  1635.0   2760.0   1230.0   1169.0          1.0e6     1.0e6      1.0e6\n",
       " 31129.0   2727.0   4952.0   9068.0        209.0       1.0e6  13847.0\n",
       "  1285.0   2347.0   1264.0    706.0    …     1.0e6     1.0e6      1.0e6\n",
       "  3316.0   1128.0   4032.0   1052.0       1503.0       1.0e6      1.0e6\n",
       "  4789.0   1038.0   1548.0      1.0e6        1.0e6     1.0e6      1.0e6\n",
       "  2440.0   1438.0   3092.0   3092.0          1.0e6     1.0e6      1.0e6"
      ]
     },
     "execution_count": 4,
     "metadata": {},
     "output_type": "execute_result"
    }
   ],
   "source": [
    "wait_time = CSV.read(\"wait_time_matrix.csv\",DataFrame,header=false) |> Matrix\n",
    "wait_time"
   ]
  },
  {
   "cell_type": "code",
   "execution_count": 5,
   "metadata": {},
   "outputs": [
    {
     "data": {
      "text/html": [
       "<div><div style = \"float: left;\"><span>9×3 DataFrame</span></div><div style = \"clear: both;\"></div></div><div class = \"data-frame\" style = \"overflow-x: scroll;\"><table class = \"data-frame\" style = \"margin-bottom: 6px;\"><thead><tr class = \"header\"><th class = \"rowNumber\" style = \"font-weight: bold; text-align: right;\">Row</th><th style = \"text-align: left;\">Ambulance_i</th><th style = \"text-align: left;\">INCIDENT_DISPATCH_AREA</th><th style = \"text-align: left;\">CAPACITY</th></tr><tr class = \"subheader headerLastRow\"><th class = \"rowNumber\" style = \"font-weight: bold; text-align: right;\"></th><th title = \"Int64\" style = \"text-align: left;\">Int64</th><th title = \"String3\" style = \"text-align: left;\">String3</th><th title = \"Int64\" style = \"text-align: left;\">Int64</th></tr></thead><tbody><tr><td class = \"rowNumber\" style = \"font-weight: bold; text-align: right;\">1</td><td style = \"text-align: right;\">1</td><td style = \"text-align: left;\">M1</td><td style = \"text-align: right;\">19</td></tr><tr><td class = \"rowNumber\" style = \"font-weight: bold; text-align: right;\">2</td><td style = \"text-align: right;\">2</td><td style = \"text-align: left;\">M2</td><td style = \"text-align: right;\">26</td></tr><tr><td class = \"rowNumber\" style = \"font-weight: bold; text-align: right;\">3</td><td style = \"text-align: right;\">3</td><td style = \"text-align: left;\">M3</td><td style = \"text-align: right;\">28</td></tr><tr><td class = \"rowNumber\" style = \"font-weight: bold; text-align: right;\">4</td><td style = \"text-align: right;\">4</td><td style = \"text-align: left;\">M4</td><td style = \"text-align: right;\">13</td></tr><tr><td class = \"rowNumber\" style = \"font-weight: bold; text-align: right;\">5</td><td style = \"text-align: right;\">5</td><td style = \"text-align: left;\">M5</td><td style = \"text-align: right;\">16</td></tr><tr><td class = \"rowNumber\" style = \"font-weight: bold; text-align: right;\">6</td><td style = \"text-align: right;\">6</td><td style = \"text-align: left;\">M6</td><td style = \"text-align: right;\">8</td></tr><tr><td class = \"rowNumber\" style = \"font-weight: bold; text-align: right;\">7</td><td style = \"text-align: right;\">7</td><td style = \"text-align: left;\">M7</td><td style = \"text-align: right;\">20</td></tr><tr><td class = \"rowNumber\" style = \"font-weight: bold; text-align: right;\">8</td><td style = \"text-align: right;\">8</td><td style = \"text-align: left;\">M8</td><td style = \"text-align: right;\">11</td></tr><tr><td class = \"rowNumber\" style = \"font-weight: bold; text-align: right;\">9</td><td style = \"text-align: right;\">9</td><td style = \"text-align: left;\">M9</td><td style = \"text-align: right;\">16</td></tr></tbody></table></div>"
      ],
      "text/latex": [
       "\\begin{tabular}{r|ccc}\n",
       "\t& Ambulance\\_i & INCIDENT\\_DISPATCH\\_AREA & CAPACITY\\\\\n",
       "\t\\hline\n",
       "\t& Int64 & String3 & Int64\\\\\n",
       "\t\\hline\n",
       "\t1 & 1 & M1 & 19 \\\\\n",
       "\t2 & 2 & M2 & 26 \\\\\n",
       "\t3 & 3 & M3 & 28 \\\\\n",
       "\t4 & 4 & M4 & 13 \\\\\n",
       "\t5 & 5 & M5 & 16 \\\\\n",
       "\t6 & 6 & M6 & 8 \\\\\n",
       "\t7 & 7 & M7 & 20 \\\\\n",
       "\t8 & 8 & M8 & 11 \\\\\n",
       "\t9 & 9 & M9 & 16 \\\\\n",
       "\\end{tabular}\n"
      ],
      "text/plain": [
       "\u001b[1m9×3 DataFrame\u001b[0m\n",
       "\u001b[1m Row \u001b[0m│\u001b[1m Ambulance_i \u001b[0m\u001b[1m INCIDENT_DISPATCH_AREA \u001b[0m\u001b[1m CAPACITY \u001b[0m\n",
       "     │\u001b[90m Int64       \u001b[0m\u001b[90m String3                \u001b[0m\u001b[90m Int64    \u001b[0m\n",
       "─────┼───────────────────────────────────────────────\n",
       "   1 │           1  M1                            19\n",
       "   2 │           2  M2                            26\n",
       "   3 │           3  M3                            28\n",
       "   4 │           4  M4                            13\n",
       "   5 │           5  M5                            16\n",
       "   6 │           6  M6                             8\n",
       "   7 │           7  M7                            20\n",
       "   8 │           8  M8                            11\n",
       "   9 │           9  M9                            16"
      ]
     },
     "execution_count": 5,
     "metadata": {},
     "output_type": "execute_result"
    }
   ],
   "source": [
    "ambulance_capacity = CSV.read(\"area_capacity_data.csv\", DataFrame)\n",
    "ambulance_capacity"
   ]
  },
  {
   "cell_type": "code",
   "execution_count": 6,
   "metadata": {},
   "outputs": [
    {
     "data": {
      "text/html": [
       "<div><div style = \"float: left;\"><span>90×2 DataFrame</span></div><div style = \"float: right;\"><span style = \"font-style: italic;\">65 rows omitted</span></div><div style = \"clear: both;\"></div></div><div class = \"data-frame\" style = \"overflow-x: scroll;\"><table class = \"data-frame\" style = \"margin-bottom: 6px;\"><thead><tr class = \"header\"><th class = \"rowNumber\" style = \"font-weight: bold; text-align: right;\">Row</th><th style = \"text-align: left;\">Zipcode</th><th style = \"text-align: left;\">Index</th></tr><tr class = \"subheader headerLastRow\"><th class = \"rowNumber\" style = \"font-weight: bold; text-align: right;\"></th><th title = \"Int64\" style = \"text-align: left;\">Int64</th><th title = \"Int64\" style = \"text-align: left;\">Int64</th></tr></thead><tbody><tr><td class = \"rowNumber\" style = \"font-weight: bold; text-align: right;\">1</td><td style = \"text-align: right;\">10168</td><td style = \"text-align: right;\">69</td></tr><tr><td class = \"rowNumber\" style = \"font-weight: bold; text-align: right;\">2</td><td style = \"text-align: right;\">10013</td><td style = \"text-align: right;\">12</td></tr><tr><td class = \"rowNumber\" style = \"font-weight: bold; text-align: right;\">3</td><td style = \"text-align: right;\">10048</td><td style = \"text-align: right;\">42</td></tr><tr><td class = \"rowNumber\" style = \"font-weight: bold; text-align: right;\">4</td><td style = \"text-align: right;\">10023</td><td style = \"text-align: right;\">21</td></tr><tr><td class = \"rowNumber\" style = \"font-weight: bold; text-align: right;\">5</td><td style = \"text-align: right;\">10034</td><td style = \"text-align: right;\">32</td></tr><tr><td class = \"rowNumber\" style = \"font-weight: bold; text-align: right;\">6</td><td style = \"text-align: right;\">10014</td><td style = \"text-align: right;\">13</td></tr><tr><td class = \"rowNumber\" style = \"font-weight: bold; text-align: right;\">7</td><td style = \"text-align: right;\">10019</td><td style = \"text-align: right;\">17</td></tr><tr><td class = \"rowNumber\" style = \"font-weight: bold; text-align: right;\">8</td><td style = \"text-align: right;\">10031</td><td style = \"text-align: right;\">29</td></tr><tr><td class = \"rowNumber\" style = \"font-weight: bold; text-align: right;\">9</td><td style = \"text-align: right;\">10038</td><td style = \"text-align: right;\">36</td></tr><tr><td class = \"rowNumber\" style = \"font-weight: bold; text-align: right;\">10</td><td style = \"text-align: right;\">10278</td><td style = \"text-align: right;\">52</td></tr><tr><td class = \"rowNumber\" style = \"font-weight: bold; text-align: right;\">11</td><td style = \"text-align: right;\">10153</td><td style = \"text-align: right;\">65</td></tr><tr><td class = \"rowNumber\" style = \"font-weight: bold; text-align: right;\">12</td><td style = \"text-align: right;\">10004</td><td style = \"text-align: right;\">4</td></tr><tr><td class = \"rowNumber\" style = \"font-weight: bold; text-align: right;\">13</td><td style = \"text-align: right;\">10112</td><td style = \"text-align: right;\">48</td></tr><tr><td style = \"text-align: right;\">&vellip;</td><td style = \"text-align: right;\">&vellip;</td><td style = \"text-align: right;\">&vellip;</td></tr><tr><td class = \"rowNumber\" style = \"font-weight: bold; text-align: right;\">79</td><td style = \"text-align: right;\">10018</td><td style = \"text-align: right;\">16</td></tr><tr><td class = \"rowNumber\" style = \"font-weight: bold; text-align: right;\">80</td><td style = \"text-align: right;\">10158</td><td style = \"text-align: right;\">81</td></tr><tr><td class = \"rowNumber\" style = \"font-weight: bold; text-align: right;\">81</td><td style = \"text-align: right;\">10173</td><td style = \"text-align: right;\">85</td></tr><tr><td class = \"rowNumber\" style = \"font-weight: bold; text-align: right;\">82</td><td style = \"text-align: right;\">10282</td><td style = \"text-align: right;\">56</td></tr><tr><td class = \"rowNumber\" style = \"font-weight: bold; text-align: right;\">83</td><td style = \"text-align: right;\">10106</td><td style = \"text-align: right;\">58</td></tr><tr><td class = \"rowNumber\" style = \"font-weight: bold; text-align: right;\">84</td><td style = \"text-align: right;\">10007</td><td style = \"text-align: right;\">7</td></tr><tr><td class = \"rowNumber\" style = \"font-weight: bold; text-align: right;\">85</td><td style = \"text-align: right;\">10006</td><td style = \"text-align: right;\">6</td></tr><tr><td class = \"rowNumber\" style = \"font-weight: bold; text-align: right;\">86</td><td style = \"text-align: right;\">10069</td><td style = \"text-align: right;\">44</td></tr><tr><td class = \"rowNumber\" style = \"font-weight: bold; text-align: right;\">87</td><td style = \"text-align: right;\">10037</td><td style = \"text-align: right;\">35</td></tr><tr><td class = \"rowNumber\" style = \"font-weight: bold; text-align: right;\">88</td><td style = \"text-align: right;\">10167</td><td style = \"text-align: right;\">68</td></tr><tr><td class = \"rowNumber\" style = \"font-weight: bold; text-align: right;\">89</td><td style = \"text-align: right;\">10009</td><td style = \"text-align: right;\">8</td></tr><tr><td class = \"rowNumber\" style = \"font-weight: bold; text-align: right;\">90</td><td style = \"text-align: right;\">10030</td><td style = \"text-align: right;\">28</td></tr></tbody></table></div>"
      ],
      "text/latex": [
       "\\begin{tabular}{r|cc}\n",
       "\t& Zipcode & Index\\\\\n",
       "\t\\hline\n",
       "\t& Int64 & Int64\\\\\n",
       "\t\\hline\n",
       "\t1 & 10168 & 69 \\\\\n",
       "\t2 & 10013 & 12 \\\\\n",
       "\t3 & 10048 & 42 \\\\\n",
       "\t4 & 10023 & 21 \\\\\n",
       "\t5 & 10034 & 32 \\\\\n",
       "\t6 & 10014 & 13 \\\\\n",
       "\t7 & 10019 & 17 \\\\\n",
       "\t8 & 10031 & 29 \\\\\n",
       "\t9 & 10038 & 36 \\\\\n",
       "\t10 & 10278 & 52 \\\\\n",
       "\t11 & 10153 & 65 \\\\\n",
       "\t12 & 10004 & 4 \\\\\n",
       "\t13 & 10112 & 48 \\\\\n",
       "\t14 & 10080 & 46 \\\\\n",
       "\t15 & 10279 & 53 \\\\\n",
       "\t16 & 10165 & 82 \\\\\n",
       "\t17 & 10155 & 67 \\\\\n",
       "\t18 & 10026 & 24 \\\\\n",
       "\t19 & 10280 & 54 \\\\\n",
       "\t20 & 10025 & 23 \\\\\n",
       "\t21 & 10044 & 40 \\\\\n",
       "\t22 & 10162 & 90 \\\\\n",
       "\t23 & 10020 & 18 \\\\\n",
       "\t24 & 10166 & 83 \\\\\n",
       "\t25 & 10022 & 20 \\\\\n",
       "\t26 & 10175 & 86 \\\\\n",
       "\t27 & 10010 & 9 \\\\\n",
       "\t28 & 10107 & 47 \\\\\n",
       "\t29 & 10176 & 87 \\\\\n",
       "\t30 & 10017 & 15 \\\\\n",
       "\t$\\dots$ & $\\dots$ & $\\dots$ \\\\\n",
       "\\end{tabular}\n"
      ],
      "text/plain": [
       "\u001b[1m90×2 DataFrame\u001b[0m\n",
       "\u001b[1m Row \u001b[0m│\u001b[1m Zipcode \u001b[0m\u001b[1m Index \u001b[0m\n",
       "     │\u001b[90m Int64   \u001b[0m\u001b[90m Int64 \u001b[0m\n",
       "─────┼────────────────\n",
       "   1 │   10168     69\n",
       "   2 │   10013     12\n",
       "   3 │   10048     42\n",
       "   4 │   10023     21\n",
       "   5 │   10034     32\n",
       "   6 │   10014     13\n",
       "   7 │   10019     17\n",
       "   8 │   10031     29\n",
       "   9 │   10038     36\n",
       "  10 │   10278     52\n",
       "  11 │   10153     65\n",
       "  ⋮  │    ⋮       ⋮\n",
       "  81 │   10173     85\n",
       "  82 │   10282     56\n",
       "  83 │   10106     58\n",
       "  84 │   10007      7\n",
       "  85 │   10006      6\n",
       "  86 │   10069     44\n",
       "  87 │   10037     35\n",
       "  88 │   10167     68\n",
       "  89 │   10009      8\n",
       "  90 │   10030     28\n",
       "\u001b[36m       69 rows omitted\u001b[0m"
      ]
     },
     "execution_count": 6,
     "metadata": {},
     "output_type": "execute_result"
    }
   ],
   "source": [
    "zipcode_to_index = CSV.read(\"zipcode_to_index.csv\", DataFrame)\n",
    "zipcode_to_index"
   ]
  },
  {
   "cell_type": "code",
   "execution_count": 7,
   "metadata": {},
   "outputs": [
    {
     "data": {
      "text/html": [
       "<div><div style = \"float: left;\"><span>90×3 DataFrame</span></div><div style = \"float: right;\"><span style = \"font-style: italic;\">65 rows omitted</span></div><div style = \"clear: both;\"></div></div><div class = \"data-frame\" style = \"overflow-x: scroll;\"><table class = \"data-frame\" style = \"margin-bottom: 6px;\"><thead><tr class = \"header\"><th class = \"rowNumber\" style = \"font-weight: bold; text-align: right;\">Row</th><th style = \"text-align: left;\">Zipcode</th><th style = \"text-align: left;\">Index</th><th style = \"text-align: left;\">INCIDENT_COUNT</th></tr><tr class = \"subheader headerLastRow\"><th class = \"rowNumber\" style = \"font-weight: bold; text-align: right;\"></th><th title = \"Int64\" style = \"text-align: left;\">Int64</th><th title = \"Int64\" style = \"text-align: left;\">Int64</th><th title = \"Union{Missing, Int64}\" style = \"text-align: left;\">Int64?</th></tr></thead><tbody><tr><td class = \"rowNumber\" style = \"font-weight: bold; text-align: right;\">1</td><td style = \"text-align: right;\">10001</td><td style = \"text-align: right;\">1</td><td style = \"text-align: right;\">3</td></tr><tr><td class = \"rowNumber\" style = \"font-weight: bold; text-align: right;\">2</td><td style = \"text-align: right;\">10002</td><td style = \"text-align: right;\">2</td><td style = \"text-align: right;\">2</td></tr><tr><td class = \"rowNumber\" style = \"font-weight: bold; text-align: right;\">3</td><td style = \"text-align: right;\">10003</td><td style = \"text-align: right;\">3</td><td style = \"text-align: right;\">4</td></tr><tr><td class = \"rowNumber\" style = \"font-weight: bold; text-align: right;\">4</td><td style = \"text-align: right;\">10004</td><td style = \"text-align: right;\">4</td><td style = \"font-style: italic; text-align: right;\">missing</td></tr><tr><td class = \"rowNumber\" style = \"font-weight: bold; text-align: right;\">5</td><td style = \"text-align: right;\">10005</td><td style = \"text-align: right;\">5</td><td style = \"font-style: italic; text-align: right;\">missing</td></tr><tr><td class = \"rowNumber\" style = \"font-weight: bold; text-align: right;\">6</td><td style = \"text-align: right;\">10006</td><td style = \"text-align: right;\">6</td><td style = \"font-style: italic; text-align: right;\">missing</td></tr><tr><td class = \"rowNumber\" style = \"font-weight: bold; text-align: right;\">7</td><td style = \"text-align: right;\">10007</td><td style = \"text-align: right;\">7</td><td style = \"font-style: italic; text-align: right;\">missing</td></tr><tr><td class = \"rowNumber\" style = \"font-weight: bold; text-align: right;\">8</td><td style = \"text-align: right;\">10009</td><td style = \"text-align: right;\">8</td><td style = \"text-align: right;\">1</td></tr><tr><td class = \"rowNumber\" style = \"font-weight: bold; text-align: right;\">9</td><td style = \"text-align: right;\">10010</td><td style = \"text-align: right;\">9</td><td style = \"font-style: italic; text-align: right;\">missing</td></tr><tr><td class = \"rowNumber\" style = \"font-weight: bold; text-align: right;\">10</td><td style = \"text-align: right;\">10011</td><td style = \"text-align: right;\">10</td><td style = \"text-align: right;\">2</td></tr><tr><td class = \"rowNumber\" style = \"font-weight: bold; text-align: right;\">11</td><td style = \"text-align: right;\">10012</td><td style = \"text-align: right;\">11</td><td style = \"font-style: italic; text-align: right;\">missing</td></tr><tr><td class = \"rowNumber\" style = \"font-weight: bold; text-align: right;\">12</td><td style = \"text-align: right;\">10013</td><td style = \"text-align: right;\">12</td><td style = \"text-align: right;\">1</td></tr><tr><td class = \"rowNumber\" style = \"font-weight: bold; text-align: right;\">13</td><td style = \"text-align: right;\">10014</td><td style = \"text-align: right;\">13</td><td style = \"text-align: right;\">3</td></tr><tr><td style = \"text-align: right;\">&vellip;</td><td style = \"text-align: right;\">&vellip;</td><td style = \"text-align: right;\">&vellip;</td><td style = \"text-align: right;\">&vellip;</td></tr><tr><td class = \"rowNumber\" style = \"font-weight: bold; text-align: right;\">79</td><td style = \"text-align: right;\">10122</td><td style = \"text-align: right;\">79</td><td style = \"font-style: italic; text-align: right;\">missing</td></tr><tr><td class = \"rowNumber\" style = \"font-weight: bold; text-align: right;\">80</td><td style = \"text-align: right;\">10151</td><td style = \"text-align: right;\">80</td><td style = \"font-style: italic; text-align: right;\">missing</td></tr><tr><td class = \"rowNumber\" style = \"font-weight: bold; text-align: right;\">81</td><td style = \"text-align: right;\">10158</td><td style = \"text-align: right;\">81</td><td style = \"font-style: italic; text-align: right;\">missing</td></tr><tr><td class = \"rowNumber\" style = \"font-weight: bold; text-align: right;\">82</td><td style = \"text-align: right;\">10165</td><td style = \"text-align: right;\">82</td><td style = \"font-style: italic; text-align: right;\">missing</td></tr><tr><td class = \"rowNumber\" style = \"font-weight: bold; text-align: right;\">83</td><td style = \"text-align: right;\">10166</td><td style = \"text-align: right;\">83</td><td style = \"font-style: italic; text-align: right;\">missing</td></tr><tr><td class = \"rowNumber\" style = \"font-weight: bold; text-align: right;\">84</td><td style = \"text-align: right;\">10170</td><td style = \"text-align: right;\">84</td><td style = \"font-style: italic; text-align: right;\">missing</td></tr><tr><td class = \"rowNumber\" style = \"font-weight: bold; text-align: right;\">85</td><td style = \"text-align: right;\">10173</td><td style = \"text-align: right;\">85</td><td style = \"font-style: italic; text-align: right;\">missing</td></tr><tr><td class = \"rowNumber\" style = \"font-weight: bold; text-align: right;\">86</td><td style = \"text-align: right;\">10175</td><td style = \"text-align: right;\">86</td><td style = \"font-style: italic; text-align: right;\">missing</td></tr><tr><td class = \"rowNumber\" style = \"font-weight: bold; text-align: right;\">87</td><td style = \"text-align: right;\">10176</td><td style = \"text-align: right;\">87</td><td style = \"font-style: italic; text-align: right;\">missing</td></tr><tr><td class = \"rowNumber\" style = \"font-weight: bold; text-align: right;\">88</td><td style = \"text-align: right;\">10178</td><td style = \"text-align: right;\">88</td><td style = \"font-style: italic; text-align: right;\">missing</td></tr><tr><td class = \"rowNumber\" style = \"font-weight: bold; text-align: right;\">89</td><td style = \"text-align: right;\">10179</td><td style = \"text-align: right;\">89</td><td style = \"font-style: italic; text-align: right;\">missing</td></tr><tr><td class = \"rowNumber\" style = \"font-weight: bold; text-align: right;\">90</td><td style = \"text-align: right;\">10162</td><td style = \"text-align: right;\">90</td><td style = \"font-style: italic; text-align: right;\">missing</td></tr></tbody></table></div>"
      ],
      "text/latex": [
       "\\begin{tabular}{r|ccc}\n",
       "\t& Zipcode & Index & INCIDENT\\_COUNT\\\\\n",
       "\t\\hline\n",
       "\t& Int64 & Int64 & Int64?\\\\\n",
       "\t\\hline\n",
       "\t1 & 10001 & 1 & 3 \\\\\n",
       "\t2 & 10002 & 2 & 2 \\\\\n",
       "\t3 & 10003 & 3 & 4 \\\\\n",
       "\t4 & 10004 & 4 & \\emph{missing} \\\\\n",
       "\t5 & 10005 & 5 & \\emph{missing} \\\\\n",
       "\t6 & 10006 & 6 & \\emph{missing} \\\\\n",
       "\t7 & 10007 & 7 & \\emph{missing} \\\\\n",
       "\t8 & 10009 & 8 & 1 \\\\\n",
       "\t9 & 10010 & 9 & \\emph{missing} \\\\\n",
       "\t10 & 10011 & 10 & 2 \\\\\n",
       "\t11 & 10012 & 11 & \\emph{missing} \\\\\n",
       "\t12 & 10013 & 12 & 1 \\\\\n",
       "\t13 & 10014 & 13 & 3 \\\\\n",
       "\t14 & 10016 & 14 & 1 \\\\\n",
       "\t15 & 10017 & 15 & 1 \\\\\n",
       "\t16 & 10018 & 16 & 2 \\\\\n",
       "\t17 & 10019 & 17 & 3 \\\\\n",
       "\t18 & 10020 & 18 & \\emph{missing} \\\\\n",
       "\t19 & 10021 & 19 & \\emph{missing} \\\\\n",
       "\t20 & 10022 & 20 & \\emph{missing} \\\\\n",
       "\t21 & 10023 & 21 & \\emph{missing} \\\\\n",
       "\t22 & 10024 & 22 & \\emph{missing} \\\\\n",
       "\t23 & 10025 & 23 & 2 \\\\\n",
       "\t24 & 10026 & 24 & 1 \\\\\n",
       "\t25 & 10027 & 25 & 4 \\\\\n",
       "\t26 & 10028 & 26 & \\emph{missing} \\\\\n",
       "\t27 & 10029 & 27 & 2 \\\\\n",
       "\t28 & 10030 & 28 & \\emph{missing} \\\\\n",
       "\t29 & 10031 & 29 & 1 \\\\\n",
       "\t30 & 10032 & 30 & 1 \\\\\n",
       "\t$\\dots$ & $\\dots$ & $\\dots$ & $\\dots$ \\\\\n",
       "\\end{tabular}\n"
      ],
      "text/plain": [
       "\u001b[1m90×3 DataFrame\u001b[0m\n",
       "\u001b[1m Row \u001b[0m│\u001b[1m Zipcode \u001b[0m\u001b[1m Index \u001b[0m\u001b[1m INCIDENT_COUNT \u001b[0m\n",
       "     │\u001b[90m Int64   \u001b[0m\u001b[90m Int64 \u001b[0m\u001b[90m Int64?         \u001b[0m\n",
       "─────┼────────────────────────────────\n",
       "   1 │   10001      1               3\n",
       "   2 │   10002      2               2\n",
       "   3 │   10003      3               4\n",
       "   4 │   10004      4 \u001b[90m        missing \u001b[0m\n",
       "   5 │   10005      5 \u001b[90m        missing \u001b[0m\n",
       "   6 │   10006      6 \u001b[90m        missing \u001b[0m\n",
       "   7 │   10007      7 \u001b[90m        missing \u001b[0m\n",
       "   8 │   10009      8               1\n",
       "   9 │   10010      9 \u001b[90m        missing \u001b[0m\n",
       "  10 │   10011     10               2\n",
       "  11 │   10012     11 \u001b[90m        missing \u001b[0m\n",
       "  ⋮  │    ⋮       ⋮          ⋮\n",
       "  81 │   10158     81 \u001b[90m        missing \u001b[0m\n",
       "  82 │   10165     82 \u001b[90m        missing \u001b[0m\n",
       "  83 │   10166     83 \u001b[90m        missing \u001b[0m\n",
       "  84 │   10170     84 \u001b[90m        missing \u001b[0m\n",
       "  85 │   10173     85 \u001b[90m        missing \u001b[0m\n",
       "  86 │   10175     86 \u001b[90m        missing \u001b[0m\n",
       "  87 │   10176     87 \u001b[90m        missing \u001b[0m\n",
       "  88 │   10178     88 \u001b[90m        missing \u001b[0m\n",
       "  89 │   10179     89 \u001b[90m        missing \u001b[0m\n",
       "  90 │   10162     90 \u001b[90m        missing \u001b[0m\n",
       "\u001b[36m                       69 rows omitted\u001b[0m"
      ]
     },
     "execution_count": 7,
     "metadata": {},
     "output_type": "execute_result"
    }
   ],
   "source": [
    "merged_data = leftjoin(zipcode_to_index, dispatch_data, on=:Zipcode => :ZIPCODE)\n",
    "sorted_dispatch_data = sort(merged_data, :Index)\n",
    "sorted_dispatch_data\n"
   ]
  },
  {
   "cell_type": "code",
   "execution_count": null,
   "metadata": {},
   "outputs": [
    {
     "data": {
      "text/html": [
       "<div><div style = \"float: left;\"><span>90×3 DataFrame</span></div><div style = \"float: right;\"><span style = \"font-style: italic;\">65 rows omitted</span></div><div style = \"clear: both;\"></div></div><div class = \"data-frame\" style = \"overflow-x: scroll;\"><table class = \"data-frame\" style = \"margin-bottom: 6px;\"><thead><tr class = \"header\"><th class = \"rowNumber\" style = \"font-weight: bold; text-align: right;\">Row</th><th style = \"text-align: left;\">Zipcode</th><th style = \"text-align: left;\">Index</th><th style = \"text-align: left;\">INCIDENT_COUNT</th></tr><tr class = \"subheader headerLastRow\"><th class = \"rowNumber\" style = \"font-weight: bold; text-align: right;\"></th><th title = \"Int64\" style = \"text-align: left;\">Int64</th><th title = \"Int64\" style = \"text-align: left;\">Int64</th><th title = \"Int64\" style = \"text-align: left;\">Int64</th></tr></thead><tbody><tr><td class = \"rowNumber\" style = \"font-weight: bold; text-align: right;\">1</td><td style = \"text-align: right;\">10001</td><td style = \"text-align: right;\">1</td><td style = \"text-align: right;\">3</td></tr><tr><td class = \"rowNumber\" style = \"font-weight: bold; text-align: right;\">2</td><td style = \"text-align: right;\">10002</td><td style = \"text-align: right;\">2</td><td style = \"text-align: right;\">2</td></tr><tr><td class = \"rowNumber\" style = \"font-weight: bold; text-align: right;\">3</td><td style = \"text-align: right;\">10003</td><td style = \"text-align: right;\">3</td><td style = \"text-align: right;\">4</td></tr><tr><td class = \"rowNumber\" style = \"font-weight: bold; text-align: right;\">4</td><td style = \"text-align: right;\">10004</td><td style = \"text-align: right;\">4</td><td style = \"text-align: right;\">0</td></tr><tr><td class = \"rowNumber\" style = \"font-weight: bold; text-align: right;\">5</td><td style = \"text-align: right;\">10005</td><td style = \"text-align: right;\">5</td><td style = \"text-align: right;\">0</td></tr><tr><td class = \"rowNumber\" style = \"font-weight: bold; text-align: right;\">6</td><td style = \"text-align: right;\">10006</td><td style = \"text-align: right;\">6</td><td style = \"text-align: right;\">0</td></tr><tr><td class = \"rowNumber\" style = \"font-weight: bold; text-align: right;\">7</td><td style = \"text-align: right;\">10007</td><td style = \"text-align: right;\">7</td><td style = \"text-align: right;\">0</td></tr><tr><td class = \"rowNumber\" style = \"font-weight: bold; text-align: right;\">8</td><td style = \"text-align: right;\">10009</td><td style = \"text-align: right;\">8</td><td style = \"text-align: right;\">1</td></tr><tr><td class = \"rowNumber\" style = \"font-weight: bold; text-align: right;\">9</td><td style = \"text-align: right;\">10010</td><td style = \"text-align: right;\">9</td><td style = \"text-align: right;\">0</td></tr><tr><td class = \"rowNumber\" style = \"font-weight: bold; text-align: right;\">10</td><td style = \"text-align: right;\">10011</td><td style = \"text-align: right;\">10</td><td style = \"text-align: right;\">2</td></tr><tr><td class = \"rowNumber\" style = \"font-weight: bold; text-align: right;\">11</td><td style = \"text-align: right;\">10012</td><td style = \"text-align: right;\">11</td><td style = \"text-align: right;\">0</td></tr><tr><td class = \"rowNumber\" style = \"font-weight: bold; text-align: right;\">12</td><td style = \"text-align: right;\">10013</td><td style = \"text-align: right;\">12</td><td style = \"text-align: right;\">1</td></tr><tr><td class = \"rowNumber\" style = \"font-weight: bold; text-align: right;\">13</td><td style = \"text-align: right;\">10014</td><td style = \"text-align: right;\">13</td><td style = \"text-align: right;\">3</td></tr><tr><td style = \"text-align: right;\">&vellip;</td><td style = \"text-align: right;\">&vellip;</td><td style = \"text-align: right;\">&vellip;</td><td style = \"text-align: right;\">&vellip;</td></tr><tr><td class = \"rowNumber\" style = \"font-weight: bold; text-align: right;\">79</td><td style = \"text-align: right;\">10122</td><td style = \"text-align: right;\">79</td><td style = \"text-align: right;\">0</td></tr><tr><td class = \"rowNumber\" style = \"font-weight: bold; text-align: right;\">80</td><td style = \"text-align: right;\">10151</td><td style = \"text-align: right;\">80</td><td style = \"text-align: right;\">0</td></tr><tr><td class = \"rowNumber\" style = \"font-weight: bold; text-align: right;\">81</td><td style = \"text-align: right;\">10158</td><td style = \"text-align: right;\">81</td><td style = \"text-align: right;\">0</td></tr><tr><td class = \"rowNumber\" style = \"font-weight: bold; text-align: right;\">82</td><td style = \"text-align: right;\">10165</td><td style = \"text-align: right;\">82</td><td style = \"text-align: right;\">0</td></tr><tr><td class = \"rowNumber\" style = \"font-weight: bold; text-align: right;\">83</td><td style = \"text-align: right;\">10166</td><td style = \"text-align: right;\">83</td><td style = \"text-align: right;\">0</td></tr><tr><td class = \"rowNumber\" style = \"font-weight: bold; text-align: right;\">84</td><td style = \"text-align: right;\">10170</td><td style = \"text-align: right;\">84</td><td style = \"text-align: right;\">0</td></tr><tr><td class = \"rowNumber\" style = \"font-weight: bold; text-align: right;\">85</td><td style = \"text-align: right;\">10173</td><td style = \"text-align: right;\">85</td><td style = \"text-align: right;\">0</td></tr><tr><td class = \"rowNumber\" style = \"font-weight: bold; text-align: right;\">86</td><td style = \"text-align: right;\">10175</td><td style = \"text-align: right;\">86</td><td style = \"text-align: right;\">0</td></tr><tr><td class = \"rowNumber\" style = \"font-weight: bold; text-align: right;\">87</td><td style = \"text-align: right;\">10176</td><td style = \"text-align: right;\">87</td><td style = \"text-align: right;\">0</td></tr><tr><td class = \"rowNumber\" style = \"font-weight: bold; text-align: right;\">88</td><td style = \"text-align: right;\">10178</td><td style = \"text-align: right;\">88</td><td style = \"text-align: right;\">0</td></tr><tr><td class = \"rowNumber\" style = \"font-weight: bold; text-align: right;\">89</td><td style = \"text-align: right;\">10179</td><td style = \"text-align: right;\">89</td><td style = \"text-align: right;\">0</td></tr><tr><td class = \"rowNumber\" style = \"font-weight: bold; text-align: right;\">90</td><td style = \"text-align: right;\">10162</td><td style = \"text-align: right;\">90</td><td style = \"text-align: right;\">0</td></tr></tbody></table></div>"
      ],
      "text/latex": [
       "\\begin{tabular}{r|ccc}\n",
       "\t& Zipcode & Index & INCIDENT\\_COUNT\\\\\n",
       "\t\\hline\n",
       "\t& Int64 & Int64 & Int64\\\\\n",
       "\t\\hline\n",
       "\t1 & 10001 & 1 & 3 \\\\\n",
       "\t2 & 10002 & 2 & 2 \\\\\n",
       "\t3 & 10003 & 3 & 4 \\\\\n",
       "\t4 & 10004 & 4 & 0 \\\\\n",
       "\t5 & 10005 & 5 & 0 \\\\\n",
       "\t6 & 10006 & 6 & 0 \\\\\n",
       "\t7 & 10007 & 7 & 0 \\\\\n",
       "\t8 & 10009 & 8 & 1 \\\\\n",
       "\t9 & 10010 & 9 & 0 \\\\\n",
       "\t10 & 10011 & 10 & 2 \\\\\n",
       "\t11 & 10012 & 11 & 0 \\\\\n",
       "\t12 & 10013 & 12 & 1 \\\\\n",
       "\t13 & 10014 & 13 & 3 \\\\\n",
       "\t14 & 10016 & 14 & 1 \\\\\n",
       "\t15 & 10017 & 15 & 1 \\\\\n",
       "\t16 & 10018 & 16 & 2 \\\\\n",
       "\t17 & 10019 & 17 & 3 \\\\\n",
       "\t18 & 10020 & 18 & 0 \\\\\n",
       "\t19 & 10021 & 19 & 0 \\\\\n",
       "\t20 & 10022 & 20 & 0 \\\\\n",
       "\t21 & 10023 & 21 & 0 \\\\\n",
       "\t22 & 10024 & 22 & 0 \\\\\n",
       "\t23 & 10025 & 23 & 2 \\\\\n",
       "\t24 & 10026 & 24 & 1 \\\\\n",
       "\t25 & 10027 & 25 & 4 \\\\\n",
       "\t26 & 10028 & 26 & 0 \\\\\n",
       "\t27 & 10029 & 27 & 2 \\\\\n",
       "\t28 & 10030 & 28 & 0 \\\\\n",
       "\t29 & 10031 & 29 & 1 \\\\\n",
       "\t30 & 10032 & 30 & 1 \\\\\n",
       "\t$\\dots$ & $\\dots$ & $\\dots$ & $\\dots$ \\\\\n",
       "\\end{tabular}\n"
      ],
      "text/plain": [
       "\u001b[1m90×3 DataFrame\u001b[0m\n",
       "\u001b[1m Row \u001b[0m│\u001b[1m Zipcode \u001b[0m\u001b[1m Index \u001b[0m\u001b[1m INCIDENT_COUNT \u001b[0m\n",
       "     │\u001b[90m Int64   \u001b[0m\u001b[90m Int64 \u001b[0m\u001b[90m Int64          \u001b[0m\n",
       "─────┼────────────────────────────────\n",
       "   1 │   10001      1               3\n",
       "   2 │   10002      2               2\n",
       "   3 │   10003      3               4\n",
       "   4 │   10004      4               0\n",
       "   5 │   10005      5               0\n",
       "   6 │   10006      6               0\n",
       "   7 │   10007      7               0\n",
       "   8 │   10009      8               1\n",
       "   9 │   10010      9               0\n",
       "  10 │   10011     10               2\n",
       "  11 │   10012     11               0\n",
       "  ⋮  │    ⋮       ⋮          ⋮\n",
       "  81 │   10158     81               0\n",
       "  82 │   10165     82               0\n",
       "  83 │   10166     83               0\n",
       "  84 │   10170     84               0\n",
       "  85 │   10173     85               0\n",
       "  86 │   10175     86               0\n",
       "  87 │   10176     87               0\n",
       "  88 │   10178     88               0\n",
       "  89 │   10179     89               0\n",
       "  90 │   10162     90               0\n",
       "\u001b[36m                       69 rows omitted\u001b[0m"
      ]
     },
     "execution_count": 9,
     "metadata": {},
     "output_type": "execute_result"
    }
   ],
   "source": [
    "# convert the missing values to 0\n",
    "sorted_dispatch_data.INCIDENT_COUNT .= coalesce.(sorted_dispatch_data.INCIDENT_COUNT, 0)\n",
    "sorted_dispatch_data\n"
   ]
  },
  {
   "cell_type": "markdown",
   "metadata": {},
   "source": [
    "## build the model:\n",
    "3 useful dfs:\n",
    "\n",
    "dispatch data with sorted index: sorted_dispatch_data   d_j\n",
    "\n",
    "ambulance capacity: ambulance_capacity c_i \n",
    "\n",
    "wait time : wait_time  waittime(i,j)"
   ]
  },
  {
   "cell_type": "code",
   "execution_count": 10,
   "metadata": {},
   "outputs": [
    {
     "data": {
      "text/plain": [
       "9-element Vector{Int64}:\n",
       " 19\n",
       " 26\n",
       " 28\n",
       " 13\n",
       " 16\n",
       "  8\n",
       " 20\n",
       " 11\n",
       " 16"
      ]
     },
     "execution_count": 10,
     "metadata": {},
     "output_type": "execute_result"
    }
   ],
   "source": [
    "capacity_vector = ambulance_capacity[!,\"CAPACITY\"]"
   ]
  },
  {
   "cell_type": "code",
   "execution_count": 11,
   "metadata": {},
   "outputs": [
    {
     "data": {
      "text/plain": [
       "90-element Vector{Int64}:\n",
       " 3\n",
       " 2\n",
       " 4\n",
       " 0\n",
       " 0\n",
       " 0\n",
       " 0\n",
       " 1\n",
       " 0\n",
       " 2\n",
       " 0\n",
       " 1\n",
       " 3\n",
       " ⋮\n",
       " 0\n",
       " 0\n",
       " 0\n",
       " 0\n",
       " 0\n",
       " 0\n",
       " 0\n",
       " 0\n",
       " 0\n",
       " 0\n",
       " 0\n",
       " 0"
      ]
     },
     "execution_count": 11,
     "metadata": {},
     "output_type": "execute_result"
    }
   ],
   "source": [
    "demand_vector = sorted_dispatch_data[!,\"INCIDENT_COUNT\"]"
   ]
  },
  {
   "cell_type": "markdown",
   "metadata": {},
   "source": [
    "# Min-Sum"
   ]
  },
  {
   "cell_type": "code",
   "execution_count": 12,
   "metadata": {},
   "outputs": [
    {
     "name": "stdout",
     "output_type": "stream",
     "text": [
      "Set parameter Username\n",
      "Academic license - for non-commercial use only - expires 2025-08-19\n",
      "Gurobi Optimizer version 11.0.3 build v11.0.3rc0 (win64 - Windows 11.0 (22631.2))\n",
      "\n",
      "CPU model: 12th Gen Intel(R) Core(TM) i7-1255U, instruction set [SSE2|AVX|AVX2]\n",
      "Thread count: 10 physical cores, 12 logical processors, using up to 12 threads\n",
      "\n",
      "Optimize a model with 99 rows, 810 columns and 1620 nonzeros\n",
      "Model fingerprint: 0x9e0d152b\n",
      "Variable types: 0 continuous, 810 integer (0 binary)\n",
      "Coefficient statistics:\n",
      "  Matrix range     [1e+00, 1e+00]\n",
      "  Objective range  [1e+02, 1e+06]\n",
      "  Bounds range     [0e+00, 0e+00]\n",
      "  RHS range        [1e+00, 3e+01]\n",
      "Found heuristic solution: objective 1387484.0000\n",
      "Presolve removed 66 rows and 594 columns\n",
      "Presolve time: 0.00s\n",
      "Presolved: 33 rows, 216 columns, 432 nonzeros\n",
      "Variable types: 0 continuous, 216 integer (108 binary)\n",
      "Found heuristic solution: objective 257699.00000\n",
      "\n",
      "Root relaxation: objective 7.934000e+04, 26 iterations, 0.00 seconds (0.00 work units)\n",
      "\n",
      "    Nodes    |    Current Node    |     Objective Bounds      |     Work\n",
      " Expl Unexpl |  Obj  Depth IntInf | Incumbent    BestBd   Gap | It/Node Time\n",
      "\n",
      "*    0     0               0    79340.000000 79340.0000  0.00%     -    0s\n",
      "\n",
      "Explored 1 nodes (26 simplex iterations) in 0.01 seconds (0.00 work units)\n",
      "Thread count was 12 (of 12 available processors)\n",
      "\n",
      "Solution count 3: 79340 257699 1.38748e+06 \n",
      "\n",
      "Optimal solution found (tolerance 1.00e-04)\n",
      "Best objective 7.934000000000e+04, best bound 7.934000000000e+04, gap 0.0000%\n",
      "\n",
      "User-callback calls 165, time in user-callback 0.01 sec\n"
     ]
    }
   ],
   "source": [
    "num_areas = 9\n",
    "num_zipcodes = 90\n",
    "\n",
    "# Build the optimization model\n",
    "model = Model(Gurobi.Optimizer)\n",
    "\n",
    "# Decision variables: S[i, j] ∈ integer >=0\n",
    "@variable(model, S[1:num_areas, 1:num_zipcodes] >=0, Int)\n",
    "\n",
    "# Objective: Minimize total wait time\n",
    "@objective(model, Min, sum(S[i, j] * wait_time[i, j] for i in 1:num_areas, j in 1:num_zipcodes))\n",
    "\n",
    "# Constraints:\n",
    "# Capacity constraints for each ambulance station\n",
    "@constraint(model, [i in 1:num_areas], sum(S[i, j] for j in 1:num_zipcodes) <= capacity_vector[i])\n",
    "# meet the demand \n",
    "@constraint(model, [j in 1:num_zipcodes], sum(S[i, j] for i in 1:num_areas) >= demand_vector[j])\n",
    "\n",
    "\n",
    "optimize!(model)"
   ]
  },
  {
   "cell_type": "code",
   "execution_count": 13,
   "metadata": {},
   "outputs": [
    {
     "name": "stdout",
     "output_type": "stream",
     "text": [
      "Optimal solution found:\n"
     ]
    },
    {
     "data": {
      "text/plain": [
       "9×90 Matrix{Float64}:\n",
       " -0.0  -0.0  -0.0  -0.0  -0.0  -0.0  …  -0.0  -0.0  -0.0  -0.0  -0.0  -0.0\n",
       " -0.0  -0.0  -0.0  -0.0  -0.0  -0.0     -0.0  -0.0  -0.0  -0.0  -0.0  -0.0\n",
       " -0.0  -0.0  -0.0  -0.0  -0.0  -0.0     -0.0  -0.0  -0.0  -0.0  -0.0  -0.0\n",
       "  3.0  -0.0   4.0  -0.0  -0.0  -0.0     -0.0  -0.0  -0.0  -0.0  -0.0  -0.0\n",
       " -0.0  -0.0  -0.0  -0.0  -0.0  -0.0     -0.0  -0.0  -0.0  -0.0  -0.0  -0.0\n",
       " -0.0  -0.0  -0.0  -0.0  -0.0  -0.0  …  -0.0  -0.0  -0.0  -0.0  -0.0  -0.0\n",
       " -0.0  -0.0  -0.0  -0.0  -0.0  -0.0     -0.0  -0.0  -0.0  -0.0  -0.0  -0.0\n",
       " -0.0   2.0  -0.0  -0.0  -0.0  -0.0     -0.0  -0.0  -0.0  -0.0  -0.0  -0.0\n",
       " -0.0  -0.0  -0.0  -0.0  -0.0  -0.0     -0.0  -0.0  -0.0  -0.0  -0.0  -0.0"
      ]
     },
     "execution_count": 13,
     "metadata": {},
     "output_type": "execute_result"
    }
   ],
   "source": [
    "# Check the solution\n",
    "if termination_status(model) == MOI.OPTIMAL\n",
    "    println(\"Optimal solution found:\")\n",
    "    solution = value.(S)\n",
    "else\n",
    "    println(\"No optimal solution found.\")\n",
    "end"
   ]
  },
  {
   "cell_type": "code",
   "execution_count": 18,
   "metadata": {},
   "outputs": [
    {
     "data": {
      "text/plain": [
       "9×90 Matrix{Float64}:\n",
       " -0.0  -0.0  -0.0  -0.0  -0.0  -0.0  …  -0.0  -0.0  -0.0  -0.0  -0.0  -0.0\n",
       " -0.0  -0.0  -0.0  -0.0  -0.0  -0.0     -0.0  -0.0  -0.0  -0.0  -0.0  -0.0\n",
       " -0.0  -0.0  -0.0  -0.0  -0.0  -0.0     -0.0  -0.0  -0.0  -0.0  -0.0  -0.0\n",
       "  3.0  -0.0   4.0  -0.0  -0.0  -0.0     -0.0  -0.0  -0.0  -0.0  -0.0  -0.0\n",
       " -0.0  -0.0  -0.0  -0.0  -0.0  -0.0     -0.0  -0.0  -0.0  -0.0  -0.0  -0.0\n",
       " -0.0  -0.0  -0.0  -0.0  -0.0  -0.0  …  -0.0  -0.0  -0.0  -0.0  -0.0  -0.0\n",
       " -0.0  -0.0  -0.0  -0.0  -0.0  -0.0     -0.0  -0.0  -0.0  -0.0  -0.0  -0.0\n",
       " -0.0   2.0  -0.0  -0.0  -0.0  -0.0     -0.0  -0.0  -0.0  -0.0  -0.0  -0.0\n",
       " -0.0  -0.0  -0.0  -0.0  -0.0  -0.0     -0.0  -0.0  -0.0  -0.0  -0.0  -0.0"
      ]
     },
     "execution_count": 18,
     "metadata": {},
     "output_type": "execute_result"
    }
   ],
   "source": [
    "solution"
   ]
  },
  {
   "cell_type": "code",
   "execution_count": 19,
   "metadata": {},
   "outputs": [
    {
     "name": "stdout",
     "output_type": "stream",
     "text": [
      "nonzero indices: CartesianIndex{2}[CartesianIndex(4, 1), CartesianIndex(8, 2), CartesianIndex(4, 3), CartesianIndex(6, 8), CartesianIndex(4, 10), CartesianIndex(8, 12), CartesianIndex(8, 13), CartesianIndex(4, 14), CartesianIndex(8, 15), CartesianIndex(6, 16), CartesianIndex(6, 17), CartesianIndex(1, 23), CartesianIndex(3, 24), CartesianIndex(1, 25), CartesianIndex(9, 27), CartesianIndex(5, 29), CartesianIndex(3, 30), CartesianIndex(8, 32), CartesianIndex(9, 33), CartesianIndex(5, 34), CartesianIndex(4, 36), CartesianIndex(5, 37), CartesianIndex(6, 43), CartesianIndex(6, 50)]\n",
      "nonzero values: [3.0, 2.0, 4.0, 1.0, 2.0, 1.0, 3.0, 1.0, 1.0, 2.0, 3.0, 2.0, 1.0, 4.0, 2.0, 1.0, 1.0, 1.0, 3.0, 1.0, 1.0, 3.0, 1.0, 1.0]\n",
      "number of S(i,j)>0:  24\n"
     ]
    }
   ],
   "source": [
    "nonzero_indices = findall(x -> x != 0, solution)  \n",
    "nonzero_values = solution[nonzero_indices]   \n",
    "\n",
    "println(\"nonzero indices: \", nonzero_indices)\n",
    "println(\"nonzero values: \", nonzero_values)\n",
    "println(\"number of S(i,j)>0:  \", length(nonzero_values))\n"
   ]
  },
  {
   "cell_type": "code",
   "execution_count": 20,
   "metadata": {},
   "outputs": [
    {
     "data": {
      "text/plain": [
       "45"
      ]
     },
     "execution_count": 20,
     "metadata": {},
     "output_type": "execute_result"
    }
   ],
   "source": [
    "sum(sorted_dispatch_data[!,\"INCIDENT_COUNT\"]) # 45, it is the total demand of all the incidents"
   ]
  },
  {
   "cell_type": "code",
   "execution_count": 21,
   "metadata": {},
   "outputs": [
    {
     "data": {
      "text/plain": [
       "45.0"
      ]
     },
     "execution_count": 21,
     "metadata": {},
     "output_type": "execute_result"
    }
   ],
   "source": [
    "sum(nonzero_values) # 45, so it is same as the above one, indicating that every demand is met"
   ]
  },
  {
   "cell_type": "markdown",
   "metadata": {},
   "source": []
  },
  {
   "cell_type": "code",
   "execution_count": null,
   "metadata": {},
   "outputs": [
    {
     "name": "stdout",
     "output_type": "stream",
     "text": [
      "No assignments were made to penalized combinations.\n"
     ]
    }
   ],
   "source": [
    "# Assume `solution` is the matrix of decision variables and `wait_time` contains the penalties\n",
    "\n",
    "# Find indices where the penalty is large (1e6) \n",
    "# (this is because some of the i,j does not have history dispatch data,\n",
    "# so we assume these (i,j) pairs are too far away(we give it a value 1e6 during data processing) so that in history people just don't dispatch)\n",
    "penalized_indices = [(i, j) for i in 1:size(wait_time, 1), j in 1:size(wait_time, 2) if wait_time[i, j] == 1e6]\n",
    "\n",
    "# Check if any of these indices in `solution` are assigned a value bigger than 0\n",
    "penalized_assignments = [(i, j) for (i, j) in penalized_indices if solution[i, j] > 0.5]\n",
    "\n",
    "# Output the result\n",
    "if !isempty(penalized_assignments)\n",
    "    println(\"Solution includes assignments to penalized combinations:\")\n",
    "    println(penalized_assignments)\n",
    "else\n",
    "    println(\"No assignments were made to penalized combinations.\")  # it means that our S_ij didn't choose the uncommon (i,j) pairs\n",
    "end\n"
   ]
  },
  {
   "cell_type": "markdown",
   "metadata": {},
   "source": [
    "# Final Result\n",
    "45 incidents, demands all met\n",
    "\n",
    "24 pairs of (i,j) that are greater than 0\n"
   ]
  },
  {
   "cell_type": "code",
   "execution_count": null,
   "metadata": {},
   "outputs": [],
   "source": [
    "assignment_matrix = zeros(Int, num_areas, num_zipcodes)\n",
    "\n",
    "for i in 1:num_areas\n",
    "    for j in 1:num_zipcodes\n",
    "        if solution[i, j] > 0\n",
    "            assigned_count = Int(solution[i, j])\n",
    "        else\n",
    "            assigned_count = 0\n",
    "        end\n",
    "        assignment_matrix[i, j] = assigned_count\n",
    "    end\n",
    "end\n"
   ]
  },
  {
   "cell_type": "code",
   "execution_count": 36,
   "metadata": {},
   "outputs": [
    {
     "data": {
      "text/plain": [
       "9×90 Matrix{Int64}:\n",
       " 0  0  0  0  0  0  0  0  0  0  0  0  0  …  0  0  0  0  0  0  0  0  0  0  0  0\n",
       " 0  0  0  0  0  0  0  0  0  0  0  0  0     0  0  0  0  0  0  0  0  0  0  0  0\n",
       " 0  0  0  0  0  0  0  0  0  0  0  0  0     0  0  0  0  0  0  0  0  0  0  0  0\n",
       " 3  0  4  0  0  0  0  0  0  2  0  0  0     0  0  0  0  0  0  0  0  0  0  0  0\n",
       " 0  0  0  0  0  0  0  0  0  0  0  0  0     0  0  0  0  0  0  0  0  0  0  0  0\n",
       " 0  0  0  0  0  0  0  1  0  0  0  0  0  …  0  0  0  0  0  0  0  0  0  0  0  0\n",
       " 0  0  0  0  0  0  0  0  0  0  0  0  0     0  0  0  0  0  0  0  0  0  0  0  0\n",
       " 0  2  0  0  0  0  0  0  0  0  0  1  3     0  0  0  0  0  0  0  0  0  0  0  0\n",
       " 0  0  0  0  0  0  0  0  0  0  0  0  0     0  0  0  0  0  0  0  0  0  0  0  0"
      ]
     },
     "execution_count": 36,
     "metadata": {},
     "output_type": "execute_result"
    }
   ],
   "source": [
    "assignment_matrix"
   ]
  },
  {
   "cell_type": "markdown",
   "metadata": {},
   "source": [
    "The following code is the assignment matrix."
   ]
  },
  {
   "cell_type": "code",
   "execution_count": null,
   "metadata": {},
   "outputs": [
    {
     "name": "stdout",
     "output_type": "stream",
     "text": [
      "Matrix saved to ambulance_assignments_matrix_named.csv.\n"
     ]
    }
   ],
   "source": [
    "column_names = [string(\"Zipcode_\", j) for j in 1:num_zipcodes]\n",
    "row_names = [string(\"Area_M\", i) for i in 1:num_areas]\n",
    "\n",
    "df = DataFrame(assignment_matrix, Symbol.(column_names))\n",
    "df.Area = row_names\n",
    "\n",
    "# CSV.write(\"ambulance_assignments_matrix_named.csv\", df)\n",
    "println(\"Matrix saved to ambulance_assignments_matrix_named.csv.\")\n"
   ]
  },
  {
   "cell_type": "markdown",
   "metadata": {},
   "source": [
    "# Calculate Cost Matrixs\n",
    "\n",
    "1. cost of a region (number of incidents * waittime)\n",
    "\n",
    "2. cost of single incident"
   ]
  },
  {
   "cell_type": "markdown",
   "metadata": {},
   "source": [
    "1. The following code is the cost of a region (waittime*assignment) matrix."
   ]
  },
  {
   "cell_type": "code",
   "execution_count": null,
   "metadata": {},
   "outputs": [
    {
     "name": "stdout",
     "output_type": "stream",
     "text": [
      "cost Matrix saved to cost_matrix_sijWaitij.csv.\n"
     ]
    }
   ],
   "source": [
    "cost_matrix = assignment_matrix .* wait_time\n",
    "df_cost_matrix = DataFrame(cost_matrix, Symbol.(column_names))\n",
    "df_cost_matrix.Area = row_names\n",
    "CSV.write(\"MinSum_cost_matrix_sijWaitij.csv\", df_cost_matrix)\n",
    "println(\"cost Matrix saved to MinSum_cost_matrix_sijWaitij.csv.\")\n"
   ]
  },
  {
   "cell_type": "markdown",
   "metadata": {},
   "source": [
    "2. The following code is the cost of single incident"
   ]
  },
  {
   "cell_type": "code",
   "execution_count": 44,
   "metadata": {},
   "outputs": [
    {
     "data": {
      "text/plain": [
       "9×90 Matrix{Float64}:\n",
       "  2845.0  32387.0  16390.0  32283.0    …     1.0e6     1.0e6      1.0e6\n",
       " 27984.0  17284.0  28316.0   8441.0          1.0e6     1.0e6      1.0e6\n",
       " 31549.0   4532.0  28819.0   3305.0       5982.0    9564.0        1.0e6\n",
       "  1635.0   2760.0   1230.0   1169.0          1.0e6     1.0e6      1.0e6\n",
       " 31129.0   2727.0   4952.0   9068.0        209.0       1.0e6  13847.0\n",
       "  1285.0   2347.0   1264.0    706.0    …     1.0e6     1.0e6      1.0e6\n",
       "  3316.0   1128.0   4032.0   1052.0       1503.0       1.0e6      1.0e6\n",
       "  4789.0   1038.0   1548.0      1.0e6        1.0e6     1.0e6      1.0e6\n",
       "  2440.0   1438.0   3092.0   3092.0          1.0e6     1.0e6      1.0e6"
      ]
     },
     "execution_count": 44,
     "metadata": {},
     "output_type": "execute_result"
    }
   ],
   "source": [
    "wait_time"
   ]
  },
  {
   "cell_type": "code",
   "execution_count": 43,
   "metadata": {},
   "outputs": [
    {
     "data": {
      "text/html": [
       "<div><div style = \"float: left;\"><span>9×91 DataFrame</span></div><div style = \"clear: both;\"></div></div><div class = \"data-frame\" style = \"overflow-x: scroll;\"><table class = \"data-frame\" style = \"margin-bottom: 6px;\"><thead><tr class = \"header\"><th class = \"rowNumber\" style = \"font-weight: bold; text-align: right;\">Row</th><th style = \"text-align: left;\">Zipcode_1</th><th style = \"text-align: left;\">Zipcode_2</th><th style = \"text-align: left;\">Zipcode_3</th><th style = \"text-align: left;\">Zipcode_4</th><th style = \"text-align: left;\">Zipcode_5</th><th style = \"text-align: left;\">Zipcode_6</th><th style = \"text-align: left;\">Zipcode_7</th><th style = \"text-align: left;\">Zipcode_8</th><th style = \"text-align: left;\">Zipcode_9</th><th style = \"text-align: left;\">Zipcode_10</th><th style = \"text-align: left;\">Zipcode_11</th><th style = \"text-align: left;\">Zipcode_12</th><th style = \"text-align: left;\">Zipcode_13</th><th style = \"text-align: left;\">Zipcode_14</th><th style = \"text-align: left;\">Zipcode_15</th><th style = \"text-align: left;\">Zipcode_16</th><th style = \"text-align: left;\">Zipcode_17</th><th style = \"text-align: left;\">Zipcode_18</th><th style = \"text-align: left;\">Zipcode_19</th><th style = \"text-align: left;\">Zipcode_20</th><th style = \"text-align: left;\">Zipcode_21</th><th style = \"text-align: left;\">Zipcode_22</th><th style = \"text-align: left;\">Zipcode_23</th><th style = \"text-align: left;\">Zipcode_24</th><th style = \"text-align: left;\">Zipcode_25</th><th style = \"text-align: left;\">Zipcode_26</th><th style = \"text-align: left;\">Zipcode_27</th><th style = \"text-align: left;\">Zipcode_28</th><th style = \"text-align: left;\">Zipcode_29</th><th style = \"text-align: left;\">Zipcode_30</th><th style = \"text-align: left;\">Zipcode_31</th><th style = \"text-align: left;\">Zipcode_32</th><th style = \"text-align: left;\">Zipcode_33</th><th style = \"text-align: left;\">Zipcode_34</th><th style = \"text-align: left;\">Zipcode_35</th><th style = \"text-align: left;\">Zipcode_36</th><th style = \"text-align: left;\">Zipcode_37</th><th style = \"text-align: left;\">Zipcode_38</th><th style = \"text-align: left;\">Zipcode_39</th><th style = \"text-align: left;\">Zipcode_40</th><th style = \"text-align: left;\">Zipcode_41</th><th style = \"text-align: left;\">Zipcode_42</th><th style = \"text-align: left;\">Zipcode_43</th><th style = \"text-align: left;\">Zipcode_44</th><th style = \"text-align: left;\">Zipcode_45</th><th style = \"text-align: left;\">Zipcode_46</th><th style = \"text-align: left;\">Zipcode_47</th><th style = \"text-align: left;\">Zipcode_48</th><th style = \"text-align: left;\">Zipcode_49</th><th style = \"text-align: left;\">Zipcode_50</th><th style = \"text-align: left;\">Zipcode_51</th><th style = \"text-align: left;\">Zipcode_52</th><th style = \"text-align: left;\">Zipcode_53</th><th style = \"text-align: left;\">Zipcode_54</th><th style = \"text-align: left;\">Zipcode_55</th><th style = \"text-align: left;\">Zipcode_56</th><th style = \"text-align: left;\">Zipcode_57</th><th style = \"text-align: left;\">Zipcode_58</th><th style = \"text-align: left;\">Zipcode_59</th><th style = \"text-align: left;\">Zipcode_60</th><th style = \"text-align: left;\">Zipcode_61</th><th style = \"text-align: left;\">Zipcode_62</th><th style = \"text-align: left;\">Zipcode_63</th><th style = \"text-align: left;\">Zipcode_64</th><th style = \"text-align: left;\">Zipcode_65</th><th style = \"text-align: left;\">Zipcode_66</th><th style = \"text-align: left;\">Zipcode_67</th><th style = \"text-align: left;\">Zipcode_68</th><th style = \"text-align: left;\">Zipcode_69</th><th style = \"text-align: left;\">Zipcode_70</th><th style = \"text-align: left;\">Zipcode_71</th><th style = \"text-align: left;\">Zipcode_72</th><th style = \"text-align: left;\">Zipcode_73</th><th style = \"text-align: left;\">Zipcode_74</th><th style = \"text-align: left;\">Zipcode_75</th><th style = \"text-align: left;\">Zipcode_76</th><th style = \"text-align: left;\">Zipcode_77</th><th style = \"text-align: left;\">Zipcode_78</th><th style = \"text-align: left;\">Zipcode_79</th><th style = \"text-align: left;\">Zipcode_80</th><th style = \"text-align: left;\">Zipcode_81</th><th style = \"text-align: left;\">Zipcode_82</th><th style = \"text-align: left;\">Zipcode_83</th><th style = \"text-align: left;\">Zipcode_84</th><th style = \"text-align: left;\">Zipcode_85</th><th style = \"text-align: left;\">Zipcode_86</th><th style = \"text-align: left;\">Zipcode_87</th><th style = \"text-align: left;\">Zipcode_88</th><th style = \"text-align: left;\">Zipcode_89</th><th style = \"text-align: left;\">Zipcode_90</th><th style = \"text-align: left;\">Area</th></tr><tr class = \"subheader headerLastRow\"><th class = \"rowNumber\" style = \"font-weight: bold; text-align: right;\"></th><th title = \"Int64\" style = \"text-align: left;\">Int64</th><th title = \"Int64\" style = \"text-align: left;\">Int64</th><th title = \"Int64\" style = \"text-align: left;\">Int64</th><th title = \"Int64\" style = \"text-align: left;\">Int64</th><th title = \"Int64\" style = \"text-align: left;\">Int64</th><th title = \"Int64\" style = \"text-align: left;\">Int64</th><th title = \"Int64\" style = \"text-align: left;\">Int64</th><th title = \"Int64\" style = \"text-align: left;\">Int64</th><th title = \"Int64\" style = \"text-align: left;\">Int64</th><th title = \"Int64\" style = \"text-align: left;\">Int64</th><th title = \"Int64\" style = \"text-align: left;\">Int64</th><th title = \"Int64\" style = \"text-align: left;\">Int64</th><th title = \"Int64\" style = \"text-align: left;\">Int64</th><th title = \"Int64\" style = \"text-align: left;\">Int64</th><th title = \"Int64\" style = \"text-align: left;\">Int64</th><th title = \"Int64\" style = \"text-align: left;\">Int64</th><th title = \"Int64\" style = \"text-align: left;\">Int64</th><th title = \"Int64\" style = \"text-align: left;\">Int64</th><th title = \"Int64\" style = \"text-align: left;\">Int64</th><th title = \"Int64\" style = \"text-align: left;\">Int64</th><th title = \"Int64\" style = \"text-align: left;\">Int64</th><th title = \"Int64\" style = \"text-align: left;\">Int64</th><th title = \"Int64\" style = \"text-align: left;\">Int64</th><th title = \"Int64\" style = \"text-align: left;\">Int64</th><th title = \"Int64\" style = \"text-align: left;\">Int64</th><th title = \"Int64\" style = \"text-align: left;\">Int64</th><th title = \"Int64\" style = \"text-align: left;\">Int64</th><th title = \"Int64\" style = \"text-align: left;\">Int64</th><th title = \"Int64\" style = \"text-align: left;\">Int64</th><th title = \"Int64\" style = \"text-align: left;\">Int64</th><th title = \"Int64\" style = \"text-align: left;\">Int64</th><th title = \"Int64\" style = \"text-align: left;\">Int64</th><th title = \"Int64\" style = \"text-align: left;\">Int64</th><th title = \"Int64\" style = \"text-align: left;\">Int64</th><th title = \"Int64\" style = \"text-align: left;\">Int64</th><th title = \"Int64\" style = \"text-align: left;\">Int64</th><th title = \"Int64\" style = \"text-align: left;\">Int64</th><th title = \"Int64\" style = \"text-align: left;\">Int64</th><th title = \"Int64\" style = \"text-align: left;\">Int64</th><th title = \"Int64\" style = \"text-align: left;\">Int64</th><th title = \"Int64\" style = \"text-align: left;\">Int64</th><th title = \"Int64\" style = \"text-align: left;\">Int64</th><th title = \"Int64\" style = \"text-align: left;\">Int64</th><th title = \"Int64\" style = \"text-align: left;\">Int64</th><th title = \"Int64\" style = \"text-align: left;\">Int64</th><th title = \"Int64\" style = \"text-align: left;\">Int64</th><th title = \"Int64\" style = \"text-align: left;\">Int64</th><th title = \"Int64\" style = \"text-align: left;\">Int64</th><th title = \"Int64\" style = \"text-align: left;\">Int64</th><th title = \"Int64\" style = \"text-align: left;\">Int64</th><th title = \"Int64\" style = \"text-align: left;\">Int64</th><th title = \"Int64\" style = \"text-align: left;\">Int64</th><th title = \"Int64\" style = \"text-align: left;\">Int64</th><th title = \"Int64\" style = \"text-align: left;\">Int64</th><th title = \"Int64\" style = \"text-align: left;\">Int64</th><th title = \"Int64\" style = \"text-align: left;\">Int64</th><th title = \"Int64\" style = \"text-align: left;\">Int64</th><th title = \"Int64\" style = \"text-align: left;\">Int64</th><th title = \"Int64\" style = \"text-align: left;\">Int64</th><th title = \"Int64\" style = \"text-align: left;\">Int64</th><th title = \"Int64\" style = \"text-align: left;\">Int64</th><th title = \"Int64\" style = \"text-align: left;\">Int64</th><th title = \"Int64\" style = \"text-align: left;\">Int64</th><th title = \"Int64\" style = \"text-align: left;\">Int64</th><th title = \"Int64\" style = \"text-align: left;\">Int64</th><th title = \"Int64\" style = \"text-align: left;\">Int64</th><th title = \"Int64\" style = \"text-align: left;\">Int64</th><th title = \"Int64\" style = \"text-align: left;\">Int64</th><th title = \"Int64\" style = \"text-align: left;\">Int64</th><th title = \"Int64\" style = \"text-align: left;\">Int64</th><th title = \"Int64\" style = \"text-align: left;\">Int64</th><th title = \"Int64\" style = \"text-align: left;\">Int64</th><th title = \"Int64\" style = \"text-align: left;\">Int64</th><th title = \"Int64\" style = \"text-align: left;\">Int64</th><th title = \"Int64\" style = \"text-align: left;\">Int64</th><th title = \"Int64\" style = \"text-align: left;\">Int64</th><th title = \"Int64\" style = \"text-align: left;\">Int64</th><th title = \"Int64\" style = \"text-align: left;\">Int64</th><th title = \"Int64\" style = \"text-align: left;\">Int64</th><th title = \"Int64\" style = \"text-align: left;\">Int64</th><th title = \"Int64\" style = \"text-align: left;\">Int64</th><th title = \"Int64\" style = \"text-align: left;\">Int64</th><th title = \"Int64\" style = \"text-align: left;\">Int64</th><th title = \"Int64\" style = \"text-align: left;\">Int64</th><th title = \"Int64\" style = \"text-align: left;\">Int64</th><th title = \"Int64\" style = \"text-align: left;\">Int64</th><th title = \"Int64\" style = \"text-align: left;\">Int64</th><th title = \"Int64\" style = \"text-align: left;\">Int64</th><th title = \"Int64\" style = \"text-align: left;\">Int64</th><th title = \"Int64\" style = \"text-align: left;\">Int64</th><th title = \"String\" style = \"text-align: left;\">String</th></tr></thead><tbody><tr><td class = \"rowNumber\" style = \"font-weight: bold; text-align: right;\">1</td><td style = \"text-align: right;\">0</td><td style = \"text-align: right;\">0</td><td style = \"text-align: right;\">0</td><td style = \"text-align: right;\">0</td><td style = \"text-align: right;\">0</td><td style = \"text-align: right;\">0</td><td style = \"text-align: right;\">0</td><td style = \"text-align: right;\">0</td><td style = \"text-align: right;\">0</td><td style = \"text-align: right;\">0</td><td style = \"text-align: right;\">0</td><td style = \"text-align: right;\">0</td><td style = \"text-align: right;\">0</td><td style = \"text-align: right;\">0</td><td style = \"text-align: right;\">0</td><td style = \"text-align: right;\">0</td><td style = \"text-align: right;\">0</td><td style = \"text-align: right;\">0</td><td style = \"text-align: right;\">0</td><td style = \"text-align: right;\">0</td><td style = \"text-align: right;\">0</td><td style = \"text-align: right;\">0</td><td style = \"text-align: right;\">2</td><td style = \"text-align: right;\">0</td><td style = \"text-align: right;\">4</td><td style = \"text-align: right;\">0</td><td style = \"text-align: right;\">0</td><td style = \"text-align: right;\">0</td><td style = \"text-align: right;\">0</td><td style = \"text-align: right;\">0</td><td style = \"text-align: right;\">0</td><td style = \"text-align: right;\">0</td><td style = \"text-align: right;\">0</td><td style = \"text-align: right;\">0</td><td style = \"text-align: right;\">0</td><td style = \"text-align: right;\">0</td><td style = \"text-align: right;\">0</td><td style = \"text-align: right;\">0</td><td style = \"text-align: right;\">0</td><td style = \"text-align: right;\">0</td><td style = \"text-align: right;\">0</td><td style = \"text-align: right;\">0</td><td style = \"text-align: right;\">0</td><td style = \"text-align: right;\">0</td><td style = \"text-align: right;\">0</td><td style = \"text-align: right;\">0</td><td style = \"text-align: right;\">0</td><td style = \"text-align: right;\">0</td><td style = \"text-align: right;\">0</td><td style = \"text-align: right;\">0</td><td style = \"text-align: right;\">0</td><td style = \"text-align: right;\">0</td><td style = \"text-align: right;\">0</td><td style = \"text-align: right;\">0</td><td style = \"text-align: right;\">0</td><td style = \"text-align: right;\">0</td><td style = \"text-align: right;\">0</td><td style = \"text-align: right;\">0</td><td style = \"text-align: right;\">0</td><td style = \"text-align: right;\">0</td><td style = \"text-align: right;\">0</td><td style = \"text-align: right;\">0</td><td style = \"text-align: right;\">0</td><td style = \"text-align: right;\">0</td><td style = \"text-align: right;\">0</td><td style = \"text-align: right;\">0</td><td style = \"text-align: right;\">0</td><td style = \"text-align: right;\">0</td><td style = \"text-align: right;\">0</td><td style = \"text-align: right;\">0</td><td style = \"text-align: right;\">0</td><td style = \"text-align: right;\">0</td><td style = \"text-align: right;\">0</td><td style = \"text-align: right;\">0</td><td style = \"text-align: right;\">0</td><td style = \"text-align: right;\">0</td><td style = \"text-align: right;\">0</td><td style = \"text-align: right;\">0</td><td style = \"text-align: right;\">0</td><td style = \"text-align: right;\">0</td><td style = \"text-align: right;\">0</td><td style = \"text-align: right;\">0</td><td style = \"text-align: right;\">0</td><td style = \"text-align: right;\">0</td><td style = \"text-align: right;\">0</td><td style = \"text-align: right;\">0</td><td style = \"text-align: right;\">0</td><td style = \"text-align: right;\">0</td><td style = \"text-align: right;\">0</td><td style = \"text-align: right;\">0</td><td style = \"text-align: left;\">Area_M1</td></tr><tr><td class = \"rowNumber\" style = \"font-weight: bold; text-align: right;\">2</td><td style = \"text-align: right;\">0</td><td style = \"text-align: right;\">0</td><td style = \"text-align: right;\">0</td><td style = \"text-align: right;\">0</td><td style = \"text-align: right;\">0</td><td style = \"text-align: right;\">0</td><td style = \"text-align: right;\">0</td><td style = \"text-align: right;\">0</td><td style = \"text-align: right;\">0</td><td style = \"text-align: right;\">0</td><td style = \"text-align: right;\">0</td><td style = \"text-align: right;\">0</td><td style = \"text-align: right;\">0</td><td style = \"text-align: right;\">0</td><td style = \"text-align: right;\">0</td><td style = \"text-align: right;\">0</td><td style = \"text-align: right;\">0</td><td style = \"text-align: right;\">0</td><td style = \"text-align: right;\">0</td><td style = \"text-align: right;\">0</td><td style = \"text-align: right;\">0</td><td style = \"text-align: right;\">0</td><td style = \"text-align: right;\">0</td><td style = \"text-align: right;\">0</td><td style = \"text-align: right;\">0</td><td style = \"text-align: right;\">0</td><td style = \"text-align: right;\">0</td><td style = \"text-align: right;\">0</td><td style = \"text-align: right;\">0</td><td style = \"text-align: right;\">0</td><td style = \"text-align: right;\">0</td><td style = \"text-align: right;\">0</td><td style = \"text-align: right;\">0</td><td style = \"text-align: right;\">0</td><td style = \"text-align: right;\">0</td><td style = \"text-align: right;\">0</td><td style = \"text-align: right;\">0</td><td style = \"text-align: right;\">0</td><td style = \"text-align: right;\">0</td><td style = \"text-align: right;\">0</td><td style = \"text-align: right;\">0</td><td style = \"text-align: right;\">0</td><td style = \"text-align: right;\">0</td><td style = \"text-align: right;\">0</td><td style = \"text-align: right;\">0</td><td style = \"text-align: right;\">0</td><td style = \"text-align: right;\">0</td><td style = \"text-align: right;\">0</td><td style = \"text-align: right;\">0</td><td style = \"text-align: right;\">0</td><td style = \"text-align: right;\">0</td><td style = \"text-align: right;\">0</td><td style = \"text-align: right;\">0</td><td style = \"text-align: right;\">0</td><td style = \"text-align: right;\">0</td><td style = \"text-align: right;\">0</td><td style = \"text-align: right;\">0</td><td style = \"text-align: right;\">0</td><td style = \"text-align: right;\">0</td><td style = \"text-align: right;\">0</td><td style = \"text-align: right;\">0</td><td style = \"text-align: right;\">0</td><td style = \"text-align: right;\">0</td><td style = \"text-align: right;\">0</td><td style = \"text-align: right;\">0</td><td style = \"text-align: right;\">0</td><td style = \"text-align: right;\">0</td><td style = \"text-align: right;\">0</td><td style = \"text-align: right;\">0</td><td style = \"text-align: right;\">0</td><td style = \"text-align: right;\">0</td><td style = \"text-align: right;\">0</td><td style = \"text-align: right;\">0</td><td style = \"text-align: right;\">0</td><td style = \"text-align: right;\">0</td><td style = \"text-align: right;\">0</td><td style = \"text-align: right;\">0</td><td style = \"text-align: right;\">0</td><td style = \"text-align: right;\">0</td><td style = \"text-align: right;\">0</td><td style = \"text-align: right;\">0</td><td style = \"text-align: right;\">0</td><td style = \"text-align: right;\">0</td><td style = \"text-align: right;\">0</td><td style = \"text-align: right;\">0</td><td style = \"text-align: right;\">0</td><td style = \"text-align: right;\">0</td><td style = \"text-align: right;\">0</td><td style = \"text-align: right;\">0</td><td style = \"text-align: right;\">0</td><td style = \"text-align: left;\">Area_M2</td></tr><tr><td class = \"rowNumber\" style = \"font-weight: bold; text-align: right;\">3</td><td style = \"text-align: right;\">0</td><td style = \"text-align: right;\">0</td><td style = \"text-align: right;\">0</td><td style = \"text-align: right;\">0</td><td style = \"text-align: right;\">0</td><td style = \"text-align: right;\">0</td><td style = \"text-align: right;\">0</td><td style = \"text-align: right;\">0</td><td style = \"text-align: right;\">0</td><td style = \"text-align: right;\">0</td><td style = \"text-align: right;\">0</td><td style = \"text-align: right;\">0</td><td style = \"text-align: right;\">0</td><td style = \"text-align: right;\">0</td><td style = \"text-align: right;\">0</td><td style = \"text-align: right;\">0</td><td style = \"text-align: right;\">0</td><td style = \"text-align: right;\">0</td><td style = \"text-align: right;\">0</td><td style = \"text-align: right;\">0</td><td style = \"text-align: right;\">0</td><td style = \"text-align: right;\">0</td><td style = \"text-align: right;\">0</td><td style = \"text-align: right;\">1</td><td style = \"text-align: right;\">0</td><td style = \"text-align: right;\">0</td><td style = \"text-align: right;\">0</td><td style = \"text-align: right;\">0</td><td style = \"text-align: right;\">0</td><td style = \"text-align: right;\">1</td><td style = \"text-align: right;\">0</td><td style = \"text-align: right;\">0</td><td style = \"text-align: right;\">0</td><td style = \"text-align: right;\">0</td><td style = \"text-align: right;\">0</td><td style = \"text-align: right;\">0</td><td style = \"text-align: right;\">0</td><td style = \"text-align: right;\">0</td><td style = \"text-align: right;\">0</td><td style = \"text-align: right;\">0</td><td style = \"text-align: right;\">0</td><td style = \"text-align: right;\">0</td><td style = \"text-align: right;\">0</td><td style = \"text-align: right;\">0</td><td style = \"text-align: right;\">0</td><td style = \"text-align: right;\">0</td><td style = \"text-align: right;\">0</td><td style = \"text-align: right;\">0</td><td style = \"text-align: right;\">0</td><td style = \"text-align: right;\">0</td><td style = \"text-align: right;\">0</td><td style = \"text-align: right;\">0</td><td style = \"text-align: right;\">0</td><td style = \"text-align: right;\">0</td><td style = \"text-align: right;\">0</td><td style = \"text-align: right;\">0</td><td style = \"text-align: right;\">0</td><td style = \"text-align: right;\">0</td><td style = \"text-align: right;\">0</td><td style = \"text-align: right;\">0</td><td style = \"text-align: right;\">0</td><td style = \"text-align: right;\">0</td><td style = \"text-align: right;\">0</td><td style = \"text-align: right;\">0</td><td style = \"text-align: right;\">0</td><td style = \"text-align: right;\">0</td><td style = \"text-align: right;\">0</td><td style = \"text-align: right;\">0</td><td style = \"text-align: right;\">0</td><td style = \"text-align: right;\">0</td><td style = \"text-align: right;\">0</td><td style = \"text-align: right;\">0</td><td style = \"text-align: right;\">0</td><td style = \"text-align: right;\">0</td><td style = \"text-align: right;\">0</td><td style = \"text-align: right;\">0</td><td style = \"text-align: right;\">0</td><td style = \"text-align: right;\">0</td><td style = \"text-align: right;\">0</td><td style = \"text-align: right;\">0</td><td style = \"text-align: right;\">0</td><td style = \"text-align: right;\">0</td><td style = \"text-align: right;\">0</td><td style = \"text-align: right;\">0</td><td style = \"text-align: right;\">0</td><td style = \"text-align: right;\">0</td><td style = \"text-align: right;\">0</td><td style = \"text-align: right;\">0</td><td style = \"text-align: right;\">0</td><td style = \"text-align: right;\">0</td><td style = \"text-align: left;\">Area_M3</td></tr><tr><td class = \"rowNumber\" style = \"font-weight: bold; text-align: right;\">4</td><td style = \"text-align: right;\">3</td><td style = \"text-align: right;\">0</td><td style = \"text-align: right;\">4</td><td style = \"text-align: right;\">0</td><td style = \"text-align: right;\">0</td><td style = \"text-align: right;\">0</td><td style = \"text-align: right;\">0</td><td style = \"text-align: right;\">0</td><td style = \"text-align: right;\">0</td><td style = \"text-align: right;\">2</td><td style = \"text-align: right;\">0</td><td style = \"text-align: right;\">0</td><td style = \"text-align: right;\">0</td><td style = \"text-align: right;\">1</td><td style = \"text-align: right;\">0</td><td style = \"text-align: right;\">0</td><td style = \"text-align: right;\">0</td><td style = \"text-align: right;\">0</td><td style = \"text-align: right;\">0</td><td style = \"text-align: right;\">0</td><td style = \"text-align: right;\">0</td><td style = \"text-align: right;\">0</td><td style = \"text-align: right;\">0</td><td style = \"text-align: right;\">0</td><td style = \"text-align: right;\">0</td><td style = \"text-align: right;\">0</td><td style = \"text-align: right;\">0</td><td style = \"text-align: right;\">0</td><td style = \"text-align: right;\">0</td><td style = \"text-align: right;\">0</td><td style = \"text-align: right;\">0</td><td style = \"text-align: right;\">0</td><td style = \"text-align: right;\">0</td><td style = \"text-align: right;\">0</td><td style = \"text-align: right;\">0</td><td style = \"text-align: right;\">1</td><td style = \"text-align: right;\">0</td><td style = \"text-align: right;\">0</td><td style = \"text-align: right;\">0</td><td style = \"text-align: right;\">0</td><td style = \"text-align: right;\">0</td><td style = \"text-align: right;\">0</td><td style = \"text-align: right;\">0</td><td style = \"text-align: right;\">0</td><td style = \"text-align: right;\">0</td><td style = \"text-align: right;\">0</td><td style = \"text-align: right;\">0</td><td style = \"text-align: right;\">0</td><td style = \"text-align: right;\">0</td><td style = \"text-align: right;\">0</td><td style = \"text-align: right;\">0</td><td style = \"text-align: right;\">0</td><td style = \"text-align: right;\">0</td><td style = \"text-align: right;\">0</td><td style = \"text-align: right;\">0</td><td style = \"text-align: right;\">0</td><td style = \"text-align: right;\">0</td><td style = \"text-align: right;\">0</td><td style = \"text-align: right;\">0</td><td style = \"text-align: right;\">0</td><td style = \"text-align: right;\">0</td><td style = \"text-align: right;\">0</td><td style = \"text-align: right;\">0</td><td style = \"text-align: right;\">0</td><td style = \"text-align: right;\">0</td><td style = \"text-align: right;\">0</td><td style = \"text-align: right;\">0</td><td style = \"text-align: right;\">0</td><td style = \"text-align: right;\">0</td><td style = \"text-align: right;\">0</td><td style = \"text-align: right;\">0</td><td style = \"text-align: right;\">0</td><td style = \"text-align: right;\">0</td><td style = \"text-align: right;\">0</td><td style = \"text-align: right;\">0</td><td style = \"text-align: right;\">0</td><td style = \"text-align: right;\">0</td><td style = \"text-align: right;\">0</td><td style = \"text-align: right;\">0</td><td style = \"text-align: right;\">0</td><td style = \"text-align: right;\">0</td><td style = \"text-align: right;\">0</td><td style = \"text-align: right;\">0</td><td style = \"text-align: right;\">0</td><td style = \"text-align: right;\">0</td><td style = \"text-align: right;\">0</td><td style = \"text-align: right;\">0</td><td style = \"text-align: right;\">0</td><td style = \"text-align: right;\">0</td><td style = \"text-align: right;\">0</td><td style = \"text-align: left;\">Area_M4</td></tr><tr><td class = \"rowNumber\" style = \"font-weight: bold; text-align: right;\">5</td><td style = \"text-align: right;\">0</td><td style = \"text-align: right;\">0</td><td style = \"text-align: right;\">0</td><td style = \"text-align: right;\">0</td><td style = \"text-align: right;\">0</td><td style = \"text-align: right;\">0</td><td style = \"text-align: right;\">0</td><td style = \"text-align: right;\">0</td><td style = \"text-align: right;\">0</td><td style = \"text-align: right;\">0</td><td style = \"text-align: right;\">0</td><td style = \"text-align: right;\">0</td><td style = \"text-align: right;\">0</td><td style = \"text-align: right;\">0</td><td style = \"text-align: right;\">0</td><td style = \"text-align: right;\">0</td><td style = \"text-align: right;\">0</td><td style = \"text-align: right;\">0</td><td style = \"text-align: right;\">0</td><td style = \"text-align: right;\">0</td><td style = \"text-align: right;\">0</td><td style = \"text-align: right;\">0</td><td style = \"text-align: right;\">0</td><td style = \"text-align: right;\">0</td><td style = \"text-align: right;\">0</td><td style = \"text-align: right;\">0</td><td style = \"text-align: right;\">0</td><td style = \"text-align: right;\">0</td><td style = \"text-align: right;\">1</td><td style = \"text-align: right;\">0</td><td style = \"text-align: right;\">0</td><td style = \"text-align: right;\">0</td><td style = \"text-align: right;\">0</td><td style = \"text-align: right;\">1</td><td style = \"text-align: right;\">0</td><td style = \"text-align: right;\">0</td><td style = \"text-align: right;\">3</td><td style = \"text-align: right;\">0</td><td style = \"text-align: right;\">0</td><td style = \"text-align: right;\">0</td><td style = \"text-align: right;\">0</td><td style = \"text-align: right;\">0</td><td style = \"text-align: right;\">0</td><td style = \"text-align: right;\">0</td><td style = \"text-align: right;\">0</td><td style = \"text-align: right;\">0</td><td style = \"text-align: right;\">0</td><td style = \"text-align: right;\">0</td><td style = \"text-align: right;\">0</td><td style = \"text-align: right;\">0</td><td style = \"text-align: right;\">0</td><td style = \"text-align: right;\">0</td><td style = \"text-align: right;\">0</td><td style = \"text-align: right;\">0</td><td style = \"text-align: right;\">0</td><td style = \"text-align: right;\">0</td><td style = \"text-align: right;\">0</td><td style = \"text-align: right;\">0</td><td style = \"text-align: right;\">0</td><td style = \"text-align: right;\">0</td><td style = \"text-align: right;\">0</td><td style = \"text-align: right;\">0</td><td style = \"text-align: right;\">0</td><td style = \"text-align: right;\">0</td><td style = \"text-align: right;\">0</td><td style = \"text-align: right;\">0</td><td style = \"text-align: right;\">0</td><td style = \"text-align: right;\">0</td><td style = \"text-align: right;\">0</td><td style = \"text-align: right;\">0</td><td style = \"text-align: right;\">0</td><td style = \"text-align: right;\">0</td><td style = \"text-align: right;\">0</td><td style = \"text-align: right;\">0</td><td style = \"text-align: right;\">0</td><td style = \"text-align: right;\">0</td><td style = \"text-align: right;\">0</td><td style = \"text-align: right;\">0</td><td style = \"text-align: right;\">0</td><td style = \"text-align: right;\">0</td><td style = \"text-align: right;\">0</td><td style = \"text-align: right;\">0</td><td style = \"text-align: right;\">0</td><td style = \"text-align: right;\">0</td><td style = \"text-align: right;\">0</td><td style = \"text-align: right;\">0</td><td style = \"text-align: right;\">0</td><td style = \"text-align: right;\">0</td><td style = \"text-align: right;\">0</td><td style = \"text-align: right;\">0</td><td style = \"text-align: left;\">Area_M5</td></tr><tr><td class = \"rowNumber\" style = \"font-weight: bold; text-align: right;\">6</td><td style = \"text-align: right;\">0</td><td style = \"text-align: right;\">0</td><td style = \"text-align: right;\">0</td><td style = \"text-align: right;\">0</td><td style = \"text-align: right;\">0</td><td style = \"text-align: right;\">0</td><td style = \"text-align: right;\">0</td><td style = \"text-align: right;\">1</td><td style = \"text-align: right;\">0</td><td style = \"text-align: right;\">0</td><td style = \"text-align: right;\">0</td><td style = \"text-align: right;\">0</td><td style = \"text-align: right;\">0</td><td style = \"text-align: right;\">0</td><td style = \"text-align: right;\">0</td><td style = \"text-align: right;\">2</td><td style = \"text-align: right;\">3</td><td style = \"text-align: right;\">0</td><td style = \"text-align: right;\">0</td><td style = \"text-align: right;\">0</td><td style = \"text-align: right;\">0</td><td style = \"text-align: right;\">0</td><td style = \"text-align: right;\">0</td><td style = \"text-align: right;\">0</td><td style = \"text-align: right;\">0</td><td style = \"text-align: right;\">0</td><td style = \"text-align: right;\">0</td><td style = \"text-align: right;\">0</td><td style = \"text-align: right;\">0</td><td style = \"text-align: right;\">0</td><td style = \"text-align: right;\">0</td><td style = \"text-align: right;\">0</td><td style = \"text-align: right;\">0</td><td style = \"text-align: right;\">0</td><td style = \"text-align: right;\">0</td><td style = \"text-align: right;\">0</td><td style = \"text-align: right;\">0</td><td style = \"text-align: right;\">0</td><td style = \"text-align: right;\">0</td><td style = \"text-align: right;\">0</td><td style = \"text-align: right;\">0</td><td style = \"text-align: right;\">0</td><td style = \"text-align: right;\">1</td><td style = \"text-align: right;\">0</td><td style = \"text-align: right;\">0</td><td style = \"text-align: right;\">0</td><td style = \"text-align: right;\">0</td><td style = \"text-align: right;\">0</td><td style = \"text-align: right;\">0</td><td style = \"text-align: right;\">1</td><td style = \"text-align: right;\">0</td><td style = \"text-align: right;\">0</td><td style = \"text-align: right;\">0</td><td style = \"text-align: right;\">0</td><td style = \"text-align: right;\">0</td><td style = \"text-align: right;\">0</td><td style = \"text-align: right;\">0</td><td style = \"text-align: right;\">0</td><td style = \"text-align: right;\">0</td><td style = \"text-align: right;\">0</td><td style = \"text-align: right;\">0</td><td style = \"text-align: right;\">0</td><td style = \"text-align: right;\">0</td><td style = \"text-align: right;\">0</td><td style = \"text-align: right;\">0</td><td style = \"text-align: right;\">0</td><td style = \"text-align: right;\">0</td><td style = \"text-align: right;\">0</td><td style = \"text-align: right;\">0</td><td style = \"text-align: right;\">0</td><td style = \"text-align: right;\">0</td><td style = \"text-align: right;\">0</td><td style = \"text-align: right;\">0</td><td style = \"text-align: right;\">0</td><td style = \"text-align: right;\">0</td><td style = \"text-align: right;\">0</td><td style = \"text-align: right;\">0</td><td style = \"text-align: right;\">0</td><td style = \"text-align: right;\">0</td><td style = \"text-align: right;\">0</td><td style = \"text-align: right;\">0</td><td style = \"text-align: right;\">0</td><td style = \"text-align: right;\">0</td><td style = \"text-align: right;\">0</td><td style = \"text-align: right;\">0</td><td style = \"text-align: right;\">0</td><td style = \"text-align: right;\">0</td><td style = \"text-align: right;\">0</td><td style = \"text-align: right;\">0</td><td style = \"text-align: right;\">0</td><td style = \"text-align: left;\">Area_M6</td></tr><tr><td class = \"rowNumber\" style = \"font-weight: bold; text-align: right;\">7</td><td style = \"text-align: right;\">0</td><td style = \"text-align: right;\">0</td><td style = \"text-align: right;\">0</td><td style = \"text-align: right;\">0</td><td style = \"text-align: right;\">0</td><td style = \"text-align: right;\">0</td><td style = \"text-align: right;\">0</td><td style = \"text-align: right;\">0</td><td style = \"text-align: right;\">0</td><td style = \"text-align: right;\">0</td><td style = \"text-align: right;\">0</td><td style = \"text-align: right;\">0</td><td style = \"text-align: right;\">0</td><td style = \"text-align: right;\">0</td><td style = \"text-align: right;\">0</td><td style = \"text-align: right;\">0</td><td style = \"text-align: right;\">0</td><td style = \"text-align: right;\">0</td><td style = \"text-align: right;\">0</td><td style = \"text-align: right;\">0</td><td style = \"text-align: right;\">0</td><td style = \"text-align: right;\">0</td><td style = \"text-align: right;\">0</td><td style = \"text-align: right;\">0</td><td style = \"text-align: right;\">0</td><td style = \"text-align: right;\">0</td><td style = \"text-align: right;\">0</td><td style = \"text-align: right;\">0</td><td style = \"text-align: right;\">0</td><td style = \"text-align: right;\">0</td><td style = \"text-align: right;\">0</td><td style = \"text-align: right;\">0</td><td style = \"text-align: right;\">0</td><td style = \"text-align: right;\">0</td><td style = \"text-align: right;\">0</td><td style = \"text-align: right;\">0</td><td style = \"text-align: right;\">0</td><td style = \"text-align: right;\">0</td><td style = \"text-align: right;\">0</td><td style = \"text-align: right;\">0</td><td style = \"text-align: right;\">0</td><td style = \"text-align: right;\">0</td><td style = \"text-align: right;\">0</td><td style = \"text-align: right;\">0</td><td style = \"text-align: right;\">0</td><td style = \"text-align: right;\">0</td><td style = \"text-align: right;\">0</td><td style = \"text-align: right;\">0</td><td style = \"text-align: right;\">0</td><td style = \"text-align: right;\">0</td><td style = \"text-align: right;\">0</td><td style = \"text-align: right;\">0</td><td style = \"text-align: right;\">0</td><td style = \"text-align: right;\">0</td><td style = \"text-align: right;\">0</td><td style = \"text-align: right;\">0</td><td style = \"text-align: right;\">0</td><td style = \"text-align: right;\">0</td><td style = \"text-align: right;\">0</td><td style = \"text-align: right;\">0</td><td style = \"text-align: right;\">0</td><td style = \"text-align: right;\">0</td><td style = \"text-align: right;\">0</td><td style = \"text-align: right;\">0</td><td style = \"text-align: right;\">0</td><td style = \"text-align: right;\">0</td><td style = \"text-align: right;\">0</td><td style = \"text-align: right;\">0</td><td style = \"text-align: right;\">0</td><td style = \"text-align: right;\">0</td><td style = \"text-align: right;\">0</td><td style = \"text-align: right;\">0</td><td style = \"text-align: right;\">0</td><td style = \"text-align: right;\">0</td><td style = \"text-align: right;\">0</td><td style = \"text-align: right;\">0</td><td style = \"text-align: right;\">0</td><td style = \"text-align: right;\">0</td><td style = \"text-align: right;\">0</td><td style = \"text-align: right;\">0</td><td style = \"text-align: right;\">0</td><td style = \"text-align: right;\">0</td><td style = \"text-align: right;\">0</td><td style = \"text-align: right;\">0</td><td style = \"text-align: right;\">0</td><td style = \"text-align: right;\">0</td><td style = \"text-align: right;\">0</td><td style = \"text-align: right;\">0</td><td style = \"text-align: right;\">0</td><td style = \"text-align: right;\">0</td><td style = \"text-align: left;\">Area_M7</td></tr><tr><td class = \"rowNumber\" style = \"font-weight: bold; text-align: right;\">8</td><td style = \"text-align: right;\">0</td><td style = \"text-align: right;\">2</td><td style = \"text-align: right;\">0</td><td style = \"text-align: right;\">0</td><td style = \"text-align: right;\">0</td><td style = \"text-align: right;\">0</td><td style = \"text-align: right;\">0</td><td style = \"text-align: right;\">0</td><td style = \"text-align: right;\">0</td><td style = \"text-align: right;\">0</td><td style = \"text-align: right;\">0</td><td style = \"text-align: right;\">1</td><td style = \"text-align: right;\">3</td><td style = \"text-align: right;\">0</td><td style = \"text-align: right;\">1</td><td style = \"text-align: right;\">0</td><td style = \"text-align: right;\">0</td><td style = \"text-align: right;\">0</td><td style = \"text-align: right;\">0</td><td style = \"text-align: right;\">0</td><td style = \"text-align: right;\">0</td><td style = \"text-align: right;\">0</td><td style = \"text-align: right;\">0</td><td style = \"text-align: right;\">0</td><td style = \"text-align: right;\">0</td><td style = \"text-align: right;\">0</td><td style = \"text-align: right;\">0</td><td style = \"text-align: right;\">0</td><td style = \"text-align: right;\">0</td><td style = \"text-align: right;\">0</td><td style = \"text-align: right;\">0</td><td style = \"text-align: right;\">1</td><td style = \"text-align: right;\">0</td><td style = \"text-align: right;\">0</td><td style = \"text-align: right;\">0</td><td style = \"text-align: right;\">0</td><td style = \"text-align: right;\">0</td><td style = \"text-align: right;\">0</td><td style = \"text-align: right;\">0</td><td style = \"text-align: right;\">0</td><td style = \"text-align: right;\">0</td><td style = \"text-align: right;\">0</td><td style = \"text-align: right;\">0</td><td style = \"text-align: right;\">0</td><td style = \"text-align: right;\">0</td><td style = \"text-align: right;\">0</td><td style = \"text-align: right;\">0</td><td style = \"text-align: right;\">0</td><td style = \"text-align: right;\">0</td><td style = \"text-align: right;\">0</td><td style = \"text-align: right;\">0</td><td style = \"text-align: right;\">0</td><td style = \"text-align: right;\">0</td><td style = \"text-align: right;\">0</td><td style = \"text-align: right;\">0</td><td style = \"text-align: right;\">0</td><td style = \"text-align: right;\">0</td><td style = \"text-align: right;\">0</td><td style = \"text-align: right;\">0</td><td style = \"text-align: right;\">0</td><td style = \"text-align: right;\">0</td><td style = \"text-align: right;\">0</td><td style = \"text-align: right;\">0</td><td style = \"text-align: right;\">0</td><td style = \"text-align: right;\">0</td><td style = \"text-align: right;\">0</td><td style = \"text-align: right;\">0</td><td style = \"text-align: right;\">0</td><td style = \"text-align: right;\">0</td><td style = \"text-align: right;\">0</td><td style = \"text-align: right;\">0</td><td style = \"text-align: right;\">0</td><td style = \"text-align: right;\">0</td><td style = \"text-align: right;\">0</td><td style = \"text-align: right;\">0</td><td style = \"text-align: right;\">0</td><td style = \"text-align: right;\">0</td><td style = \"text-align: right;\">0</td><td style = \"text-align: right;\">0</td><td style = \"text-align: right;\">0</td><td style = \"text-align: right;\">0</td><td style = \"text-align: right;\">0</td><td style = \"text-align: right;\">0</td><td style = \"text-align: right;\">0</td><td style = \"text-align: right;\">0</td><td style = \"text-align: right;\">0</td><td style = \"text-align: right;\">0</td><td style = \"text-align: right;\">0</td><td style = \"text-align: right;\">0</td><td style = \"text-align: right;\">0</td><td style = \"text-align: left;\">Area_M8</td></tr><tr><td class = \"rowNumber\" style = \"font-weight: bold; text-align: right;\">9</td><td style = \"text-align: right;\">0</td><td style = \"text-align: right;\">0</td><td style = \"text-align: right;\">0</td><td style = \"text-align: right;\">0</td><td style = \"text-align: right;\">0</td><td style = \"text-align: right;\">0</td><td style = \"text-align: right;\">0</td><td style = \"text-align: right;\">0</td><td style = \"text-align: right;\">0</td><td style = \"text-align: right;\">0</td><td style = \"text-align: right;\">0</td><td style = \"text-align: right;\">0</td><td style = \"text-align: right;\">0</td><td style = \"text-align: right;\">0</td><td style = \"text-align: right;\">0</td><td style = \"text-align: right;\">0</td><td style = \"text-align: right;\">0</td><td style = \"text-align: right;\">0</td><td style = \"text-align: right;\">0</td><td style = \"text-align: right;\">0</td><td style = \"text-align: right;\">0</td><td style = \"text-align: right;\">0</td><td style = \"text-align: right;\">0</td><td style = \"text-align: right;\">0</td><td style = \"text-align: right;\">0</td><td style = \"text-align: right;\">0</td><td style = \"text-align: right;\">2</td><td style = \"text-align: right;\">0</td><td style = \"text-align: right;\">0</td><td style = \"text-align: right;\">0</td><td style = \"text-align: right;\">0</td><td style = \"text-align: right;\">0</td><td style = \"text-align: right;\">3</td><td style = \"text-align: right;\">0</td><td style = \"text-align: right;\">0</td><td style = \"text-align: right;\">0</td><td style = \"text-align: right;\">0</td><td style = \"text-align: right;\">0</td><td style = \"text-align: right;\">0</td><td style = \"text-align: right;\">0</td><td style = \"text-align: right;\">0</td><td style = \"text-align: right;\">0</td><td style = \"text-align: right;\">0</td><td style = \"text-align: right;\">0</td><td style = \"text-align: right;\">0</td><td style = \"text-align: right;\">0</td><td style = \"text-align: right;\">0</td><td style = \"text-align: right;\">0</td><td style = \"text-align: right;\">0</td><td style = \"text-align: right;\">0</td><td style = \"text-align: right;\">0</td><td style = \"text-align: right;\">0</td><td style = \"text-align: right;\">0</td><td style = \"text-align: right;\">0</td><td style = \"text-align: right;\">0</td><td style = \"text-align: right;\">0</td><td style = \"text-align: right;\">0</td><td style = \"text-align: right;\">0</td><td style = \"text-align: right;\">0</td><td style = \"text-align: right;\">0</td><td style = \"text-align: right;\">0</td><td style = \"text-align: right;\">0</td><td style = \"text-align: right;\">0</td><td style = \"text-align: right;\">0</td><td style = \"text-align: right;\">0</td><td style = \"text-align: right;\">0</td><td style = \"text-align: right;\">0</td><td style = \"text-align: right;\">0</td><td style = \"text-align: right;\">0</td><td style = \"text-align: right;\">0</td><td style = \"text-align: right;\">0</td><td style = \"text-align: right;\">0</td><td style = \"text-align: right;\">0</td><td style = \"text-align: right;\">0</td><td style = \"text-align: right;\">0</td><td style = \"text-align: right;\">0</td><td style = \"text-align: right;\">0</td><td style = \"text-align: right;\">0</td><td style = \"text-align: right;\">0</td><td style = \"text-align: right;\">0</td><td style = \"text-align: right;\">0</td><td style = \"text-align: right;\">0</td><td style = \"text-align: right;\">0</td><td style = \"text-align: right;\">0</td><td style = \"text-align: right;\">0</td><td style = \"text-align: right;\">0</td><td style = \"text-align: right;\">0</td><td style = \"text-align: right;\">0</td><td style = \"text-align: right;\">0</td><td style = \"text-align: right;\">0</td><td style = \"text-align: left;\">Area_M9</td></tr></tbody></table></div>"
      ],
      "text/latex": [
       "\\begin{tabular}{r|ccccccccc}\n",
       "\t& Zipcode\\_1 & Zipcode\\_2 & Zipcode\\_3 & Zipcode\\_4 & Zipcode\\_5 & Zipcode\\_6 & Zipcode\\_7 & Zipcode\\_8 & \\\\\n",
       "\t\\hline\n",
       "\t& Int64 & Int64 & Int64 & Int64 & Int64 & Int64 & Int64 & Int64 & \\\\\n",
       "\t\\hline\n",
       "\t1 & 0 & 0 & 0 & 0 & 0 & 0 & 0 & 0 & $\\dots$ \\\\\n",
       "\t2 & 0 & 0 & 0 & 0 & 0 & 0 & 0 & 0 & $\\dots$ \\\\\n",
       "\t3 & 0 & 0 & 0 & 0 & 0 & 0 & 0 & 0 & $\\dots$ \\\\\n",
       "\t4 & 3 & 0 & 4 & 0 & 0 & 0 & 0 & 0 & $\\dots$ \\\\\n",
       "\t5 & 0 & 0 & 0 & 0 & 0 & 0 & 0 & 0 & $\\dots$ \\\\\n",
       "\t6 & 0 & 0 & 0 & 0 & 0 & 0 & 0 & 1 & $\\dots$ \\\\\n",
       "\t7 & 0 & 0 & 0 & 0 & 0 & 0 & 0 & 0 & $\\dots$ \\\\\n",
       "\t8 & 0 & 2 & 0 & 0 & 0 & 0 & 0 & 0 & $\\dots$ \\\\\n",
       "\t9 & 0 & 0 & 0 & 0 & 0 & 0 & 0 & 0 & $\\dots$ \\\\\n",
       "\\end{tabular}\n"
      ],
      "text/plain": [
       "\u001b[1m9×91 DataFrame\u001b[0m\n",
       "\u001b[1m Row \u001b[0m│\u001b[1m Zipcode_1 \u001b[0m\u001b[1m Zipcode_2 \u001b[0m\u001b[1m Zipcode_3 \u001b[0m\u001b[1m Zipcode_4 \u001b[0m\u001b[1m Zipcode_5 \u001b[0m\u001b[1m Zipcode_6 \u001b[0m\u001b[1m Zipco\u001b[0m ⋯\n",
       "     │\u001b[90m Int64     \u001b[0m\u001b[90m Int64     \u001b[0m\u001b[90m Int64     \u001b[0m\u001b[90m Int64     \u001b[0m\u001b[90m Int64     \u001b[0m\u001b[90m Int64     \u001b[0m\u001b[90m Int64\u001b[0m ⋯\n",
       "─────┼──────────────────────────────────────────────────────────────────────────\n",
       "   1 │         0          0          0          0          0          0        ⋯\n",
       "   2 │         0          0          0          0          0          0\n",
       "   3 │         0          0          0          0          0          0\n",
       "   4 │         3          0          4          0          0          0\n",
       "   5 │         0          0          0          0          0          0        ⋯\n",
       "   6 │         0          0          0          0          0          0\n",
       "   7 │         0          0          0          0          0          0\n",
       "   8 │         0          2          0          0          0          0\n",
       "   9 │         0          0          0          0          0          0        ⋯\n",
       "\u001b[36m                                                              85 columns omitted\u001b[0m"
      ]
     },
     "execution_count": 43,
     "metadata": {},
     "output_type": "execute_result"
    }
   ],
   "source": [
    "df"
   ]
  },
  {
   "cell_type": "code",
   "execution_count": null,
   "metadata": {},
   "outputs": [
    {
     "data": {
      "text/html": [
       "<div><div style = \"float: left;\"><span>9×90 DataFrame</span></div><div style = \"clear: both;\"></div></div><div class = \"data-frame\" style = \"overflow-x: scroll;\"><table class = \"data-frame\" style = \"margin-bottom: 6px;\"><thead><tr class = \"header\"><th class = \"rowNumber\" style = \"font-weight: bold; text-align: right;\">Row</th><th style = \"text-align: left;\">Zipcode_1</th><th style = \"text-align: left;\">Zipcode_2</th><th style = \"text-align: left;\">Zipcode_3</th><th style = \"text-align: left;\">Zipcode_4</th><th style = \"text-align: left;\">Zipcode_5</th><th style = \"text-align: left;\">Zipcode_6</th><th style = \"text-align: left;\">Zipcode_7</th><th style = \"text-align: left;\">Zipcode_8</th><th style = \"text-align: left;\">Zipcode_9</th><th style = \"text-align: left;\">Zipcode_10</th><th style = \"text-align: left;\">Zipcode_11</th><th style = \"text-align: left;\">Zipcode_12</th><th style = \"text-align: left;\">Zipcode_13</th><th style = \"text-align: left;\">Zipcode_14</th><th style = \"text-align: left;\">Zipcode_15</th><th style = \"text-align: left;\">Zipcode_16</th><th style = \"text-align: left;\">Zipcode_17</th><th style = \"text-align: left;\">Zipcode_18</th><th style = \"text-align: left;\">Zipcode_19</th><th style = \"text-align: left;\">Zipcode_20</th><th style = \"text-align: left;\">Zipcode_21</th><th style = \"text-align: left;\">Zipcode_22</th><th style = \"text-align: left;\">Zipcode_23</th><th style = \"text-align: left;\">Zipcode_24</th><th style = \"text-align: left;\">Zipcode_25</th><th style = \"text-align: left;\">Zipcode_26</th><th style = \"text-align: left;\">Zipcode_27</th><th style = \"text-align: left;\">Zipcode_28</th><th style = \"text-align: left;\">Zipcode_29</th><th style = \"text-align: left;\">Zipcode_30</th><th style = \"text-align: left;\">Zipcode_31</th><th style = \"text-align: left;\">Zipcode_32</th><th style = \"text-align: left;\">Zipcode_33</th><th style = \"text-align: left;\">Zipcode_34</th><th style = \"text-align: left;\">Zipcode_35</th><th style = \"text-align: left;\">Zipcode_36</th><th style = \"text-align: left;\">Zipcode_37</th><th style = \"text-align: left;\">Zipcode_38</th><th style = \"text-align: left;\">Zipcode_39</th><th style = \"text-align: left;\">Zipcode_40</th><th style = \"text-align: left;\">Zipcode_41</th><th style = \"text-align: left;\">Zipcode_42</th><th style = \"text-align: left;\">Zipcode_43</th><th style = \"text-align: left;\">Zipcode_44</th><th style = \"text-align: left;\">Zipcode_45</th><th style = \"text-align: left;\">Zipcode_46</th><th style = \"text-align: left;\">Zipcode_47</th><th style = \"text-align: left;\">Zipcode_48</th><th style = \"text-align: left;\">Zipcode_49</th><th style = \"text-align: left;\">Zipcode_50</th><th style = \"text-align: left;\">Zipcode_51</th><th style = \"text-align: left;\">Zipcode_52</th><th style = \"text-align: left;\">Zipcode_53</th><th style = \"text-align: left;\">Zipcode_54</th><th style = \"text-align: left;\">Zipcode_55</th><th style = \"text-align: left;\">Zipcode_56</th><th style = \"text-align: left;\">Zipcode_57</th><th style = \"text-align: left;\">Zipcode_58</th><th style = \"text-align: left;\">Zipcode_59</th><th style = \"text-align: left;\">Zipcode_60</th><th style = \"text-align: left;\">Zipcode_61</th><th style = \"text-align: left;\">Zipcode_62</th><th style = \"text-align: left;\">Zipcode_63</th><th style = \"text-align: left;\">Zipcode_64</th><th style = \"text-align: left;\">Zipcode_65</th><th style = \"text-align: left;\">Zipcode_66</th><th style = \"text-align: left;\">Zipcode_67</th><th style = \"text-align: left;\">Zipcode_68</th><th style = \"text-align: left;\">Zipcode_69</th><th style = \"text-align: left;\">Zipcode_70</th><th style = \"text-align: left;\">Zipcode_71</th><th style = \"text-align: left;\">Zipcode_72</th><th style = \"text-align: left;\">Zipcode_73</th><th style = \"text-align: left;\">Zipcode_74</th><th style = \"text-align: left;\">Zipcode_75</th><th style = \"text-align: left;\">Zipcode_76</th><th style = \"text-align: left;\">Zipcode_77</th><th style = \"text-align: left;\">Zipcode_78</th><th style = \"text-align: left;\">Zipcode_79</th><th style = \"text-align: left;\">Zipcode_80</th><th style = \"text-align: left;\">Zipcode_81</th><th style = \"text-align: left;\">Zipcode_82</th><th style = \"text-align: left;\">Zipcode_83</th><th style = \"text-align: left;\">Zipcode_84</th><th style = \"text-align: left;\">Zipcode_85</th><th style = \"text-align: left;\">Zipcode_86</th><th style = \"text-align: left;\">Zipcode_87</th><th style = \"text-align: left;\">Zipcode_88</th><th style = \"text-align: left;\">Zipcode_89</th><th style = \"text-align: left;\">Zipcode_90</th></tr><tr class = \"subheader headerLastRow\"><th class = \"rowNumber\" style = \"font-weight: bold; text-align: right;\"></th><th title = \"Real\" style = \"text-align: left;\">Real</th><th title = \"Real\" style = \"text-align: left;\">Real</th><th title = \"Real\" style = \"text-align: left;\">Real</th><th title = \"Real\" style = \"text-align: left;\">Real</th><th title = \"Real\" style = \"text-align: left;\">Real</th><th title = \"Real\" style = \"text-align: left;\">Real</th><th title = \"Real\" style = \"text-align: left;\">Real</th><th title = \"Real\" style = \"text-align: left;\">Real</th><th title = \"Real\" style = \"text-align: left;\">Real</th><th title = \"Real\" style = \"text-align: left;\">Real</th><th title = \"Real\" style = \"text-align: left;\">Real</th><th title = \"Real\" style = \"text-align: left;\">Real</th><th title = \"Real\" style = \"text-align: left;\">Real</th><th title = \"Real\" style = \"text-align: left;\">Real</th><th title = \"Real\" style = \"text-align: left;\">Real</th><th title = \"Real\" style = \"text-align: left;\">Real</th><th title = \"Real\" style = \"text-align: left;\">Real</th><th title = \"Real\" style = \"text-align: left;\">Real</th><th title = \"Real\" style = \"text-align: left;\">Real</th><th title = \"Real\" style = \"text-align: left;\">Real</th><th title = \"Real\" style = \"text-align: left;\">Real</th><th title = \"Real\" style = \"text-align: left;\">Real</th><th title = \"Real\" style = \"text-align: left;\">Real</th><th title = \"Real\" style = \"text-align: left;\">Real</th><th title = \"Real\" style = \"text-align: left;\">Real</th><th title = \"Real\" style = \"text-align: left;\">Real</th><th title = \"Real\" style = \"text-align: left;\">Real</th><th title = \"Real\" style = \"text-align: left;\">Real</th><th title = \"Real\" style = \"text-align: left;\">Real</th><th title = \"Real\" style = \"text-align: left;\">Real</th><th title = \"Real\" style = \"text-align: left;\">Real</th><th title = \"Real\" style = \"text-align: left;\">Real</th><th title = \"Real\" style = \"text-align: left;\">Real</th><th title = \"Real\" style = \"text-align: left;\">Real</th><th title = \"Real\" style = \"text-align: left;\">Real</th><th title = \"Real\" style = \"text-align: left;\">Real</th><th title = \"Real\" style = \"text-align: left;\">Real</th><th title = \"Real\" style = \"text-align: left;\">Real</th><th title = \"Real\" style = \"text-align: left;\">Real</th><th title = \"Real\" style = \"text-align: left;\">Real</th><th title = \"Real\" style = \"text-align: left;\">Real</th><th title = \"Real\" style = \"text-align: left;\">Real</th><th title = \"Real\" style = \"text-align: left;\">Real</th><th title = \"Real\" style = \"text-align: left;\">Real</th><th title = \"Real\" style = \"text-align: left;\">Real</th><th title = \"Real\" style = \"text-align: left;\">Real</th><th title = \"Real\" style = \"text-align: left;\">Real</th><th title = \"Real\" style = \"text-align: left;\">Real</th><th title = \"Real\" style = \"text-align: left;\">Real</th><th title = \"Real\" style = \"text-align: left;\">Real</th><th title = \"Real\" style = \"text-align: left;\">Real</th><th title = \"Real\" style = \"text-align: left;\">Real</th><th title = \"Real\" style = \"text-align: left;\">Real</th><th title = \"Real\" style = \"text-align: left;\">Real</th><th title = \"Real\" style = \"text-align: left;\">Real</th><th title = \"Real\" style = \"text-align: left;\">Real</th><th title = \"Real\" style = \"text-align: left;\">Real</th><th title = \"Real\" style = \"text-align: left;\">Real</th><th title = \"Real\" style = \"text-align: left;\">Real</th><th title = \"Real\" style = \"text-align: left;\">Real</th><th title = \"Real\" style = \"text-align: left;\">Real</th><th title = \"Real\" style = \"text-align: left;\">Real</th><th title = \"Real\" style = \"text-align: left;\">Real</th><th title = \"Real\" style = \"text-align: left;\">Real</th><th title = \"Real\" style = \"text-align: left;\">Real</th><th title = \"Real\" style = \"text-align: left;\">Real</th><th title = \"Real\" style = \"text-align: left;\">Real</th><th title = \"Real\" style = \"text-align: left;\">Real</th><th title = \"Real\" style = \"text-align: left;\">Real</th><th title = \"Real\" style = \"text-align: left;\">Real</th><th title = \"Real\" style = \"text-align: left;\">Real</th><th title = \"Real\" style = \"text-align: left;\">Real</th><th title = \"Real\" style = \"text-align: left;\">Real</th><th title = \"Real\" style = \"text-align: left;\">Real</th><th title = \"Real\" style = \"text-align: left;\">Real</th><th title = \"Real\" style = \"text-align: left;\">Real</th><th title = \"Real\" style = \"text-align: left;\">Real</th><th title = \"Real\" style = \"text-align: left;\">Real</th><th title = \"Real\" style = \"text-align: left;\">Real</th><th title = \"Real\" style = \"text-align: left;\">Real</th><th title = \"Real\" style = \"text-align: left;\">Real</th><th title = \"Real\" style = \"text-align: left;\">Real</th><th title = \"Real\" style = \"text-align: left;\">Real</th><th title = \"Real\" style = \"text-align: left;\">Real</th><th title = \"Real\" style = \"text-align: left;\">Real</th><th title = \"Real\" style = \"text-align: left;\">Real</th><th title = \"Real\" style = \"text-align: left;\">Real</th><th title = \"Real\" style = \"text-align: left;\">Real</th><th title = \"Real\" style = \"text-align: left;\">Real</th><th title = \"Real\" style = \"text-align: left;\">Real</th></tr></thead><tbody><tr><td class = \"rowNumber\" style = \"font-weight: bold; text-align: right;\">1</td><td style = \"text-align: right;\">0</td><td style = \"text-align: right;\">0</td><td style = \"text-align: right;\">0</td><td style = \"text-align: right;\">0</td><td style = \"text-align: right;\">0</td><td style = \"text-align: right;\">0</td><td style = \"text-align: right;\">0</td><td style = \"text-align: right;\">0</td><td style = \"text-align: right;\">0</td><td style = \"text-align: right;\">0</td><td style = \"text-align: right;\">0</td><td style = \"text-align: right;\">0</td><td style = \"text-align: right;\">0</td><td style = \"text-align: right;\">0</td><td style = \"text-align: right;\">0</td><td style = \"text-align: right;\">0</td><td style = \"text-align: right;\">0</td><td style = \"text-align: right;\">0</td><td style = \"text-align: right;\">0</td><td style = \"text-align: right;\">0</td><td style = \"text-align: right;\">0</td><td style = \"text-align: right;\">0</td><td style = \"text-align: right;\">2914.0</td><td style = \"text-align: right;\">0</td><td style = \"text-align: right;\">2320.0</td><td style = \"text-align: right;\">0</td><td style = \"text-align: right;\">0</td><td style = \"text-align: right;\">0</td><td style = \"text-align: right;\">0</td><td style = \"text-align: right;\">0</td><td style = \"text-align: right;\">0</td><td style = \"text-align: right;\">0</td><td style = \"text-align: right;\">0</td><td style = \"text-align: right;\">0</td><td style = \"text-align: right;\">0</td><td style = \"text-align: right;\">0</td><td style = \"text-align: right;\">0</td><td style = \"text-align: right;\">0</td><td style = \"text-align: right;\">0</td><td style = \"text-align: right;\">0</td><td style = \"text-align: right;\">0</td><td style = \"text-align: right;\">0</td><td style = \"text-align: right;\">0</td><td style = \"text-align: right;\">0</td><td style = \"text-align: right;\">0</td><td style = \"text-align: right;\">0</td><td style = \"text-align: right;\">0</td><td style = \"text-align: right;\">0</td><td style = \"text-align: right;\">0</td><td style = \"text-align: right;\">0</td><td style = \"text-align: right;\">0</td><td style = \"text-align: right;\">0</td><td style = \"text-align: right;\">0</td><td style = \"text-align: right;\">0</td><td style = \"text-align: right;\">0</td><td style = \"text-align: right;\">0</td><td style = \"text-align: right;\">0</td><td style = \"text-align: right;\">0</td><td style = \"text-align: right;\">0</td><td style = \"text-align: right;\">0</td><td style = \"text-align: right;\">0</td><td style = \"text-align: right;\">0</td><td style = \"text-align: right;\">0</td><td style = \"text-align: right;\">0</td><td style = \"text-align: right;\">0</td><td style = \"text-align: right;\">0</td><td style = \"text-align: right;\">0</td><td style = \"text-align: right;\">0</td><td style = \"text-align: right;\">0</td><td style = \"text-align: right;\">0</td><td style = \"text-align: right;\">0</td><td style = \"text-align: right;\">0</td><td style = \"text-align: right;\">0</td><td style = \"text-align: right;\">0</td><td style = \"text-align: right;\">0</td><td style = \"text-align: right;\">0</td><td style = \"text-align: right;\">0</td><td style = \"text-align: right;\">0</td><td style = \"text-align: right;\">0</td><td style = \"text-align: right;\">0</td><td style = \"text-align: right;\">0</td><td style = \"text-align: right;\">0</td><td style = \"text-align: right;\">0</td><td style = \"text-align: right;\">0</td><td style = \"text-align: right;\">0</td><td style = \"text-align: right;\">0</td><td style = \"text-align: right;\">0</td><td style = \"text-align: right;\">0</td><td style = \"text-align: right;\">0</td><td style = \"text-align: right;\">0</td></tr><tr><td class = \"rowNumber\" style = \"font-weight: bold; text-align: right;\">2</td><td style = \"text-align: right;\">0</td><td style = \"text-align: right;\">0</td><td style = \"text-align: right;\">0</td><td style = \"text-align: right;\">0</td><td style = \"text-align: right;\">0</td><td style = \"text-align: right;\">0</td><td style = \"text-align: right;\">0</td><td style = \"text-align: right;\">0</td><td style = \"text-align: right;\">0</td><td style = \"text-align: right;\">0</td><td style = \"text-align: right;\">0</td><td style = \"text-align: right;\">0</td><td style = \"text-align: right;\">0</td><td style = \"text-align: right;\">0</td><td style = \"text-align: right;\">0</td><td style = \"text-align: right;\">0</td><td style = \"text-align: right;\">0</td><td style = \"text-align: right;\">0</td><td style = \"text-align: right;\">0</td><td style = \"text-align: right;\">0</td><td style = \"text-align: right;\">0</td><td style = \"text-align: right;\">0</td><td style = \"text-align: right;\">0</td><td style = \"text-align: right;\">0</td><td style = \"text-align: right;\">0</td><td style = \"text-align: right;\">0</td><td style = \"text-align: right;\">0</td><td style = \"text-align: right;\">0</td><td style = \"text-align: right;\">0</td><td style = \"text-align: right;\">0</td><td style = \"text-align: right;\">0</td><td style = \"text-align: right;\">0</td><td style = \"text-align: right;\">0</td><td style = \"text-align: right;\">0</td><td style = \"text-align: right;\">0</td><td style = \"text-align: right;\">0</td><td style = \"text-align: right;\">0</td><td style = \"text-align: right;\">0</td><td style = \"text-align: right;\">0</td><td style = \"text-align: right;\">0</td><td style = \"text-align: right;\">0</td><td style = \"text-align: right;\">0</td><td style = \"text-align: right;\">0</td><td style = \"text-align: right;\">0</td><td style = \"text-align: right;\">0</td><td style = \"text-align: right;\">0</td><td style = \"text-align: right;\">0</td><td style = \"text-align: right;\">0</td><td style = \"text-align: right;\">0</td><td style = \"text-align: right;\">0</td><td style = \"text-align: right;\">0</td><td style = \"text-align: right;\">0</td><td style = \"text-align: right;\">0</td><td style = \"text-align: right;\">0</td><td style = \"text-align: right;\">0</td><td style = \"text-align: right;\">0</td><td style = \"text-align: right;\">0</td><td style = \"text-align: right;\">0</td><td style = \"text-align: right;\">0</td><td style = \"text-align: right;\">0</td><td style = \"text-align: right;\">0</td><td style = \"text-align: right;\">0</td><td style = \"text-align: right;\">0</td><td style = \"text-align: right;\">0</td><td style = \"text-align: right;\">0</td><td style = \"text-align: right;\">0</td><td style = \"text-align: right;\">0</td><td style = \"text-align: right;\">0</td><td style = \"text-align: right;\">0</td><td style = \"text-align: right;\">0</td><td style = \"text-align: right;\">0</td><td style = \"text-align: right;\">0</td><td style = \"text-align: right;\">0</td><td style = \"text-align: right;\">0</td><td style = \"text-align: right;\">0</td><td style = \"text-align: right;\">0</td><td style = \"text-align: right;\">0</td><td style = \"text-align: right;\">0</td><td style = \"text-align: right;\">0</td><td style = \"text-align: right;\">0</td><td style = \"text-align: right;\">0</td><td style = \"text-align: right;\">0</td><td style = \"text-align: right;\">0</td><td style = \"text-align: right;\">0</td><td style = \"text-align: right;\">0</td><td style = \"text-align: right;\">0</td><td style = \"text-align: right;\">0</td><td style = \"text-align: right;\">0</td><td style = \"text-align: right;\">0</td><td style = \"text-align: right;\">0</td></tr><tr><td class = \"rowNumber\" style = \"font-weight: bold; text-align: right;\">3</td><td style = \"text-align: right;\">0</td><td style = \"text-align: right;\">0</td><td style = \"text-align: right;\">0</td><td style = \"text-align: right;\">0</td><td style = \"text-align: right;\">0</td><td style = \"text-align: right;\">0</td><td style = \"text-align: right;\">0</td><td style = \"text-align: right;\">0</td><td style = \"text-align: right;\">0</td><td style = \"text-align: right;\">0</td><td style = \"text-align: right;\">0</td><td style = \"text-align: right;\">0</td><td style = \"text-align: right;\">0</td><td style = \"text-align: right;\">0</td><td style = \"text-align: right;\">0</td><td style = \"text-align: right;\">0</td><td style = \"text-align: right;\">0</td><td style = \"text-align: right;\">0</td><td style = \"text-align: right;\">0</td><td style = \"text-align: right;\">0</td><td style = \"text-align: right;\">0</td><td style = \"text-align: right;\">0</td><td style = \"text-align: right;\">0</td><td style = \"text-align: right;\">1560.0</td><td style = \"text-align: right;\">0</td><td style = \"text-align: right;\">0</td><td style = \"text-align: right;\">0</td><td style = \"text-align: right;\">0</td><td style = \"text-align: right;\">0</td><td style = \"text-align: right;\">3287.0</td><td style = \"text-align: right;\">0</td><td style = \"text-align: right;\">0</td><td style = \"text-align: right;\">0</td><td style = \"text-align: right;\">0</td><td style = \"text-align: right;\">0</td><td style = \"text-align: right;\">0</td><td style = \"text-align: right;\">0</td><td style = \"text-align: right;\">0</td><td style = \"text-align: right;\">0</td><td style = \"text-align: right;\">0</td><td style = \"text-align: right;\">0</td><td style = \"text-align: right;\">0</td><td style = \"text-align: right;\">0</td><td style = \"text-align: right;\">0</td><td style = \"text-align: right;\">0</td><td style = \"text-align: right;\">0</td><td style = \"text-align: right;\">0</td><td style = \"text-align: right;\">0</td><td style = \"text-align: right;\">0</td><td style = \"text-align: right;\">0</td><td style = \"text-align: right;\">0</td><td style = \"text-align: right;\">0</td><td style = \"text-align: right;\">0</td><td style = \"text-align: right;\">0</td><td style = \"text-align: right;\">0</td><td style = \"text-align: right;\">0</td><td style = \"text-align: right;\">0</td><td style = \"text-align: right;\">0</td><td style = \"text-align: right;\">0</td><td style = \"text-align: right;\">0</td><td style = \"text-align: right;\">0</td><td style = \"text-align: right;\">0</td><td style = \"text-align: right;\">0</td><td style = \"text-align: right;\">0</td><td style = \"text-align: right;\">0</td><td style = \"text-align: right;\">0</td><td style = \"text-align: right;\">0</td><td style = \"text-align: right;\">0</td><td style = \"text-align: right;\">0</td><td style = \"text-align: right;\">0</td><td style = \"text-align: right;\">0</td><td style = \"text-align: right;\">0</td><td style = \"text-align: right;\">0</td><td style = \"text-align: right;\">0</td><td style = \"text-align: right;\">0</td><td style = \"text-align: right;\">0</td><td style = \"text-align: right;\">0</td><td style = \"text-align: right;\">0</td><td style = \"text-align: right;\">0</td><td style = \"text-align: right;\">0</td><td style = \"text-align: right;\">0</td><td style = \"text-align: right;\">0</td><td style = \"text-align: right;\">0</td><td style = \"text-align: right;\">0</td><td style = \"text-align: right;\">0</td><td style = \"text-align: right;\">0</td><td style = \"text-align: right;\">0</td><td style = \"text-align: right;\">0</td><td style = \"text-align: right;\">0</td><td style = \"text-align: right;\">0</td></tr><tr><td class = \"rowNumber\" style = \"font-weight: bold; text-align: right;\">4</td><td style = \"text-align: right;\">1635.0</td><td style = \"text-align: right;\">0</td><td style = \"text-align: right;\">1230.0</td><td style = \"text-align: right;\">0</td><td style = \"text-align: right;\">0</td><td style = \"text-align: right;\">0</td><td style = \"text-align: right;\">0</td><td style = \"text-align: right;\">0</td><td style = \"text-align: right;\">0</td><td style = \"text-align: right;\">1647.0</td><td style = \"text-align: right;\">0</td><td style = \"text-align: right;\">0</td><td style = \"text-align: right;\">0</td><td style = \"text-align: right;\">839.0</td><td style = \"text-align: right;\">0</td><td style = \"text-align: right;\">0</td><td style = \"text-align: right;\">0</td><td style = \"text-align: right;\">0</td><td style = \"text-align: right;\">0</td><td style = \"text-align: right;\">0</td><td style = \"text-align: right;\">0</td><td style = \"text-align: right;\">0</td><td style = \"text-align: right;\">0</td><td style = \"text-align: right;\">0</td><td style = \"text-align: right;\">0</td><td style = \"text-align: right;\">0</td><td style = \"text-align: right;\">0</td><td style = \"text-align: right;\">0</td><td style = \"text-align: right;\">0</td><td style = \"text-align: right;\">0</td><td style = \"text-align: right;\">0</td><td style = \"text-align: right;\">0</td><td style = \"text-align: right;\">0</td><td style = \"text-align: right;\">0</td><td style = \"text-align: right;\">0</td><td style = \"text-align: right;\">540.0</td><td style = \"text-align: right;\">0</td><td style = \"text-align: right;\">0</td><td style = \"text-align: right;\">0</td><td style = \"text-align: right;\">0</td><td style = \"text-align: right;\">0</td><td style = \"text-align: right;\">0</td><td style = \"text-align: right;\">0</td><td style = \"text-align: right;\">0</td><td style = \"text-align: right;\">0</td><td style = \"text-align: right;\">0</td><td style = \"text-align: right;\">0</td><td style = \"text-align: right;\">0</td><td style = \"text-align: right;\">0</td><td style = \"text-align: right;\">0</td><td style = \"text-align: right;\">0</td><td style = \"text-align: right;\">0</td><td style = \"text-align: right;\">0</td><td style = \"text-align: right;\">0</td><td style = \"text-align: right;\">0</td><td style = \"text-align: right;\">0</td><td style = \"text-align: right;\">0</td><td style = \"text-align: right;\">0</td><td style = \"text-align: right;\">0</td><td style = \"text-align: right;\">0</td><td style = \"text-align: right;\">0</td><td style = \"text-align: right;\">0</td><td style = \"text-align: right;\">0</td><td style = \"text-align: right;\">0</td><td style = \"text-align: right;\">0</td><td style = \"text-align: right;\">0</td><td style = \"text-align: right;\">0</td><td style = \"text-align: right;\">0</td><td style = \"text-align: right;\">0</td><td style = \"text-align: right;\">0</td><td style = \"text-align: right;\">0</td><td style = \"text-align: right;\">0</td><td style = \"text-align: right;\">0</td><td style = \"text-align: right;\">0</td><td style = \"text-align: right;\">0</td><td style = \"text-align: right;\">0</td><td style = \"text-align: right;\">0</td><td style = \"text-align: right;\">0</td><td style = \"text-align: right;\">0</td><td style = \"text-align: right;\">0</td><td style = \"text-align: right;\">0</td><td style = \"text-align: right;\">0</td><td style = \"text-align: right;\">0</td><td style = \"text-align: right;\">0</td><td style = \"text-align: right;\">0</td><td style = \"text-align: right;\">0</td><td style = \"text-align: right;\">0</td><td style = \"text-align: right;\">0</td><td style = \"text-align: right;\">0</td><td style = \"text-align: right;\">0</td></tr><tr><td class = \"rowNumber\" style = \"font-weight: bold; text-align: right;\">5</td><td style = \"text-align: right;\">0</td><td style = \"text-align: right;\">0</td><td style = \"text-align: right;\">0</td><td style = \"text-align: right;\">0</td><td style = \"text-align: right;\">0</td><td style = \"text-align: right;\">0</td><td style = \"text-align: right;\">0</td><td style = \"text-align: right;\">0</td><td style = \"text-align: right;\">0</td><td style = \"text-align: right;\">0</td><td style = \"text-align: right;\">0</td><td style = \"text-align: right;\">0</td><td style = \"text-align: right;\">0</td><td style = \"text-align: right;\">0</td><td style = \"text-align: right;\">0</td><td style = \"text-align: right;\">0</td><td style = \"text-align: right;\">0</td><td style = \"text-align: right;\">0</td><td style = \"text-align: right;\">0</td><td style = \"text-align: right;\">0</td><td style = \"text-align: right;\">0</td><td style = \"text-align: right;\">0</td><td style = \"text-align: right;\">0</td><td style = \"text-align: right;\">0</td><td style = \"text-align: right;\">0</td><td style = \"text-align: right;\">0</td><td style = \"text-align: right;\">0</td><td style = \"text-align: right;\">0</td><td style = \"text-align: right;\">2053.0</td><td style = \"text-align: right;\">0</td><td style = \"text-align: right;\">0</td><td style = \"text-align: right;\">0</td><td style = \"text-align: right;\">0</td><td style = \"text-align: right;\">2141.0</td><td style = \"text-align: right;\">0</td><td style = \"text-align: right;\">0</td><td style = \"text-align: right;\">1851.0</td><td style = \"text-align: right;\">0</td><td style = \"text-align: right;\">0</td><td style = \"text-align: right;\">0</td><td style = \"text-align: right;\">0</td><td style = \"text-align: right;\">0</td><td style = \"text-align: right;\">0</td><td style = \"text-align: right;\">0</td><td style = \"text-align: right;\">0</td><td style = \"text-align: right;\">0</td><td style = \"text-align: right;\">0</td><td style = \"text-align: right;\">0</td><td style = \"text-align: right;\">0</td><td style = \"text-align: right;\">0</td><td style = \"text-align: right;\">0</td><td style = \"text-align: right;\">0</td><td style = \"text-align: right;\">0</td><td style = \"text-align: right;\">0</td><td style = \"text-align: right;\">0</td><td style = \"text-align: right;\">0</td><td style = \"text-align: right;\">0</td><td style = \"text-align: right;\">0</td><td style = \"text-align: right;\">0</td><td style = \"text-align: right;\">0</td><td style = \"text-align: right;\">0</td><td style = \"text-align: right;\">0</td><td style = \"text-align: right;\">0</td><td style = \"text-align: right;\">0</td><td style = \"text-align: right;\">0</td><td style = \"text-align: right;\">0</td><td style = \"text-align: right;\">0</td><td style = \"text-align: right;\">0</td><td style = \"text-align: right;\">0</td><td style = \"text-align: right;\">0</td><td style = \"text-align: right;\">0</td><td style = \"text-align: right;\">0</td><td style = \"text-align: right;\">0</td><td style = \"text-align: right;\">0</td><td style = \"text-align: right;\">0</td><td style = \"text-align: right;\">0</td><td style = \"text-align: right;\">0</td><td style = \"text-align: right;\">0</td><td style = \"text-align: right;\">0</td><td style = \"text-align: right;\">0</td><td style = \"text-align: right;\">0</td><td style = \"text-align: right;\">0</td><td style = \"text-align: right;\">0</td><td style = \"text-align: right;\">0</td><td style = \"text-align: right;\">0</td><td style = \"text-align: right;\">0</td><td style = \"text-align: right;\">0</td><td style = \"text-align: right;\">0</td><td style = \"text-align: right;\">0</td><td style = \"text-align: right;\">0</td></tr><tr><td class = \"rowNumber\" style = \"font-weight: bold; text-align: right;\">6</td><td style = \"text-align: right;\">0</td><td style = \"text-align: right;\">0</td><td style = \"text-align: right;\">0</td><td style = \"text-align: right;\">0</td><td style = \"text-align: right;\">0</td><td style = \"text-align: right;\">0</td><td style = \"text-align: right;\">0</td><td style = \"text-align: right;\">603.0</td><td style = \"text-align: right;\">0</td><td style = \"text-align: right;\">0</td><td style = \"text-align: right;\">0</td><td style = \"text-align: right;\">0</td><td style = \"text-align: right;\">0</td><td style = \"text-align: right;\">0</td><td style = \"text-align: right;\">0</td><td style = \"text-align: right;\">1235.0</td><td style = \"text-align: right;\">909.0</td><td style = \"text-align: right;\">0</td><td style = \"text-align: right;\">0</td><td style = \"text-align: right;\">0</td><td style = \"text-align: right;\">0</td><td style = \"text-align: right;\">0</td><td style = \"text-align: right;\">0</td><td style = \"text-align: right;\">0</td><td style = \"text-align: right;\">0</td><td style = \"text-align: right;\">0</td><td style = \"text-align: right;\">0</td><td style = \"text-align: right;\">0</td><td style = \"text-align: right;\">0</td><td style = \"text-align: right;\">0</td><td style = \"text-align: right;\">0</td><td style = \"text-align: right;\">0</td><td style = \"text-align: right;\">0</td><td style = \"text-align: right;\">0</td><td style = \"text-align: right;\">0</td><td style = \"text-align: right;\">0</td><td style = \"text-align: right;\">0</td><td style = \"text-align: right;\">0</td><td style = \"text-align: right;\">0</td><td style = \"text-align: right;\">0</td><td style = \"text-align: right;\">0</td><td style = \"text-align: right;\">0</td><td style = \"text-align: right;\">478.0</td><td style = \"text-align: right;\">0</td><td style = \"text-align: right;\">0</td><td style = \"text-align: right;\">0</td><td style = \"text-align: right;\">0</td><td style = \"text-align: right;\">0</td><td style = \"text-align: right;\">0</td><td style = \"text-align: right;\">362.0</td><td style = \"text-align: right;\">0</td><td style = \"text-align: right;\">0</td><td style = \"text-align: right;\">0</td><td style = \"text-align: right;\">0</td><td style = \"text-align: right;\">0</td><td style = \"text-align: right;\">0</td><td style = \"text-align: right;\">0</td><td style = \"text-align: right;\">0</td><td style = \"text-align: right;\">0</td><td style = \"text-align: right;\">0</td><td style = \"text-align: right;\">0</td><td style = \"text-align: right;\">0</td><td style = \"text-align: right;\">0</td><td style = \"text-align: right;\">0</td><td style = \"text-align: right;\">0</td><td style = \"text-align: right;\">0</td><td style = \"text-align: right;\">0</td><td style = \"text-align: right;\">0</td><td style = \"text-align: right;\">0</td><td style = \"text-align: right;\">0</td><td style = \"text-align: right;\">0</td><td style = \"text-align: right;\">0</td><td style = \"text-align: right;\">0</td><td style = \"text-align: right;\">0</td><td style = \"text-align: right;\">0</td><td style = \"text-align: right;\">0</td><td style = \"text-align: right;\">0</td><td style = \"text-align: right;\">0</td><td style = \"text-align: right;\">0</td><td style = \"text-align: right;\">0</td><td style = \"text-align: right;\">0</td><td style = \"text-align: right;\">0</td><td style = \"text-align: right;\">0</td><td style = \"text-align: right;\">0</td><td style = \"text-align: right;\">0</td><td style = \"text-align: right;\">0</td><td style = \"text-align: right;\">0</td><td style = \"text-align: right;\">0</td><td style = \"text-align: right;\">0</td><td style = \"text-align: right;\">0</td></tr><tr><td class = \"rowNumber\" style = \"font-weight: bold; text-align: right;\">7</td><td style = \"text-align: right;\">0</td><td style = \"text-align: right;\">0</td><td style = \"text-align: right;\">0</td><td style = \"text-align: right;\">0</td><td style = \"text-align: right;\">0</td><td style = \"text-align: right;\">0</td><td style = \"text-align: right;\">0</td><td style = \"text-align: right;\">0</td><td style = \"text-align: right;\">0</td><td style = \"text-align: right;\">0</td><td style = \"text-align: right;\">0</td><td style = \"text-align: right;\">0</td><td style = \"text-align: right;\">0</td><td style = \"text-align: right;\">0</td><td style = \"text-align: right;\">0</td><td style = \"text-align: right;\">0</td><td style = \"text-align: right;\">0</td><td style = \"text-align: right;\">0</td><td style = \"text-align: right;\">0</td><td style = \"text-align: right;\">0</td><td style = \"text-align: right;\">0</td><td style = \"text-align: right;\">0</td><td style = \"text-align: right;\">0</td><td style = \"text-align: right;\">0</td><td style = \"text-align: right;\">0</td><td style = \"text-align: right;\">0</td><td style = \"text-align: right;\">0</td><td style = \"text-align: right;\">0</td><td style = \"text-align: right;\">0</td><td style = \"text-align: right;\">0</td><td style = \"text-align: right;\">0</td><td style = \"text-align: right;\">0</td><td style = \"text-align: right;\">0</td><td style = \"text-align: right;\">0</td><td style = \"text-align: right;\">0</td><td style = \"text-align: right;\">0</td><td style = \"text-align: right;\">0</td><td style = \"text-align: right;\">0</td><td style = \"text-align: right;\">0</td><td style = \"text-align: right;\">0</td><td style = \"text-align: right;\">0</td><td style = \"text-align: right;\">0</td><td style = \"text-align: right;\">0</td><td style = \"text-align: right;\">0</td><td style = \"text-align: right;\">0</td><td style = \"text-align: right;\">0</td><td style = \"text-align: right;\">0</td><td style = \"text-align: right;\">0</td><td style = \"text-align: right;\">0</td><td style = \"text-align: right;\">0</td><td style = \"text-align: right;\">0</td><td style = \"text-align: right;\">0</td><td style = \"text-align: right;\">0</td><td style = \"text-align: right;\">0</td><td style = \"text-align: right;\">0</td><td style = \"text-align: right;\">0</td><td style = \"text-align: right;\">0</td><td style = \"text-align: right;\">0</td><td style = \"text-align: right;\">0</td><td style = \"text-align: right;\">0</td><td style = \"text-align: right;\">0</td><td style = \"text-align: right;\">0</td><td style = \"text-align: right;\">0</td><td style = \"text-align: right;\">0</td><td style = \"text-align: right;\">0</td><td style = \"text-align: right;\">0</td><td style = \"text-align: right;\">0</td><td style = \"text-align: right;\">0</td><td style = \"text-align: right;\">0</td><td style = \"text-align: right;\">0</td><td style = \"text-align: right;\">0</td><td style = \"text-align: right;\">0</td><td style = \"text-align: right;\">0</td><td style = \"text-align: right;\">0</td><td style = \"text-align: right;\">0</td><td style = \"text-align: right;\">0</td><td style = \"text-align: right;\">0</td><td style = \"text-align: right;\">0</td><td style = \"text-align: right;\">0</td><td style = \"text-align: right;\">0</td><td style = \"text-align: right;\">0</td><td style = \"text-align: right;\">0</td><td style = \"text-align: right;\">0</td><td style = \"text-align: right;\">0</td><td style = \"text-align: right;\">0</td><td style = \"text-align: right;\">0</td><td style = \"text-align: right;\">0</td><td style = \"text-align: right;\">0</td><td style = \"text-align: right;\">0</td><td style = \"text-align: right;\">0</td></tr><tr><td class = \"rowNumber\" style = \"font-weight: bold; text-align: right;\">8</td><td style = \"text-align: right;\">0</td><td style = \"text-align: right;\">1038.0</td><td style = \"text-align: right;\">0</td><td style = \"text-align: right;\">0</td><td style = \"text-align: right;\">0</td><td style = \"text-align: right;\">0</td><td style = \"text-align: right;\">0</td><td style = \"text-align: right;\">0</td><td style = \"text-align: right;\">0</td><td style = \"text-align: right;\">0</td><td style = \"text-align: right;\">0</td><td style = \"text-align: right;\">7968.0</td><td style = \"text-align: right;\">820.0</td><td style = \"text-align: right;\">0</td><td style = \"text-align: right;\">753.0</td><td style = \"text-align: right;\">0</td><td style = \"text-align: right;\">0</td><td style = \"text-align: right;\">0</td><td style = \"text-align: right;\">0</td><td style = \"text-align: right;\">0</td><td style = \"text-align: right;\">0</td><td style = \"text-align: right;\">0</td><td style = \"text-align: right;\">0</td><td style = \"text-align: right;\">0</td><td style = \"text-align: right;\">0</td><td style = \"text-align: right;\">0</td><td style = \"text-align: right;\">0</td><td style = \"text-align: right;\">0</td><td style = \"text-align: right;\">0</td><td style = \"text-align: right;\">0</td><td style = \"text-align: right;\">0</td><td style = \"text-align: right;\">737.0</td><td style = \"text-align: right;\">0</td><td style = \"text-align: right;\">0</td><td style = \"text-align: right;\">0</td><td style = \"text-align: right;\">0</td><td style = \"text-align: right;\">0</td><td style = \"text-align: right;\">0</td><td style = \"text-align: right;\">0</td><td style = \"text-align: right;\">0</td><td style = \"text-align: right;\">0</td><td style = \"text-align: right;\">0</td><td style = \"text-align: right;\">0</td><td style = \"text-align: right;\">0</td><td style = \"text-align: right;\">0</td><td style = \"text-align: right;\">0</td><td style = \"text-align: right;\">0</td><td style = \"text-align: right;\">0</td><td style = \"text-align: right;\">0</td><td style = \"text-align: right;\">0</td><td style = \"text-align: right;\">0</td><td style = \"text-align: right;\">0</td><td style = \"text-align: right;\">0</td><td style = \"text-align: right;\">0</td><td style = \"text-align: right;\">0</td><td style = \"text-align: right;\">0</td><td style = \"text-align: right;\">0</td><td style = \"text-align: right;\">0</td><td style = \"text-align: right;\">0</td><td style = \"text-align: right;\">0</td><td style = \"text-align: right;\">0</td><td style = \"text-align: right;\">0</td><td style = \"text-align: right;\">0</td><td style = \"text-align: right;\">0</td><td style = \"text-align: right;\">0</td><td style = \"text-align: right;\">0</td><td style = \"text-align: right;\">0</td><td style = \"text-align: right;\">0</td><td style = \"text-align: right;\">0</td><td style = \"text-align: right;\">0</td><td style = \"text-align: right;\">0</td><td style = \"text-align: right;\">0</td><td style = \"text-align: right;\">0</td><td style = \"text-align: right;\">0</td><td style = \"text-align: right;\">0</td><td style = \"text-align: right;\">0</td><td style = \"text-align: right;\">0</td><td style = \"text-align: right;\">0</td><td style = \"text-align: right;\">0</td><td style = \"text-align: right;\">0</td><td style = \"text-align: right;\">0</td><td style = \"text-align: right;\">0</td><td style = \"text-align: right;\">0</td><td style = \"text-align: right;\">0</td><td style = \"text-align: right;\">0</td><td style = \"text-align: right;\">0</td><td style = \"text-align: right;\">0</td><td style = \"text-align: right;\">0</td><td style = \"text-align: right;\">0</td><td style = \"text-align: right;\">0</td></tr><tr><td class = \"rowNumber\" style = \"font-weight: bold; text-align: right;\">9</td><td style = \"text-align: right;\">0</td><td style = \"text-align: right;\">0</td><td style = \"text-align: right;\">0</td><td style = \"text-align: right;\">0</td><td style = \"text-align: right;\">0</td><td style = \"text-align: right;\">0</td><td style = \"text-align: right;\">0</td><td style = \"text-align: right;\">0</td><td style = \"text-align: right;\">0</td><td style = \"text-align: right;\">0</td><td style = \"text-align: right;\">0</td><td style = \"text-align: right;\">0</td><td style = \"text-align: right;\">0</td><td style = \"text-align: right;\">0</td><td style = \"text-align: right;\">0</td><td style = \"text-align: right;\">0</td><td style = \"text-align: right;\">0</td><td style = \"text-align: right;\">0</td><td style = \"text-align: right;\">0</td><td style = \"text-align: right;\">0</td><td style = \"text-align: right;\">0</td><td style = \"text-align: right;\">0</td><td style = \"text-align: right;\">0</td><td style = \"text-align: right;\">0</td><td style = \"text-align: right;\">0</td><td style = \"text-align: right;\">0</td><td style = \"text-align: right;\">3020.0</td><td style = \"text-align: right;\">0</td><td style = \"text-align: right;\">0</td><td style = \"text-align: right;\">0</td><td style = \"text-align: right;\">0</td><td style = \"text-align: right;\">0</td><td style = \"text-align: right;\">2822.0</td><td style = \"text-align: right;\">0</td><td style = \"text-align: right;\">0</td><td style = \"text-align: right;\">0</td><td style = \"text-align: right;\">0</td><td style = \"text-align: right;\">0</td><td style = \"text-align: right;\">0</td><td style = \"text-align: right;\">0</td><td style = \"text-align: right;\">0</td><td style = \"text-align: right;\">0</td><td style = \"text-align: right;\">0</td><td style = \"text-align: right;\">0</td><td style = \"text-align: right;\">0</td><td style = \"text-align: right;\">0</td><td style = \"text-align: right;\">0</td><td style = \"text-align: right;\">0</td><td style = \"text-align: right;\">0</td><td style = \"text-align: right;\">0</td><td style = \"text-align: right;\">0</td><td style = \"text-align: right;\">0</td><td style = \"text-align: right;\">0</td><td style = \"text-align: right;\">0</td><td style = \"text-align: right;\">0</td><td style = \"text-align: right;\">0</td><td style = \"text-align: right;\">0</td><td style = \"text-align: right;\">0</td><td style = \"text-align: right;\">0</td><td style = \"text-align: right;\">0</td><td style = \"text-align: right;\">0</td><td style = \"text-align: right;\">0</td><td style = \"text-align: right;\">0</td><td style = \"text-align: right;\">0</td><td style = \"text-align: right;\">0</td><td style = \"text-align: right;\">0</td><td style = \"text-align: right;\">0</td><td style = \"text-align: right;\">0</td><td style = \"text-align: right;\">0</td><td style = \"text-align: right;\">0</td><td style = \"text-align: right;\">0</td><td style = \"text-align: right;\">0</td><td style = \"text-align: right;\">0</td><td style = \"text-align: right;\">0</td><td style = \"text-align: right;\">0</td><td style = \"text-align: right;\">0</td><td style = \"text-align: right;\">0</td><td style = \"text-align: right;\">0</td><td style = \"text-align: right;\">0</td><td style = \"text-align: right;\">0</td><td style = \"text-align: right;\">0</td><td style = \"text-align: right;\">0</td><td style = \"text-align: right;\">0</td><td style = \"text-align: right;\">0</td><td style = \"text-align: right;\">0</td><td style = \"text-align: right;\">0</td><td style = \"text-align: right;\">0</td><td style = \"text-align: right;\">0</td><td style = \"text-align: right;\">0</td><td style = \"text-align: right;\">0</td></tr></tbody></table></div>"
      ],
      "text/latex": [
       "\\begin{tabular}{r|ccccccccc}\n",
       "\t& Zipcode\\_1 & Zipcode\\_2 & Zipcode\\_3 & Zipcode\\_4 & Zipcode\\_5 & Zipcode\\_6 & Zipcode\\_7 & Zipcode\\_8 & \\\\\n",
       "\t\\hline\n",
       "\t& Real & Real & Real & Real & Real & Real & Real & Real & \\\\\n",
       "\t\\hline\n",
       "\t1 & 0 & 0 & 0 & 0 & 0 & 0 & 0 & 0 & $\\dots$ \\\\\n",
       "\t2 & 0 & 0 & 0 & 0 & 0 & 0 & 0 & 0 & $\\dots$ \\\\\n",
       "\t3 & 0 & 0 & 0 & 0 & 0 & 0 & 0 & 0 & $\\dots$ \\\\\n",
       "\t4 & 1635.0 & 0 & 1230.0 & 0 & 0 & 0 & 0 & 0 & $\\dots$ \\\\\n",
       "\t5 & 0 & 0 & 0 & 0 & 0 & 0 & 0 & 0 & $\\dots$ \\\\\n",
       "\t6 & 0 & 0 & 0 & 0 & 0 & 0 & 0 & 603.0 & $\\dots$ \\\\\n",
       "\t7 & 0 & 0 & 0 & 0 & 0 & 0 & 0 & 0 & $\\dots$ \\\\\n",
       "\t8 & 0 & 1038.0 & 0 & 0 & 0 & 0 & 0 & 0 & $\\dots$ \\\\\n",
       "\t9 & 0 & 0 & 0 & 0 & 0 & 0 & 0 & 0 & $\\dots$ \\\\\n",
       "\\end{tabular}\n"
      ],
      "text/plain": [
       "\u001b[1m9×90 DataFrame\u001b[0m\n",
       "\u001b[1m Row \u001b[0m│\u001b[1m Zipcode_1 \u001b[0m\u001b[1m Zipcode_2 \u001b[0m\u001b[1m Zipcode_3 \u001b[0m\u001b[1m Zipcode_4 \u001b[0m\u001b[1m Zipcode_5 \u001b[0m\u001b[1m Zipcode_6 \u001b[0m\u001b[1m Zipco\u001b[0m ⋯\n",
       "     │\u001b[90m Real      \u001b[0m\u001b[90m Real      \u001b[0m\u001b[90m Real      \u001b[0m\u001b[90m Real      \u001b[0m\u001b[90m Real      \u001b[0m\u001b[90m Real      \u001b[0m\u001b[90m Real \u001b[0m ⋯\n",
       "─────┼──────────────────────────────────────────────────────────────────────────\n",
       "   1 │       0          0          0            0          0          0        ⋯\n",
       "   2 │       0          0          0            0          0          0\n",
       "   3 │       0          0          0            0          0          0\n",
       "   4 │    1635.0        0       1230.0          0          0          0\n",
       "   5 │       0          0          0            0          0          0        ⋯\n",
       "   6 │       0          0          0            0          0          0\n",
       "   7 │       0          0          0            0          0          0\n",
       "   8 │       0       1038.0        0            0          0          0\n",
       "   9 │       0          0          0            0          0          0        ⋯\n",
       "\u001b[36m                                                              84 columns omitted\u001b[0m"
      ]
     },
     "execution_count": 53,
     "metadata": {},
     "output_type": "execute_result"
    }
   ],
   "source": [
    "using DataFrames\n",
    "df_waittime_single_incident = DataFrame(\n",
    "    [ifelse(df[i, j] != 0, wait_time[i, j], 0) for i in 1:size(wait_time, 1), j in 1:size(wait_time, 2)],\n",
    "    names(df)[1:end-1]\n",
    ")\n",
    "\n",
    "df_waittime_single_incident\n"
   ]
  },
  {
   "cell_type": "code",
   "execution_count": null,
   "metadata": {},
   "outputs": [],
   "source": [
    "CSV.write(\"MinSum_cost_matrix_single_incident.csv\", df_cost_matrix)\n"
   ]
  },
  {
   "cell_type": "markdown",
   "metadata": {},
   "source": [
    "# In order to plot the distribution of waittime, we will have to \n",
    "\n",
    "Create a list such that:\n",
    "\n",
    "If df(i, j) is 0, do not add anything to the list.\n",
    "\n",
    "If df(i, j) is 1, add the corresponding wait_time(i, j) value to the list once.\n",
    "\n",
    "If df(i, j) is 2, add the wait_time(i, j) value twice, and so on."
   ]
  },
  {
   "cell_type": "code",
   "execution_count": 55,
   "metadata": {},
   "outputs": [
    {
     "ename": "LoadError",
     "evalue": "BoundsError: attempt to access 9×90 Matrix{Float64} at index [1, 91]",
     "output_type": "error",
     "traceback": [
      "BoundsError: attempt to access 9×90 Matrix{Float64} at index [1, 91]",
      "",
      "Stacktrace:",
      " [1] top-level scope",
      "   @ .\\In[55]:13"
     ]
    }
   ],
   "source": [
    "# Assuming `wait_time` is a matrix and `df` is a DataFrame\n",
    "\n",
    "# Initialize an empty list to store the result\n",
    "result_list = []\n",
    "\n",
    "# Iterate through each cell of the DataFrame\n",
    "for i in 1:size(df, 1)  # Iterate over rows\n",
    "    for j in 1:size(df, 2)  # Iterate over columns\n",
    "        # Get the value of df[i, j]\n",
    "        count = df[i, j]\n",
    "        \n",
    "        # Get the corresponding value from wait_time matrix\n",
    "        value = wait_time[i, j]\n",
    "        \n",
    "        # Add the value to the list 'count' times\n",
    "        append!(result_list, fill(value, count))\n",
    "    end\n",
    "end\n",
    "\n",
    "# Now `result_list` contains the desired values\n",
    "result_list"
   ]
  }
 ],
 "metadata": {
  "kernelspec": {
   "display_name": "Julia 1.10.4",
   "language": "julia",
   "name": "julia-1.10"
  },
  "language_info": {
   "file_extension": ".jl",
   "mimetype": "application/julia",
   "name": "julia",
   "version": "1.10.4"
  }
 },
 "nbformat": 4,
 "nbformat_minor": 2
}
