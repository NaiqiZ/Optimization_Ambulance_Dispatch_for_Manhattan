{
 "cells": [
  {
   "cell_type": "code",
   "execution_count": 1,
   "metadata": {},
   "outputs": [],
   "source": [
    "using DataFrames, CSV\n",
    "using JuMP, Gurobi\n",
    "using LinearAlgebra, Random, Printf, StatsBase, CategoricalArrays"
   ]
  },
  {
   "cell_type": "code",
   "execution_count": 2,
   "metadata": {},
   "outputs": [],
   "source": [
    "const GRB_ENV = Gurobi.Env(output_flag=0);\n"
   ]
  },
  {
   "cell_type": "markdown",
   "metadata": {},
   "source": [
    "# data import"
   ]
  },
  {
   "cell_type": "code",
   "execution_count": 3,
   "metadata": {},
   "outputs": [
    {
     "data": {
      "text/html": [
       "<div><div style = \"float: left;\"><span>24×2 DataFrame</span></div><div style = \"clear: both;\"></div></div><div class = \"data-frame\" style = \"overflow-x: scroll;\"><table class = \"data-frame\" style = \"margin-bottom: 6px;\"><thead><tr class = \"header\"><th class = \"rowNumber\" style = \"font-weight: bold; text-align: right;\">Row</th><th style = \"text-align: left;\">ZIPCODE</th><th style = \"text-align: left;\">INCIDENT_COUNT</th></tr><tr class = \"subheader headerLastRow\"><th class = \"rowNumber\" style = \"font-weight: bold; text-align: right;\"></th><th title = \"Int64\" style = \"text-align: left;\">Int64</th><th title = \"Int64\" style = \"text-align: left;\">Int64</th></tr></thead><tbody><tr><td class = \"rowNumber\" style = \"font-weight: bold; text-align: right;\">1</td><td style = \"text-align: right;\">10003</td><td style = \"text-align: right;\">4</td></tr><tr><td class = \"rowNumber\" style = \"font-weight: bold; text-align: right;\">2</td><td style = \"text-align: right;\">10027</td><td style = \"text-align: right;\">4</td></tr><tr><td class = \"rowNumber\" style = \"font-weight: bold; text-align: right;\">3</td><td style = \"text-align: right;\">10019</td><td style = \"text-align: right;\">3</td></tr><tr><td class = \"rowNumber\" style = \"font-weight: bold; text-align: right;\">4</td><td style = \"text-align: right;\">10039</td><td style = \"text-align: right;\">3</td></tr><tr><td class = \"rowNumber\" style = \"font-weight: bold; text-align: right;\">5</td><td style = \"text-align: right;\">10035</td><td style = \"text-align: right;\">3</td></tr><tr><td class = \"rowNumber\" style = \"font-weight: bold; text-align: right;\">6</td><td style = \"text-align: right;\">10014</td><td style = \"text-align: right;\">3</td></tr><tr><td class = \"rowNumber\" style = \"font-weight: bold; text-align: right;\">7</td><td style = \"text-align: right;\">10001</td><td style = \"text-align: right;\">3</td></tr><tr><td class = \"rowNumber\" style = \"font-weight: bold; text-align: right;\">8</td><td style = \"text-align: right;\">10025</td><td style = \"text-align: right;\">2</td></tr><tr><td class = \"rowNumber\" style = \"font-weight: bold; text-align: right;\">9</td><td style = \"text-align: right;\">10029</td><td style = \"text-align: right;\">2</td></tr><tr><td class = \"rowNumber\" style = \"font-weight: bold; text-align: right;\">10</td><td style = \"text-align: right;\">10002</td><td style = \"text-align: right;\">2</td></tr><tr><td class = \"rowNumber\" style = \"font-weight: bold; text-align: right;\">11</td><td style = \"text-align: right;\">10018</td><td style = \"text-align: right;\">2</td></tr><tr><td class = \"rowNumber\" style = \"font-weight: bold; text-align: right;\">12</td><td style = \"text-align: right;\">10011</td><td style = \"text-align: right;\">2</td></tr><tr><td class = \"rowNumber\" style = \"font-weight: bold; text-align: right;\">13</td><td style = \"text-align: right;\">10036</td><td style = \"text-align: right;\">1</td></tr><tr><td class = \"rowNumber\" style = \"font-weight: bold; text-align: right;\">14</td><td style = \"text-align: right;\">10017</td><td style = \"text-align: right;\">1</td></tr><tr><td class = \"rowNumber\" style = \"font-weight: bold; text-align: right;\">15</td><td style = \"text-align: right;\">10038</td><td style = \"text-align: right;\">1</td></tr><tr><td class = \"rowNumber\" style = \"font-weight: bold; text-align: right;\">16</td><td style = \"text-align: right;\">10065</td><td style = \"text-align: right;\">1</td></tr><tr><td class = \"rowNumber\" style = \"font-weight: bold; text-align: right;\">17</td><td style = \"text-align: right;\">10128</td><td style = \"text-align: right;\">1</td></tr><tr><td class = \"rowNumber\" style = \"font-weight: bold; text-align: right;\">18</td><td style = \"text-align: right;\">10031</td><td style = \"text-align: right;\">1</td></tr><tr><td class = \"rowNumber\" style = \"font-weight: bold; text-align: right;\">19</td><td style = \"text-align: right;\">10009</td><td style = \"text-align: right;\">1</td></tr><tr><td class = \"rowNumber\" style = \"font-weight: bold; text-align: right;\">20</td><td style = \"text-align: right;\">10026</td><td style = \"text-align: right;\">1</td></tr><tr><td class = \"rowNumber\" style = \"font-weight: bold; text-align: right;\">21</td><td style = \"text-align: right;\">10016</td><td style = \"text-align: right;\">1</td></tr><tr><td class = \"rowNumber\" style = \"font-weight: bold; text-align: right;\">22</td><td style = \"text-align: right;\">10013</td><td style = \"text-align: right;\">1</td></tr><tr><td class = \"rowNumber\" style = \"font-weight: bold; text-align: right;\">23</td><td style = \"text-align: right;\">10032</td><td style = \"text-align: right;\">1</td></tr><tr><td class = \"rowNumber\" style = \"font-weight: bold; text-align: right;\">24</td><td style = \"text-align: right;\">10034</td><td style = \"text-align: right;\">1</td></tr></tbody></table></div>"
      ],
      "text/latex": [
       "\\begin{tabular}{r|cc}\n",
       "\t& ZIPCODE & INCIDENT\\_COUNT\\\\\n",
       "\t\\hline\n",
       "\t& Int64 & Int64\\\\\n",
       "\t\\hline\n",
       "\t1 & 10003 & 4 \\\\\n",
       "\t2 & 10027 & 4 \\\\\n",
       "\t3 & 10019 & 3 \\\\\n",
       "\t4 & 10039 & 3 \\\\\n",
       "\t5 & 10035 & 3 \\\\\n",
       "\t6 & 10014 & 3 \\\\\n",
       "\t7 & 10001 & 3 \\\\\n",
       "\t8 & 10025 & 2 \\\\\n",
       "\t9 & 10029 & 2 \\\\\n",
       "\t10 & 10002 & 2 \\\\\n",
       "\t11 & 10018 & 2 \\\\\n",
       "\t12 & 10011 & 2 \\\\\n",
       "\t13 & 10036 & 1 \\\\\n",
       "\t14 & 10017 & 1 \\\\\n",
       "\t15 & 10038 & 1 \\\\\n",
       "\t16 & 10065 & 1 \\\\\n",
       "\t17 & 10128 & 1 \\\\\n",
       "\t18 & 10031 & 1 \\\\\n",
       "\t19 & 10009 & 1 \\\\\n",
       "\t20 & 10026 & 1 \\\\\n",
       "\t21 & 10016 & 1 \\\\\n",
       "\t22 & 10013 & 1 \\\\\n",
       "\t23 & 10032 & 1 \\\\\n",
       "\t24 & 10034 & 1 \\\\\n",
       "\\end{tabular}\n"
      ],
      "text/plain": [
       "\u001b[1m24×2 DataFrame\u001b[0m\n",
       "\u001b[1m Row \u001b[0m│\u001b[1m ZIPCODE \u001b[0m\u001b[1m INCIDENT_COUNT \u001b[0m\n",
       "     │\u001b[90m Int64   \u001b[0m\u001b[90m Int64          \u001b[0m\n",
       "─────┼─────────────────────────\n",
       "   1 │   10003               4\n",
       "   2 │   10027               4\n",
       "   3 │   10019               3\n",
       "   4 │   10039               3\n",
       "   5 │   10035               3\n",
       "   6 │   10014               3\n",
       "   7 │   10001               3\n",
       "   8 │   10025               2\n",
       "   9 │   10029               2\n",
       "  10 │   10002               2\n",
       "  11 │   10018               2\n",
       "  ⋮  │    ⋮           ⋮\n",
       "  15 │   10038               1\n",
       "  16 │   10065               1\n",
       "  17 │   10128               1\n",
       "  18 │   10031               1\n",
       "  19 │   10009               1\n",
       "  20 │   10026               1\n",
       "  21 │   10016               1\n",
       "  22 │   10013               1\n",
       "  23 │   10032               1\n",
       "  24 │   10034               1\n",
       "\u001b[36m                 3 rows omitted\u001b[0m"
      ]
     },
     "execution_count": 3,
     "metadata": {},
     "output_type": "execute_result"
    }
   ],
   "source": [
    "dispatch_data = CSV.read(\"zipcode_incident_data.csv\", DataFrame)\n",
    "dispatch_data"
   ]
  },
  {
   "cell_type": "code",
   "execution_count": 4,
   "metadata": {},
   "outputs": [
    {
     "data": {
      "text/plain": [
       "9×90 Matrix{Float64}:\n",
       "  2845.0  32387.0  16390.0  32283.0    …     1.0e6     1.0e6      1.0e6\n",
       " 27984.0  17284.0  28316.0   8441.0          1.0e6     1.0e6      1.0e6\n",
       " 31549.0   4532.0  28819.0   3305.0       5982.0    9564.0        1.0e6\n",
       "  1635.0   2760.0   1230.0   1169.0          1.0e6     1.0e6      1.0e6\n",
       " 31129.0   2727.0   4952.0   9068.0        209.0       1.0e6  13847.0\n",
       "  1285.0   2347.0   1264.0    706.0    …     1.0e6     1.0e6      1.0e6\n",
       "  3316.0   1128.0   4032.0   1052.0       1503.0       1.0e6      1.0e6\n",
       "  4789.0   1038.0   1548.0      1.0e6        1.0e6     1.0e6      1.0e6\n",
       "  2440.0   1438.0   3092.0   3092.0          1.0e6     1.0e6      1.0e6"
      ]
     },
     "execution_count": 4,
     "metadata": {},
     "output_type": "execute_result"
    }
   ],
   "source": [
    "wait_time = CSV.read(\"wait_time_matrix.csv\",DataFrame,header=false) |> Matrix\n",
    "wait_time"
   ]
  },
  {
   "cell_type": "code",
   "execution_count": 5,
   "metadata": {},
   "outputs": [
    {
     "data": {
      "text/html": [
       "<div><div style = \"float: left;\"><span>9×3 DataFrame</span></div><div style = \"clear: both;\"></div></div><div class = \"data-frame\" style = \"overflow-x: scroll;\"><table class = \"data-frame\" style = \"margin-bottom: 6px;\"><thead><tr class = \"header\"><th class = \"rowNumber\" style = \"font-weight: bold; text-align: right;\">Row</th><th style = \"text-align: left;\">Ambulance_i</th><th style = \"text-align: left;\">INCIDENT_DISPATCH_AREA</th><th style = \"text-align: left;\">CAPACITY</th></tr><tr class = \"subheader headerLastRow\"><th class = \"rowNumber\" style = \"font-weight: bold; text-align: right;\"></th><th title = \"Int64\" style = \"text-align: left;\">Int64</th><th title = \"String3\" style = \"text-align: left;\">String3</th><th title = \"Int64\" style = \"text-align: left;\">Int64</th></tr></thead><tbody><tr><td class = \"rowNumber\" style = \"font-weight: bold; text-align: right;\">1</td><td style = \"text-align: right;\">1</td><td style = \"text-align: left;\">M1</td><td style = \"text-align: right;\">19</td></tr><tr><td class = \"rowNumber\" style = \"font-weight: bold; text-align: right;\">2</td><td style = \"text-align: right;\">2</td><td style = \"text-align: left;\">M2</td><td style = \"text-align: right;\">26</td></tr><tr><td class = \"rowNumber\" style = \"font-weight: bold; text-align: right;\">3</td><td style = \"text-align: right;\">3</td><td style = \"text-align: left;\">M3</td><td style = \"text-align: right;\">28</td></tr><tr><td class = \"rowNumber\" style = \"font-weight: bold; text-align: right;\">4</td><td style = \"text-align: right;\">4</td><td style = \"text-align: left;\">M4</td><td style = \"text-align: right;\">13</td></tr><tr><td class = \"rowNumber\" style = \"font-weight: bold; text-align: right;\">5</td><td style = \"text-align: right;\">5</td><td style = \"text-align: left;\">M5</td><td style = \"text-align: right;\">16</td></tr><tr><td class = \"rowNumber\" style = \"font-weight: bold; text-align: right;\">6</td><td style = \"text-align: right;\">6</td><td style = \"text-align: left;\">M6</td><td style = \"text-align: right;\">8</td></tr><tr><td class = \"rowNumber\" style = \"font-weight: bold; text-align: right;\">7</td><td style = \"text-align: right;\">7</td><td style = \"text-align: left;\">M7</td><td style = \"text-align: right;\">20</td></tr><tr><td class = \"rowNumber\" style = \"font-weight: bold; text-align: right;\">8</td><td style = \"text-align: right;\">8</td><td style = \"text-align: left;\">M8</td><td style = \"text-align: right;\">11</td></tr><tr><td class = \"rowNumber\" style = \"font-weight: bold; text-align: right;\">9</td><td style = \"text-align: right;\">9</td><td style = \"text-align: left;\">M9</td><td style = \"text-align: right;\">16</td></tr></tbody></table></div>"
      ],
      "text/latex": [
       "\\begin{tabular}{r|ccc}\n",
       "\t& Ambulance\\_i & INCIDENT\\_DISPATCH\\_AREA & CAPACITY\\\\\n",
       "\t\\hline\n",
       "\t& Int64 & String3 & Int64\\\\\n",
       "\t\\hline\n",
       "\t1 & 1 & M1 & 19 \\\\\n",
       "\t2 & 2 & M2 & 26 \\\\\n",
       "\t3 & 3 & M3 & 28 \\\\\n",
       "\t4 & 4 & M4 & 13 \\\\\n",
       "\t5 & 5 & M5 & 16 \\\\\n",
       "\t6 & 6 & M6 & 8 \\\\\n",
       "\t7 & 7 & M7 & 20 \\\\\n",
       "\t8 & 8 & M8 & 11 \\\\\n",
       "\t9 & 9 & M9 & 16 \\\\\n",
       "\\end{tabular}\n"
      ],
      "text/plain": [
       "\u001b[1m9×3 DataFrame\u001b[0m\n",
       "\u001b[1m Row \u001b[0m│\u001b[1m Ambulance_i \u001b[0m\u001b[1m INCIDENT_DISPATCH_AREA \u001b[0m\u001b[1m CAPACITY \u001b[0m\n",
       "     │\u001b[90m Int64       \u001b[0m\u001b[90m String3                \u001b[0m\u001b[90m Int64    \u001b[0m\n",
       "─────┼───────────────────────────────────────────────\n",
       "   1 │           1  M1                            19\n",
       "   2 │           2  M2                            26\n",
       "   3 │           3  M3                            28\n",
       "   4 │           4  M4                            13\n",
       "   5 │           5  M5                            16\n",
       "   6 │           6  M6                             8\n",
       "   7 │           7  M7                            20\n",
       "   8 │           8  M8                            11\n",
       "   9 │           9  M9                            16"
      ]
     },
     "execution_count": 5,
     "metadata": {},
     "output_type": "execute_result"
    }
   ],
   "source": [
    "ambulance_capacity = CSV.read(\"area_capacity_data.csv\", DataFrame)\n",
    "ambulance_capacity"
   ]
  },
  {
   "cell_type": "code",
   "execution_count": 6,
   "metadata": {},
   "outputs": [
    {
     "data": {
      "text/html": [
       "<div><div style = \"float: left;\"><span>90×2 DataFrame</span></div><div style = \"float: right;\"><span style = \"font-style: italic;\">65 rows omitted</span></div><div style = \"clear: both;\"></div></div><div class = \"data-frame\" style = \"overflow-x: scroll;\"><table class = \"data-frame\" style = \"margin-bottom: 6px;\"><thead><tr class = \"header\"><th class = \"rowNumber\" style = \"font-weight: bold; text-align: right;\">Row</th><th style = \"text-align: left;\">Zipcode</th><th style = \"text-align: left;\">Index</th></tr><tr class = \"subheader headerLastRow\"><th class = \"rowNumber\" style = \"font-weight: bold; text-align: right;\"></th><th title = \"Int64\" style = \"text-align: left;\">Int64</th><th title = \"Int64\" style = \"text-align: left;\">Int64</th></tr></thead><tbody><tr><td class = \"rowNumber\" style = \"font-weight: bold; text-align: right;\">1</td><td style = \"text-align: right;\">10168</td><td style = \"text-align: right;\">69</td></tr><tr><td class = \"rowNumber\" style = \"font-weight: bold; text-align: right;\">2</td><td style = \"text-align: right;\">10013</td><td style = \"text-align: right;\">12</td></tr><tr><td class = \"rowNumber\" style = \"font-weight: bold; text-align: right;\">3</td><td style = \"text-align: right;\">10048</td><td style = \"text-align: right;\">42</td></tr><tr><td class = \"rowNumber\" style = \"font-weight: bold; text-align: right;\">4</td><td style = \"text-align: right;\">10023</td><td style = \"text-align: right;\">21</td></tr><tr><td class = \"rowNumber\" style = \"font-weight: bold; text-align: right;\">5</td><td style = \"text-align: right;\">10034</td><td style = \"text-align: right;\">32</td></tr><tr><td class = \"rowNumber\" style = \"font-weight: bold; text-align: right;\">6</td><td style = \"text-align: right;\">10014</td><td style = \"text-align: right;\">13</td></tr><tr><td class = \"rowNumber\" style = \"font-weight: bold; text-align: right;\">7</td><td style = \"text-align: right;\">10019</td><td style = \"text-align: right;\">17</td></tr><tr><td class = \"rowNumber\" style = \"font-weight: bold; text-align: right;\">8</td><td style = \"text-align: right;\">10031</td><td style = \"text-align: right;\">29</td></tr><tr><td class = \"rowNumber\" style = \"font-weight: bold; text-align: right;\">9</td><td style = \"text-align: right;\">10038</td><td style = \"text-align: right;\">36</td></tr><tr><td class = \"rowNumber\" style = \"font-weight: bold; text-align: right;\">10</td><td style = \"text-align: right;\">10278</td><td style = \"text-align: right;\">52</td></tr><tr><td class = \"rowNumber\" style = \"font-weight: bold; text-align: right;\">11</td><td style = \"text-align: right;\">10153</td><td style = \"text-align: right;\">65</td></tr><tr><td class = \"rowNumber\" style = \"font-weight: bold; text-align: right;\">12</td><td style = \"text-align: right;\">10004</td><td style = \"text-align: right;\">4</td></tr><tr><td class = \"rowNumber\" style = \"font-weight: bold; text-align: right;\">13</td><td style = \"text-align: right;\">10112</td><td style = \"text-align: right;\">48</td></tr><tr><td style = \"text-align: right;\">&vellip;</td><td style = \"text-align: right;\">&vellip;</td><td style = \"text-align: right;\">&vellip;</td></tr><tr><td class = \"rowNumber\" style = \"font-weight: bold; text-align: right;\">79</td><td style = \"text-align: right;\">10018</td><td style = \"text-align: right;\">16</td></tr><tr><td class = \"rowNumber\" style = \"font-weight: bold; text-align: right;\">80</td><td style = \"text-align: right;\">10158</td><td style = \"text-align: right;\">81</td></tr><tr><td class = \"rowNumber\" style = \"font-weight: bold; text-align: right;\">81</td><td style = \"text-align: right;\">10173</td><td style = \"text-align: right;\">85</td></tr><tr><td class = \"rowNumber\" style = \"font-weight: bold; text-align: right;\">82</td><td style = \"text-align: right;\">10282</td><td style = \"text-align: right;\">56</td></tr><tr><td class = \"rowNumber\" style = \"font-weight: bold; text-align: right;\">83</td><td style = \"text-align: right;\">10106</td><td style = \"text-align: right;\">58</td></tr><tr><td class = \"rowNumber\" style = \"font-weight: bold; text-align: right;\">84</td><td style = \"text-align: right;\">10007</td><td style = \"text-align: right;\">7</td></tr><tr><td class = \"rowNumber\" style = \"font-weight: bold; text-align: right;\">85</td><td style = \"text-align: right;\">10006</td><td style = \"text-align: right;\">6</td></tr><tr><td class = \"rowNumber\" style = \"font-weight: bold; text-align: right;\">86</td><td style = \"text-align: right;\">10069</td><td style = \"text-align: right;\">44</td></tr><tr><td class = \"rowNumber\" style = \"font-weight: bold; text-align: right;\">87</td><td style = \"text-align: right;\">10037</td><td style = \"text-align: right;\">35</td></tr><tr><td class = \"rowNumber\" style = \"font-weight: bold; text-align: right;\">88</td><td style = \"text-align: right;\">10167</td><td style = \"text-align: right;\">68</td></tr><tr><td class = \"rowNumber\" style = \"font-weight: bold; text-align: right;\">89</td><td style = \"text-align: right;\">10009</td><td style = \"text-align: right;\">8</td></tr><tr><td class = \"rowNumber\" style = \"font-weight: bold; text-align: right;\">90</td><td style = \"text-align: right;\">10030</td><td style = \"text-align: right;\">28</td></tr></tbody></table></div>"
      ],
      "text/latex": [
       "\\begin{tabular}{r|cc}\n",
       "\t& Zipcode & Index\\\\\n",
       "\t\\hline\n",
       "\t& Int64 & Int64\\\\\n",
       "\t\\hline\n",
       "\t1 & 10168 & 69 \\\\\n",
       "\t2 & 10013 & 12 \\\\\n",
       "\t3 & 10048 & 42 \\\\\n",
       "\t4 & 10023 & 21 \\\\\n",
       "\t5 & 10034 & 32 \\\\\n",
       "\t6 & 10014 & 13 \\\\\n",
       "\t7 & 10019 & 17 \\\\\n",
       "\t8 & 10031 & 29 \\\\\n",
       "\t9 & 10038 & 36 \\\\\n",
       "\t10 & 10278 & 52 \\\\\n",
       "\t11 & 10153 & 65 \\\\\n",
       "\t12 & 10004 & 4 \\\\\n",
       "\t13 & 10112 & 48 \\\\\n",
       "\t14 & 10080 & 46 \\\\\n",
       "\t15 & 10279 & 53 \\\\\n",
       "\t16 & 10165 & 82 \\\\\n",
       "\t17 & 10155 & 67 \\\\\n",
       "\t18 & 10026 & 24 \\\\\n",
       "\t19 & 10280 & 54 \\\\\n",
       "\t20 & 10025 & 23 \\\\\n",
       "\t21 & 10044 & 40 \\\\\n",
       "\t22 & 10162 & 90 \\\\\n",
       "\t23 & 10020 & 18 \\\\\n",
       "\t24 & 10166 & 83 \\\\\n",
       "\t25 & 10022 & 20 \\\\\n",
       "\t26 & 10175 & 86 \\\\\n",
       "\t27 & 10010 & 9 \\\\\n",
       "\t28 & 10107 & 47 \\\\\n",
       "\t29 & 10176 & 87 \\\\\n",
       "\t30 & 10017 & 15 \\\\\n",
       "\t$\\dots$ & $\\dots$ & $\\dots$ \\\\\n",
       "\\end{tabular}\n"
      ],
      "text/plain": [
       "\u001b[1m90×2 DataFrame\u001b[0m\n",
       "\u001b[1m Row \u001b[0m│\u001b[1m Zipcode \u001b[0m\u001b[1m Index \u001b[0m\n",
       "     │\u001b[90m Int64   \u001b[0m\u001b[90m Int64 \u001b[0m\n",
       "─────┼────────────────\n",
       "   1 │   10168     69\n",
       "   2 │   10013     12\n",
       "   3 │   10048     42\n",
       "   4 │   10023     21\n",
       "   5 │   10034     32\n",
       "   6 │   10014     13\n",
       "   7 │   10019     17\n",
       "   8 │   10031     29\n",
       "   9 │   10038     36\n",
       "  10 │   10278     52\n",
       "  11 │   10153     65\n",
       "  ⋮  │    ⋮       ⋮\n",
       "  81 │   10173     85\n",
       "  82 │   10282     56\n",
       "  83 │   10106     58\n",
       "  84 │   10007      7\n",
       "  85 │   10006      6\n",
       "  86 │   10069     44\n",
       "  87 │   10037     35\n",
       "  88 │   10167     68\n",
       "  89 │   10009      8\n",
       "  90 │   10030     28\n",
       "\u001b[36m       69 rows omitted\u001b[0m"
      ]
     },
     "execution_count": 6,
     "metadata": {},
     "output_type": "execute_result"
    }
   ],
   "source": [
    "zipcode_to_index = CSV.read(\"zipcode_to_index.csv\", DataFrame)\n",
    "zipcode_to_index"
   ]
  },
  {
   "cell_type": "code",
   "execution_count": 7,
   "metadata": {},
   "outputs": [
    {
     "data": {
      "text/html": [
       "<div><div style = \"float: left;\"><span>90×3 DataFrame</span></div><div style = \"float: right;\"><span style = \"font-style: italic;\">65 rows omitted</span></div><div style = \"clear: both;\"></div></div><div class = \"data-frame\" style = \"overflow-x: scroll;\"><table class = \"data-frame\" style = \"margin-bottom: 6px;\"><thead><tr class = \"header\"><th class = \"rowNumber\" style = \"font-weight: bold; text-align: right;\">Row</th><th style = \"text-align: left;\">Zipcode</th><th style = \"text-align: left;\">Index</th><th style = \"text-align: left;\">INCIDENT_COUNT</th></tr><tr class = \"subheader headerLastRow\"><th class = \"rowNumber\" style = \"font-weight: bold; text-align: right;\"></th><th title = \"Int64\" style = \"text-align: left;\">Int64</th><th title = \"Int64\" style = \"text-align: left;\">Int64</th><th title = \"Union{Missing, Int64}\" style = \"text-align: left;\">Int64?</th></tr></thead><tbody><tr><td class = \"rowNumber\" style = \"font-weight: bold; text-align: right;\">1</td><td style = \"text-align: right;\">10001</td><td style = \"text-align: right;\">1</td><td style = \"text-align: right;\">3</td></tr><tr><td class = \"rowNumber\" style = \"font-weight: bold; text-align: right;\">2</td><td style = \"text-align: right;\">10002</td><td style = \"text-align: right;\">2</td><td style = \"text-align: right;\">2</td></tr><tr><td class = \"rowNumber\" style = \"font-weight: bold; text-align: right;\">3</td><td style = \"text-align: right;\">10003</td><td style = \"text-align: right;\">3</td><td style = \"text-align: right;\">4</td></tr><tr><td class = \"rowNumber\" style = \"font-weight: bold; text-align: right;\">4</td><td style = \"text-align: right;\">10004</td><td style = \"text-align: right;\">4</td><td style = \"font-style: italic; text-align: right;\">missing</td></tr><tr><td class = \"rowNumber\" style = \"font-weight: bold; text-align: right;\">5</td><td style = \"text-align: right;\">10005</td><td style = \"text-align: right;\">5</td><td style = \"font-style: italic; text-align: right;\">missing</td></tr><tr><td class = \"rowNumber\" style = \"font-weight: bold; text-align: right;\">6</td><td style = \"text-align: right;\">10006</td><td style = \"text-align: right;\">6</td><td style = \"font-style: italic; text-align: right;\">missing</td></tr><tr><td class = \"rowNumber\" style = \"font-weight: bold; text-align: right;\">7</td><td style = \"text-align: right;\">10007</td><td style = \"text-align: right;\">7</td><td style = \"font-style: italic; text-align: right;\">missing</td></tr><tr><td class = \"rowNumber\" style = \"font-weight: bold; text-align: right;\">8</td><td style = \"text-align: right;\">10009</td><td style = \"text-align: right;\">8</td><td style = \"text-align: right;\">1</td></tr><tr><td class = \"rowNumber\" style = \"font-weight: bold; text-align: right;\">9</td><td style = \"text-align: right;\">10010</td><td style = \"text-align: right;\">9</td><td style = \"font-style: italic; text-align: right;\">missing</td></tr><tr><td class = \"rowNumber\" style = \"font-weight: bold; text-align: right;\">10</td><td style = \"text-align: right;\">10011</td><td style = \"text-align: right;\">10</td><td style = \"text-align: right;\">2</td></tr><tr><td class = \"rowNumber\" style = \"font-weight: bold; text-align: right;\">11</td><td style = \"text-align: right;\">10012</td><td style = \"text-align: right;\">11</td><td style = \"font-style: italic; text-align: right;\">missing</td></tr><tr><td class = \"rowNumber\" style = \"font-weight: bold; text-align: right;\">12</td><td style = \"text-align: right;\">10013</td><td style = \"text-align: right;\">12</td><td style = \"text-align: right;\">1</td></tr><tr><td class = \"rowNumber\" style = \"font-weight: bold; text-align: right;\">13</td><td style = \"text-align: right;\">10014</td><td style = \"text-align: right;\">13</td><td style = \"text-align: right;\">3</td></tr><tr><td style = \"text-align: right;\">&vellip;</td><td style = \"text-align: right;\">&vellip;</td><td style = \"text-align: right;\">&vellip;</td><td style = \"text-align: right;\">&vellip;</td></tr><tr><td class = \"rowNumber\" style = \"font-weight: bold; text-align: right;\">79</td><td style = \"text-align: right;\">10122</td><td style = \"text-align: right;\">79</td><td style = \"font-style: italic; text-align: right;\">missing</td></tr><tr><td class = \"rowNumber\" style = \"font-weight: bold; text-align: right;\">80</td><td style = \"text-align: right;\">10151</td><td style = \"text-align: right;\">80</td><td style = \"font-style: italic; text-align: right;\">missing</td></tr><tr><td class = \"rowNumber\" style = \"font-weight: bold; text-align: right;\">81</td><td style = \"text-align: right;\">10158</td><td style = \"text-align: right;\">81</td><td style = \"font-style: italic; text-align: right;\">missing</td></tr><tr><td class = \"rowNumber\" style = \"font-weight: bold; text-align: right;\">82</td><td style = \"text-align: right;\">10165</td><td style = \"text-align: right;\">82</td><td style = \"font-style: italic; text-align: right;\">missing</td></tr><tr><td class = \"rowNumber\" style = \"font-weight: bold; text-align: right;\">83</td><td style = \"text-align: right;\">10166</td><td style = \"text-align: right;\">83</td><td style = \"font-style: italic; text-align: right;\">missing</td></tr><tr><td class = \"rowNumber\" style = \"font-weight: bold; text-align: right;\">84</td><td style = \"text-align: right;\">10170</td><td style = \"text-align: right;\">84</td><td style = \"font-style: italic; text-align: right;\">missing</td></tr><tr><td class = \"rowNumber\" style = \"font-weight: bold; text-align: right;\">85</td><td style = \"text-align: right;\">10173</td><td style = \"text-align: right;\">85</td><td style = \"font-style: italic; text-align: right;\">missing</td></tr><tr><td class = \"rowNumber\" style = \"font-weight: bold; text-align: right;\">86</td><td style = \"text-align: right;\">10175</td><td style = \"text-align: right;\">86</td><td style = \"font-style: italic; text-align: right;\">missing</td></tr><tr><td class = \"rowNumber\" style = \"font-weight: bold; text-align: right;\">87</td><td style = \"text-align: right;\">10176</td><td style = \"text-align: right;\">87</td><td style = \"font-style: italic; text-align: right;\">missing</td></tr><tr><td class = \"rowNumber\" style = \"font-weight: bold; text-align: right;\">88</td><td style = \"text-align: right;\">10178</td><td style = \"text-align: right;\">88</td><td style = \"font-style: italic; text-align: right;\">missing</td></tr><tr><td class = \"rowNumber\" style = \"font-weight: bold; text-align: right;\">89</td><td style = \"text-align: right;\">10179</td><td style = \"text-align: right;\">89</td><td style = \"font-style: italic; text-align: right;\">missing</td></tr><tr><td class = \"rowNumber\" style = \"font-weight: bold; text-align: right;\">90</td><td style = \"text-align: right;\">10162</td><td style = \"text-align: right;\">90</td><td style = \"font-style: italic; text-align: right;\">missing</td></tr></tbody></table></div>"
      ],
      "text/latex": [
       "\\begin{tabular}{r|ccc}\n",
       "\t& Zipcode & Index & INCIDENT\\_COUNT\\\\\n",
       "\t\\hline\n",
       "\t& Int64 & Int64 & Int64?\\\\\n",
       "\t\\hline\n",
       "\t1 & 10001 & 1 & 3 \\\\\n",
       "\t2 & 10002 & 2 & 2 \\\\\n",
       "\t3 & 10003 & 3 & 4 \\\\\n",
       "\t4 & 10004 & 4 & \\emph{missing} \\\\\n",
       "\t5 & 10005 & 5 & \\emph{missing} \\\\\n",
       "\t6 & 10006 & 6 & \\emph{missing} \\\\\n",
       "\t7 & 10007 & 7 & \\emph{missing} \\\\\n",
       "\t8 & 10009 & 8 & 1 \\\\\n",
       "\t9 & 10010 & 9 & \\emph{missing} \\\\\n",
       "\t10 & 10011 & 10 & 2 \\\\\n",
       "\t11 & 10012 & 11 & \\emph{missing} \\\\\n",
       "\t12 & 10013 & 12 & 1 \\\\\n",
       "\t13 & 10014 & 13 & 3 \\\\\n",
       "\t14 & 10016 & 14 & 1 \\\\\n",
       "\t15 & 10017 & 15 & 1 \\\\\n",
       "\t16 & 10018 & 16 & 2 \\\\\n",
       "\t17 & 10019 & 17 & 3 \\\\\n",
       "\t18 & 10020 & 18 & \\emph{missing} \\\\\n",
       "\t19 & 10021 & 19 & \\emph{missing} \\\\\n",
       "\t20 & 10022 & 20 & \\emph{missing} \\\\\n",
       "\t21 & 10023 & 21 & \\emph{missing} \\\\\n",
       "\t22 & 10024 & 22 & \\emph{missing} \\\\\n",
       "\t23 & 10025 & 23 & 2 \\\\\n",
       "\t24 & 10026 & 24 & 1 \\\\\n",
       "\t25 & 10027 & 25 & 4 \\\\\n",
       "\t26 & 10028 & 26 & \\emph{missing} \\\\\n",
       "\t27 & 10029 & 27 & 2 \\\\\n",
       "\t28 & 10030 & 28 & \\emph{missing} \\\\\n",
       "\t29 & 10031 & 29 & 1 \\\\\n",
       "\t30 & 10032 & 30 & 1 \\\\\n",
       "\t$\\dots$ & $\\dots$ & $\\dots$ & $\\dots$ \\\\\n",
       "\\end{tabular}\n"
      ],
      "text/plain": [
       "\u001b[1m90×3 DataFrame\u001b[0m\n",
       "\u001b[1m Row \u001b[0m│\u001b[1m Zipcode \u001b[0m\u001b[1m Index \u001b[0m\u001b[1m INCIDENT_COUNT \u001b[0m\n",
       "     │\u001b[90m Int64   \u001b[0m\u001b[90m Int64 \u001b[0m\u001b[90m Int64?         \u001b[0m\n",
       "─────┼────────────────────────────────\n",
       "   1 │   10001      1               3\n",
       "   2 │   10002      2               2\n",
       "   3 │   10003      3               4\n",
       "   4 │   10004      4 \u001b[90m        missing \u001b[0m\n",
       "   5 │   10005      5 \u001b[90m        missing \u001b[0m\n",
       "   6 │   10006      6 \u001b[90m        missing \u001b[0m\n",
       "   7 │   10007      7 \u001b[90m        missing \u001b[0m\n",
       "   8 │   10009      8               1\n",
       "   9 │   10010      9 \u001b[90m        missing \u001b[0m\n",
       "  10 │   10011     10               2\n",
       "  11 │   10012     11 \u001b[90m        missing \u001b[0m\n",
       "  ⋮  │    ⋮       ⋮          ⋮\n",
       "  81 │   10158     81 \u001b[90m        missing \u001b[0m\n",
       "  82 │   10165     82 \u001b[90m        missing \u001b[0m\n",
       "  83 │   10166     83 \u001b[90m        missing \u001b[0m\n",
       "  84 │   10170     84 \u001b[90m        missing \u001b[0m\n",
       "  85 │   10173     85 \u001b[90m        missing \u001b[0m\n",
       "  86 │   10175     86 \u001b[90m        missing \u001b[0m\n",
       "  87 │   10176     87 \u001b[90m        missing \u001b[0m\n",
       "  88 │   10178     88 \u001b[90m        missing \u001b[0m\n",
       "  89 │   10179     89 \u001b[90m        missing \u001b[0m\n",
       "  90 │   10162     90 \u001b[90m        missing \u001b[0m\n",
       "\u001b[36m                       69 rows omitted\u001b[0m"
      ]
     },
     "execution_count": 7,
     "metadata": {},
     "output_type": "execute_result"
    }
   ],
   "source": [
    "merged_data = leftjoin(zipcode_to_index, dispatch_data, on=:Zipcode => :ZIPCODE)\n",
    "sorted_dispatch_data = sort(merged_data, :Index)\n",
    "sorted_dispatch_data\n"
   ]
  },
  {
   "cell_type": "code",
   "execution_count": 8,
   "metadata": {},
   "outputs": [
    {
     "data": {
      "text/html": [
       "<div><div style = \"float: left;\"><span>90×3 DataFrame</span></div><div style = \"float: right;\"><span style = \"font-style: italic;\">65 rows omitted</span></div><div style = \"clear: both;\"></div></div><div class = \"data-frame\" style = \"overflow-x: scroll;\"><table class = \"data-frame\" style = \"margin-bottom: 6px;\"><thead><tr class = \"header\"><th class = \"rowNumber\" style = \"font-weight: bold; text-align: right;\">Row</th><th style = \"text-align: left;\">Zipcode</th><th style = \"text-align: left;\">Index</th><th style = \"text-align: left;\">INCIDENT_COUNT</th></tr><tr class = \"subheader headerLastRow\"><th class = \"rowNumber\" style = \"font-weight: bold; text-align: right;\"></th><th title = \"Int64\" style = \"text-align: left;\">Int64</th><th title = \"Int64\" style = \"text-align: left;\">Int64</th><th title = \"Int64\" style = \"text-align: left;\">Int64</th></tr></thead><tbody><tr><td class = \"rowNumber\" style = \"font-weight: bold; text-align: right;\">1</td><td style = \"text-align: right;\">10001</td><td style = \"text-align: right;\">1</td><td style = \"text-align: right;\">3</td></tr><tr><td class = \"rowNumber\" style = \"font-weight: bold; text-align: right;\">2</td><td style = \"text-align: right;\">10002</td><td style = \"text-align: right;\">2</td><td style = \"text-align: right;\">2</td></tr><tr><td class = \"rowNumber\" style = \"font-weight: bold; text-align: right;\">3</td><td style = \"text-align: right;\">10003</td><td style = \"text-align: right;\">3</td><td style = \"text-align: right;\">4</td></tr><tr><td class = \"rowNumber\" style = \"font-weight: bold; text-align: right;\">4</td><td style = \"text-align: right;\">10004</td><td style = \"text-align: right;\">4</td><td style = \"text-align: right;\">0</td></tr><tr><td class = \"rowNumber\" style = \"font-weight: bold; text-align: right;\">5</td><td style = \"text-align: right;\">10005</td><td style = \"text-align: right;\">5</td><td style = \"text-align: right;\">0</td></tr><tr><td class = \"rowNumber\" style = \"font-weight: bold; text-align: right;\">6</td><td style = \"text-align: right;\">10006</td><td style = \"text-align: right;\">6</td><td style = \"text-align: right;\">0</td></tr><tr><td class = \"rowNumber\" style = \"font-weight: bold; text-align: right;\">7</td><td style = \"text-align: right;\">10007</td><td style = \"text-align: right;\">7</td><td style = \"text-align: right;\">0</td></tr><tr><td class = \"rowNumber\" style = \"font-weight: bold; text-align: right;\">8</td><td style = \"text-align: right;\">10009</td><td style = \"text-align: right;\">8</td><td style = \"text-align: right;\">1</td></tr><tr><td class = \"rowNumber\" style = \"font-weight: bold; text-align: right;\">9</td><td style = \"text-align: right;\">10010</td><td style = \"text-align: right;\">9</td><td style = \"text-align: right;\">0</td></tr><tr><td class = \"rowNumber\" style = \"font-weight: bold; text-align: right;\">10</td><td style = \"text-align: right;\">10011</td><td style = \"text-align: right;\">10</td><td style = \"text-align: right;\">2</td></tr><tr><td class = \"rowNumber\" style = \"font-weight: bold; text-align: right;\">11</td><td style = \"text-align: right;\">10012</td><td style = \"text-align: right;\">11</td><td style = \"text-align: right;\">0</td></tr><tr><td class = \"rowNumber\" style = \"font-weight: bold; text-align: right;\">12</td><td style = \"text-align: right;\">10013</td><td style = \"text-align: right;\">12</td><td style = \"text-align: right;\">1</td></tr><tr><td class = \"rowNumber\" style = \"font-weight: bold; text-align: right;\">13</td><td style = \"text-align: right;\">10014</td><td style = \"text-align: right;\">13</td><td style = \"text-align: right;\">3</td></tr><tr><td style = \"text-align: right;\">&vellip;</td><td style = \"text-align: right;\">&vellip;</td><td style = \"text-align: right;\">&vellip;</td><td style = \"text-align: right;\">&vellip;</td></tr><tr><td class = \"rowNumber\" style = \"font-weight: bold; text-align: right;\">79</td><td style = \"text-align: right;\">10122</td><td style = \"text-align: right;\">79</td><td style = \"text-align: right;\">0</td></tr><tr><td class = \"rowNumber\" style = \"font-weight: bold; text-align: right;\">80</td><td style = \"text-align: right;\">10151</td><td style = \"text-align: right;\">80</td><td style = \"text-align: right;\">0</td></tr><tr><td class = \"rowNumber\" style = \"font-weight: bold; text-align: right;\">81</td><td style = \"text-align: right;\">10158</td><td style = \"text-align: right;\">81</td><td style = \"text-align: right;\">0</td></tr><tr><td class = \"rowNumber\" style = \"font-weight: bold; text-align: right;\">82</td><td style = \"text-align: right;\">10165</td><td style = \"text-align: right;\">82</td><td style = \"text-align: right;\">0</td></tr><tr><td class = \"rowNumber\" style = \"font-weight: bold; text-align: right;\">83</td><td style = \"text-align: right;\">10166</td><td style = \"text-align: right;\">83</td><td style = \"text-align: right;\">0</td></tr><tr><td class = \"rowNumber\" style = \"font-weight: bold; text-align: right;\">84</td><td style = \"text-align: right;\">10170</td><td style = \"text-align: right;\">84</td><td style = \"text-align: right;\">0</td></tr><tr><td class = \"rowNumber\" style = \"font-weight: bold; text-align: right;\">85</td><td style = \"text-align: right;\">10173</td><td style = \"text-align: right;\">85</td><td style = \"text-align: right;\">0</td></tr><tr><td class = \"rowNumber\" style = \"font-weight: bold; text-align: right;\">86</td><td style = \"text-align: right;\">10175</td><td style = \"text-align: right;\">86</td><td style = \"text-align: right;\">0</td></tr><tr><td class = \"rowNumber\" style = \"font-weight: bold; text-align: right;\">87</td><td style = \"text-align: right;\">10176</td><td style = \"text-align: right;\">87</td><td style = \"text-align: right;\">0</td></tr><tr><td class = \"rowNumber\" style = \"font-weight: bold; text-align: right;\">88</td><td style = \"text-align: right;\">10178</td><td style = \"text-align: right;\">88</td><td style = \"text-align: right;\">0</td></tr><tr><td class = \"rowNumber\" style = \"font-weight: bold; text-align: right;\">89</td><td style = \"text-align: right;\">10179</td><td style = \"text-align: right;\">89</td><td style = \"text-align: right;\">0</td></tr><tr><td class = \"rowNumber\" style = \"font-weight: bold; text-align: right;\">90</td><td style = \"text-align: right;\">10162</td><td style = \"text-align: right;\">90</td><td style = \"text-align: right;\">0</td></tr></tbody></table></div>"
      ],
      "text/latex": [
       "\\begin{tabular}{r|ccc}\n",
       "\t& Zipcode & Index & INCIDENT\\_COUNT\\\\\n",
       "\t\\hline\n",
       "\t& Int64 & Int64 & Int64\\\\\n",
       "\t\\hline\n",
       "\t1 & 10001 & 1 & 3 \\\\\n",
       "\t2 & 10002 & 2 & 2 \\\\\n",
       "\t3 & 10003 & 3 & 4 \\\\\n",
       "\t4 & 10004 & 4 & 0 \\\\\n",
       "\t5 & 10005 & 5 & 0 \\\\\n",
       "\t6 & 10006 & 6 & 0 \\\\\n",
       "\t7 & 10007 & 7 & 0 \\\\\n",
       "\t8 & 10009 & 8 & 1 \\\\\n",
       "\t9 & 10010 & 9 & 0 \\\\\n",
       "\t10 & 10011 & 10 & 2 \\\\\n",
       "\t11 & 10012 & 11 & 0 \\\\\n",
       "\t12 & 10013 & 12 & 1 \\\\\n",
       "\t13 & 10014 & 13 & 3 \\\\\n",
       "\t14 & 10016 & 14 & 1 \\\\\n",
       "\t15 & 10017 & 15 & 1 \\\\\n",
       "\t16 & 10018 & 16 & 2 \\\\\n",
       "\t17 & 10019 & 17 & 3 \\\\\n",
       "\t18 & 10020 & 18 & 0 \\\\\n",
       "\t19 & 10021 & 19 & 0 \\\\\n",
       "\t20 & 10022 & 20 & 0 \\\\\n",
       "\t21 & 10023 & 21 & 0 \\\\\n",
       "\t22 & 10024 & 22 & 0 \\\\\n",
       "\t23 & 10025 & 23 & 2 \\\\\n",
       "\t24 & 10026 & 24 & 1 \\\\\n",
       "\t25 & 10027 & 25 & 4 \\\\\n",
       "\t26 & 10028 & 26 & 0 \\\\\n",
       "\t27 & 10029 & 27 & 2 \\\\\n",
       "\t28 & 10030 & 28 & 0 \\\\\n",
       "\t29 & 10031 & 29 & 1 \\\\\n",
       "\t30 & 10032 & 30 & 1 \\\\\n",
       "\t$\\dots$ & $\\dots$ & $\\dots$ & $\\dots$ \\\\\n",
       "\\end{tabular}\n"
      ],
      "text/plain": [
       "\u001b[1m90×3 DataFrame\u001b[0m\n",
       "\u001b[1m Row \u001b[0m│\u001b[1m Zipcode \u001b[0m\u001b[1m Index \u001b[0m\u001b[1m INCIDENT_COUNT \u001b[0m\n",
       "     │\u001b[90m Int64   \u001b[0m\u001b[90m Int64 \u001b[0m\u001b[90m Int64          \u001b[0m\n",
       "─────┼────────────────────────────────\n",
       "   1 │   10001      1               3\n",
       "   2 │   10002      2               2\n",
       "   3 │   10003      3               4\n",
       "   4 │   10004      4               0\n",
       "   5 │   10005      5               0\n",
       "   6 │   10006      6               0\n",
       "   7 │   10007      7               0\n",
       "   8 │   10009      8               1\n",
       "   9 │   10010      9               0\n",
       "  10 │   10011     10               2\n",
       "  11 │   10012     11               0\n",
       "  ⋮  │    ⋮       ⋮          ⋮\n",
       "  81 │   10158     81               0\n",
       "  82 │   10165     82               0\n",
       "  83 │   10166     83               0\n",
       "  84 │   10170     84               0\n",
       "  85 │   10173     85               0\n",
       "  86 │   10175     86               0\n",
       "  87 │   10176     87               0\n",
       "  88 │   10178     88               0\n",
       "  89 │   10179     89               0\n",
       "  90 │   10162     90               0\n",
       "\u001b[36m                       69 rows omitted\u001b[0m"
      ]
     },
     "execution_count": 8,
     "metadata": {},
     "output_type": "execute_result"
    }
   ],
   "source": [
    "# convert missing values to 0\n",
    "sorted_dispatch_data.INCIDENT_COUNT .= coalesce.(sorted_dispatch_data.INCIDENT_COUNT, 0)\n",
    "sorted_dispatch_data"
   ]
  },
  {
   "cell_type": "markdown",
   "metadata": {},
   "source": [
    "## build the model:\n",
    "3 useful dfs:\n",
    "\n",
    "dispatch data with sorted index: sorted_dispatch_data   d_j\n",
    "\n",
    "ambulance capacity: ambulance_capacity c_i \n",
    "\n",
    "wait time : wait_time  waittime(i,j)"
   ]
  },
  {
   "cell_type": "code",
   "execution_count": 9,
   "metadata": {},
   "outputs": [
    {
     "data": {
      "text/plain": [
       "9-element Vector{Int64}:\n",
       " 19\n",
       " 26\n",
       " 28\n",
       " 13\n",
       " 16\n",
       "  8\n",
       " 20\n",
       " 11\n",
       " 16"
      ]
     },
     "execution_count": 9,
     "metadata": {},
     "output_type": "execute_result"
    }
   ],
   "source": [
    "capacity_vector = ambulance_capacity[!,\"CAPACITY\"]"
   ]
  },
  {
   "cell_type": "code",
   "execution_count": 10,
   "metadata": {},
   "outputs": [
    {
     "data": {
      "text/plain": [
       "90-element Vector{Int64}:\n",
       " 3\n",
       " 2\n",
       " 4\n",
       " 0\n",
       " 0\n",
       " 0\n",
       " 0\n",
       " 1\n",
       " 0\n",
       " 2\n",
       " 0\n",
       " 1\n",
       " 3\n",
       " ⋮\n",
       " 0\n",
       " 0\n",
       " 0\n",
       " 0\n",
       " 0\n",
       " 0\n",
       " 0\n",
       " 0\n",
       " 0\n",
       " 0\n",
       " 0\n",
       " 0"
      ]
     },
     "execution_count": 10,
     "metadata": {},
     "output_type": "execute_result"
    }
   ],
   "source": [
    "demand_vector = sorted_dispatch_data[!,\"INCIDENT_COUNT\"]"
   ]
  },
  {
   "cell_type": "markdown",
   "metadata": {},
   "source": [
    "# Min-Max\n"
   ]
  },
  {
   "cell_type": "markdown",
   "metadata": {},
   "source": [
    "Different with Min-Sum, The model introduce a binary variable zij, and also the big M.\n",
    "\n",
    "T = max{wait_ij * z_ij}\n",
    "\n",
    "S_{i,j} = 0 means  Z_{i,j} = 0 ; S_{i,j} >=1 means Z_{i,j} = 1."
   ]
  },
  {
   "cell_type": "code",
   "execution_count": 11,
   "metadata": {},
   "outputs": [
    {
     "name": "stdout",
     "output_type": "stream",
     "text": [
      "Set parameter Username\n",
      "Academic license - for non-commercial use only - expires 2025-08-19\n",
      "Gurobi Optimizer version 11.0.3 build v11.0.3rc0 (win64 - Windows 11.0 (22631.2))\n",
      "\n",
      "CPU model: 12th Gen Intel(R) Core(TM) i7-1255U, instruction set [SSE2|AVX|AVX2]\n",
      "Thread count: 10 physical cores, 12 logical processors, using up to 12 threads\n",
      "\n",
      "Optimize a model with 2529 rows, 1621 columns and 6480 nonzeros\n",
      "Model fingerprint: 0x8c478b9d\n",
      "Variable types: 1 continuous, 1620 integer (810 binary)\n",
      "Coefficient statistics:\n",
      "  Matrix range     [1e+00, 1e+06]\n",
      "  Objective range  [1e+00, 1e+00]\n",
      "  Bounds range     [0e+00, 0e+00]\n",
      "  RHS range        [1e+00, 3e+01]\n",
      "Presolve removed 2064 rows and 1296 columns\n",
      "Presolve time: 0.01s\n",
      "Presolved: 465 rows, 325 columns, 1296 nonzeros\n",
      "Variable types: 0 continuous, 325 integer (216 binary)\n",
      "Found heuristic solution: objective 30132.000000\n",
      "Found heuristic solution: objective 17924.000000\n",
      "Found heuristic solution: objective 17642.000000\n",
      "Found heuristic solution: objective 17284.000000\n",
      "Found heuristic solution: objective 7968.0000000\n",
      "\n",
      "Explored 0 nodes (0 simplex iterations) in 0.03 seconds (0.01 work units)\n",
      "Thread count was 12 (of 12 available processors)\n",
      "\n",
      "Solution count 5: 7968 17284 17642 ... 30132\n",
      "\n",
      "Optimal solution found (tolerance 1.00e-04)\n",
      "Best objective 7.968000000000e+03, best bound 7.968000000000e+03, gap 0.0000%\n",
      "\n",
      "User-callback calls 235, time in user-callback 0.00 sec\n"
     ]
    }
   ],
   "source": [
    "num_areas = 9\n",
    "num_zipcodes = 90\n",
    "\n",
    "# Build the optimization model\n",
    "model = Model(Gurobi.Optimizer)\n",
    "\n",
    "# Decision variables: S[i, j] ∈ integer >=0\n",
    "@variable(model, S[1:num_areas, 1:num_zipcodes] >= 0, Int)\n",
    "\n",
    "# New binary variable z[i, j] # S_{i,j} = 0 means  Z_{i,j} = 0 ; S_{i,j} >=1 means Z_{i,j} = 1.\n",
    "@variable(model, z[1:num_areas, 1:num_zipcodes], Bin) \n",
    "\n",
    "# New variable T to represent the maximum wait time\n",
    "@variable(model, T >= 0)\n",
    "\n",
    "# Objective: Minimize T (the maximum wait time)\n",
    "@objective(model, Min, T)\n",
    "\n",
    "# Constraints:\n",
    "\n",
    "#\n",
    "# Link z[i, j] and S[i, j] # # S_{i,j} = 0 means  Z_{i,j} = 0 ; S_{i,j} >=1 means Z_{i,j} = 1. here 1e6 is the big M\n",
    "@constraint(model, [i in 1:num_areas, j in 1:num_zipcodes], S[i, j] <= z[i, j] * 1e6)\n",
    "@constraint(model, [i in 1:num_areas, j in 1:num_zipcodes], S[i, j] >= z[i, j])\n",
    "\n",
    "# Ensure T is at least as large as z_ij * wait_time[i, j] for all (i, j) T = max{wait_ij * z_ij}\n",
    "@constraint(model, [i in 1:num_areas, j in 1:num_zipcodes], T >=  wait_time[i, j] * z[i, j])\n",
    "\n",
    "# Capacity constraints for each ambulance station\n",
    "@constraint(model, [i in 1:num_areas], sum(S[i, j] for j in 1:num_zipcodes) <= capacity_vector[i])\n",
    "\n",
    "# Meet the demand for each zipcode\n",
    "@constraint(model, [j in 1:num_zipcodes], sum(S[i, j] for i in 1:num_areas) >= demand_vector[j])\n",
    "\n",
    "# Optimize the model\n",
    "optimize!(model)\n"
   ]
  },
  {
   "cell_type": "code",
   "execution_count": 12,
   "metadata": {},
   "outputs": [
    {
     "name": "stdout",
     "output_type": "stream",
     "text": [
      "Optimal solution found:\n"
     ]
    },
    {
     "data": {
      "text/plain": [
       "9×90 Matrix{Float64}:\n",
       " -0.0  -0.0  -0.0  0.0  0.0  0.0  0.0  …  0.0  0.0  0.0  0.0  0.0  0.0  0.0\n",
       " -0.0  -0.0  -0.0  0.0  0.0  0.0  0.0     0.0  0.0  0.0  0.0  0.0  0.0  0.0\n",
       " -0.0  -0.0  -0.0  0.0  0.0  0.0  0.0     0.0  0.0  0.0  0.0  0.0  0.0  0.0\n",
       " -0.0  -0.0  -0.0  0.0  0.0  0.0  0.0     0.0  0.0  0.0  0.0  0.0  0.0  0.0\n",
       " -0.0  -0.0  -0.0  0.0  0.0  0.0  0.0     0.0  0.0  0.0  0.0  0.0  0.0  0.0\n",
       " -0.0  -0.0  -0.0  0.0  0.0  0.0  0.0  …  0.0  0.0  0.0  0.0  0.0  0.0  0.0\n",
       " -0.0  -0.0  -0.0  0.0  0.0  0.0  0.0     0.0  0.0  0.0  0.0  0.0  0.0  0.0\n",
       " -0.0  -0.0  -0.0  0.0  0.0  0.0  0.0     0.0  0.0  0.0  0.0  0.0  0.0  0.0\n",
       "  3.0   2.0   4.0  0.0  0.0  0.0  0.0     0.0  0.0  0.0  0.0  0.0  0.0  0.0"
      ]
     },
     "execution_count": 12,
     "metadata": {},
     "output_type": "execute_result"
    }
   ],
   "source": [
    "# Check the solution\n",
    "if termination_status(model) == MOI.OPTIMAL\n",
    "    println(\"Optimal solution found:\")\n",
    "    solution = value.(S)\n",
    "else\n",
    "    println(\"No optimal solution found.\")\n",
    "end"
   ]
  },
  {
   "cell_type": "code",
   "execution_count": 13,
   "metadata": {},
   "outputs": [
    {
     "name": "stdout",
     "output_type": "stream",
     "text": [
      "nonzero indices: CartesianIndex{2}[CartesianIndex(9, 1), CartesianIndex(9, 2), CartesianIndex(9, 3), CartesianIndex(3, 8), CartesianIndex(3, 10), CartesianIndex(8, 12), CartesianIndex(3, 13), CartesianIndex(1, 14), CartesianIndex(1, 15), CartesianIndex(7, 16), CartesianIndex(2, 17), CartesianIndex(2, 23), CartesianIndex(1, 24), CartesianIndex(2, 25), CartesianIndex(1, 27), CartesianIndex(1, 29), CartesianIndex(1, 30), CartesianIndex(1, 32), CartesianIndex(1, 33), CartesianIndex(1, 34), CartesianIndex(2, 36), CartesianIndex(1, 37), CartesianIndex(1, 43), CartesianIndex(1, 50)]\n",
      "nonzero values: [3.0, 2.0, 4.0, 1.0, 2.0, 1.0, 3.0, 1.0, 1.0, 2.0, 3.0, 2.0, 1.0, 4.0, 2.0, 1.0, 1.0, 1.0, 3.0, 1.0, 1.0, 3.0, 1.0, 1.0]\n",
      "number of S(i,j)>0:  24\n"
     ]
    }
   ],
   "source": [
    "nonzero_indices = findall(x -> x != 0, solution)  \n",
    "nonzero_values = solution[nonzero_indices]   \n",
    "\n",
    "println(\"nonzero indices: \", nonzero_indices)\n",
    "println(\"nonzero values: \", nonzero_values)\n",
    "println(\"number of S(i,j)>0:  \", length(nonzero_values))\n"
   ]
  },
  {
   "cell_type": "code",
   "execution_count": null,
   "metadata": {},
   "outputs": [],
   "source": []
  },
  {
   "cell_type": "markdown",
   "metadata": {},
   "source": []
  },
  {
   "cell_type": "code",
   "execution_count": 14,
   "metadata": {},
   "outputs": [],
   "source": [
    "assignment_matrix = zeros(Int, num_areas, num_zipcodes)\n",
    "\n",
    "for i in 1:num_areas\n",
    "    for j in 1:num_zipcodes\n",
    "        if solution[i, j] > 0\n",
    "            assigned_count = Int(solution[i, j])\n",
    "        else\n",
    "            assigned_count = 0\n",
    "        end\n",
    "        assignment_matrix[i, j] = assigned_count\n",
    "    end\n",
    "end\n"
   ]
  },
  {
   "cell_type": "code",
   "execution_count": 15,
   "metadata": {},
   "outputs": [
    {
     "data": {
      "text/plain": [
       "9×90 Matrix{Int64}:\n",
       " 0  0  0  0  0  0  0  0  0  0  0  0  0  …  0  0  0  0  0  0  0  0  0  0  0  0\n",
       " 0  0  0  0  0  0  0  0  0  0  0  0  0     0  0  0  0  0  0  0  0  0  0  0  0\n",
       " 0  0  0  0  0  0  0  1  0  2  0  0  3     0  0  0  0  0  0  0  0  0  0  0  0\n",
       " 0  0  0  0  0  0  0  0  0  0  0  0  0     0  0  0  0  0  0  0  0  0  0  0  0\n",
       " 0  0  0  0  0  0  0  0  0  0  0  0  0     0  0  0  0  0  0  0  0  0  0  0  0\n",
       " 0  0  0  0  0  0  0  0  0  0  0  0  0  …  0  0  0  0  0  0  0  0  0  0  0  0\n",
       " 0  0  0  0  0  0  0  0  0  0  0  0  0     0  0  0  0  0  0  0  0  0  0  0  0\n",
       " 0  0  0  0  0  0  0  0  0  0  0  1  0     0  0  0  0  0  0  0  0  0  0  0  0\n",
       " 3  2  4  0  0  0  0  0  0  0  0  0  0     0  0  0  0  0  0  0  0  0  0  0  0"
      ]
     },
     "execution_count": 15,
     "metadata": {},
     "output_type": "execute_result"
    }
   ],
   "source": [
    "assignment_matrix\n"
   ]
  },
  {
   "cell_type": "code",
   "execution_count": null,
   "metadata": {},
   "outputs": [],
   "source": []
  },
  {
   "cell_type": "code",
   "execution_count": 16,
   "metadata": {},
   "outputs": [
    {
     "name": "stdout",
     "output_type": "stream",
     "text": [
      "Matrix saved to MinMax_ambulance_assignments_matrix_named.csv.\n"
     ]
    }
   ],
   "source": [
    "column_names = [string(\"Zipcode_\", j) for j in 1:num_zipcodes]\n",
    "row_names = [string(\"Area_M\", i) for i in 1:num_areas]\n",
    "\n",
    "df = DataFrame(assignment_matrix, Symbol.(column_names))\n",
    "df.Area = row_names\n",
    "\n",
    "CSV.write(\"MinMax_ambulance_assignments_matrix_named.csv\", df)\n",
    "println(\"Matrix saved to MinMax_ambulance_assignments_matrix_named.csv.\")\n"
   ]
  },
  {
   "cell_type": "markdown",
   "metadata": {},
   "source": [
    "# Calculate Cost Matrixs\n",
    "\n",
    "1. cost of a region (number of incidents * waittime)\n",
    "\n",
    "2. cost of single incident"
   ]
  },
  {
   "cell_type": "markdown",
   "metadata": {},
   "source": [
    "1. The following code is the cost(waittime*assignment) matrix."
   ]
  },
  {
   "cell_type": "code",
   "execution_count": 17,
   "metadata": {},
   "outputs": [
    {
     "name": "stdout",
     "output_type": "stream",
     "text": [
      "cost Matrix saved to MinMax_cost_matrix_sijWaitij.csv.\n"
     ]
    }
   ],
   "source": [
    "cost_matrix = assignment_matrix .* wait_time\n",
    "df_cost_matrix = DataFrame(cost_matrix, Symbol.(column_names))\n",
    "df_cost_matrix.Area = row_names\n",
    "CSV.write(\"MinMax_cost_matrix_sijWaitij.csv\", df_cost_matrix)\n",
    "println(\"cost Matrix saved to MinMax_cost_matrix_sijWaitij.csv.\")\n"
   ]
  },
  {
   "cell_type": "markdown",
   "metadata": {},
   "source": [
    "2. The following code is the cost of single incident"
   ]
  },
  {
   "cell_type": "code",
   "execution_count": null,
   "metadata": {},
   "outputs": [],
   "source": []
  }
 ],
 "metadata": {
  "kernelspec": {
   "display_name": "Julia 1.10.4",
   "language": "julia",
   "name": "julia-1.10"
  },
  "language_info": {
   "file_extension": ".jl",
   "mimetype": "application/julia",
   "name": "julia",
   "version": "1.10.4"
  }
 },
 "nbformat": 4,
 "nbformat_minor": 2
}
